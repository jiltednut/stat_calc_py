{
 "cells": [
  {
   "cell_type": "code",
   "execution_count": 1,
   "metadata": {},
   "outputs": [],
   "source": [
    "import pandas as pd\n",
    "import numpy as np\n",
    "import matplotlib.pyplot as plt\n",
    "import seaborn as sns\n",
    "import scipy.stats as stats"
   ]
  },
  {
   "cell_type": "code",
   "execution_count": 2,
   "metadata": {},
   "outputs": [],
   "source": [
    "%matplotlib inline"
   ]
  },
  {
   "cell_type": "code",
   "execution_count": 3,
   "metadata": {},
   "outputs": [],
   "source": [
    "def toss_die():\n",
    "    return np.random.randint(1, 7)"
   ]
  },
  {
   "cell_type": "code",
   "execution_count": 33,
   "metadata": {},
   "outputs": [
    {
     "data": {
      "text/plain": [
       "[6, 3, 5, 3, 2, 4, 3, 4, 2, 2]"
      ]
     },
     "execution_count": 33,
     "metadata": {},
     "output_type": "execute_result"
    }
   ],
   "source": [
    "np.random.seed(123)\n",
    "[toss_die() for x in range(10)]"
   ]
  },
  {
   "cell_type": "code",
   "execution_count": 34,
   "metadata": {},
   "outputs": [],
   "source": [
    "# Exercise 8.01: Sampling with and without replacement\n",
    "# 2.\n",
    "suits = ['hearts', 'diamonds', 'spades', 'clubs']\n",
    "ranks = ['Ace', '2', '3', '4', '5', '6', '7', '8', '9', '10', 'Jack', 'Queen', 'King']"
   ]
  },
  {
   "cell_type": "code",
   "execution_count": 35,
   "metadata": {},
   "outputs": [],
   "source": [
    "# 3.\n",
    "cards = [rank + \"-\" + suit for rank in ranks for suit in suits]"
   ]
  },
  {
   "cell_type": "code",
   "execution_count": 48,
   "metadata": {},
   "outputs": [
    {
     "data": {
      "text/plain": [
       "array(['8-spades', '8-clubs', '4-spades', '10-hearts', '9-spades'],\n",
       "      dtype='<U14')"
      ]
     },
     "execution_count": 48,
     "metadata": {},
     "output_type": "execute_result"
    }
   ],
   "source": [
    "# 4.\n",
    "np.random.choice(cards, size = 5, replace = False)"
   ]
  },
  {
   "cell_type": "code",
   "execution_count": 51,
   "metadata": {},
   "outputs": [],
   "source": [
    "# 5.\n",
    "def deal_hands():\n",
    "    drawn_cards = np.random.choice(cards, size = 10, replace = False)\n",
    "    hand1 = drawn_cards[:5]\n",
    "    hand2 = drawn_cards[5:]\n",
    "    return hand1, hand2"
   ]
  },
  {
   "cell_type": "code",
   "execution_count": 62,
   "metadata": {},
   "outputs": [
    {
     "data": {
      "text/plain": [
       "(array(['2-clubs', '4-clubs', '2-spades', '9-hearts', '9-spades'],\n",
       "       dtype='<U14'),\n",
       " array(['6-hearts', '6-spades', '4-hearts', 'Jack-hearts', '7-diamonds'],\n",
       "       dtype='<U14'))"
      ]
     },
     "execution_count": 62,
     "metadata": {},
     "output_type": "execute_result"
    }
   ],
   "source": [
    "deal_hands()"
   ]
  },
  {
   "cell_type": "code",
   "execution_count": 63,
   "metadata": {},
   "outputs": [],
   "source": [
    "# 6.\n",
    "def deal_hands2():\n",
    "    drawn_cards = np.random.choice(cards, size = 10, replace = True)\n",
    "    hand1 = drawn_cards[:5]\n",
    "    hand2 = drawn_cards[5:]\n",
    "    return hand1, hand2"
   ]
  },
  {
   "cell_type": "code",
   "execution_count": 71,
   "metadata": {},
   "outputs": [
    {
     "data": {
      "text/plain": [
       "(array(['Jack-hearts', '4-clubs', 'Queen-diamonds', '3-hearts', '6-spades'],\n",
       "       dtype='<U14'),\n",
       " array(['Jack-clubs', '5-spades', '3-clubs', 'Jack-hearts', '2-clubs'],\n",
       "       dtype='<U14'))"
      ]
     },
     "execution_count": 71,
     "metadata": {},
     "output_type": "execute_result"
    }
   ],
   "source": [
    "np.random.seed(2)\n",
    "deal_hands2()"
   ]
  },
  {
   "cell_type": "code",
   "execution_count": 72,
   "metadata": {},
   "outputs": [],
   "source": [
    "# Probability as a relative frequency\n",
    "np.random.seed(81)\n",
    "one_million_dice_tosses = np.random.randint(low = 1, high = 7, size = int(1e6))"
   ]
  },
  {
   "cell_type": "code",
   "execution_count": 73,
   "metadata": {},
   "outputs": [
    {
     "data": {
      "text/plain": [
       "array([4, 2, 1, 4, 4, 4, 2, 2, 6, 3])"
      ]
     },
     "execution_count": 73,
     "metadata": {},
     "output_type": "execute_result"
    }
   ],
   "source": [
    "one_million_dice_tosses[:10]"
   ]
  },
  {
   "cell_type": "code",
   "execution_count": 76,
   "metadata": {},
   "outputs": [
    {
     "name": "stdout",
     "output_type": "stream",
     "text": [
      "165950\n",
      "0.16595\n"
     ]
    }
   ],
   "source": [
    "# A: 2\n",
    "# B: 6\n",
    "n_of_A = (one_million_dice_tosses == 2).sum()\n",
    "prob_of_A = n_of_A / one_million_dice_tosses.shape[0] \n",
    "print(n_of_A)\n",
    "print(prob_of_A)"
   ]
  },
  {
   "cell_type": "code",
   "execution_count": 77,
   "metadata": {},
   "outputs": [
    {
     "name": "stdout",
     "output_type": "stream",
     "text": [
      "166809\n",
      "0.166809\n"
     ]
    }
   ],
   "source": [
    "n_of_B = (one_million_dice_tosses == 6).sum()\n",
    "prob_of_B = n_of_B / one_million_dice_tosses.shape[0] \n",
    "print(n_of_B)\n",
    "print(prob_of_B)"
   ]
  },
  {
   "cell_type": "code",
   "execution_count": 87,
   "metadata": {},
   "outputs": [
    {
     "name": "stdout",
     "output_type": "stream",
     "text": [
      "501162\n",
      "0.501162\n"
     ]
    }
   ],
   "source": [
    "n_of_odd = ((one_million_dice_tosses == 1) | (one_million_dice_tosses == 3) | (one_million_dice_tosses == 5)).sum()\n",
    "prob_of_odd = n_of_odd / one_million_dice_tosses.shape[0] \n",
    "print(n_of_odd)\n",
    "print(prob_of_odd)"
   ]
  },
  {
   "cell_type": "code",
   "execution_count": 90,
   "metadata": {},
   "outputs": [
    {
     "name": "stdout",
     "output_type": "stream",
     "text": [
      "666004\n",
      "0.666004\n"
     ]
    }
   ],
   "source": [
    "n_of_comp = ((one_million_dice_tosses < 5)).sum()\n",
    "prob_of_comp = n_of_comp / one_million_dice_tosses.shape[0] \n",
    "print(n_of_comp)\n",
    "print(prob_of_comp)"
   ]
  },
  {
   "cell_type": "code",
   "execution_count": 92,
   "metadata": {},
   "outputs": [],
   "source": [
    "# Defing random variables\n",
    "np.random.seed(55)\n",
    "\n",
    "number_of_dice_tosses = int(1e6)\n",
    "\n",
    "die_1 = np.random.randint(low = 1, high = 7, size = number_of_dice_tosses)\n",
    "die_2 = np.random.randint(low = 1, high = 7, size = number_of_dice_tosses)\n",
    "\n",
    "X = die_1 + die_2\n"
   ]
  },
  {
   "cell_type": "code",
   "execution_count": 94,
   "metadata": {},
   "outputs": [
    {
     "data": {
      "text/plain": [
       "0.083239"
      ]
     },
     "execution_count": 94,
     "metadata": {},
     "output_type": "execute_result"
    }
   ],
   "source": [
    "prob_of_X_10 = (X == 10).sum()/X.shape[0]\n",
    "prob_of_X_10"
   ]
  },
  {
   "cell_type": "code",
   "execution_count": 95,
   "metadata": {},
   "outputs": [
    {
     "data": {
      "text/plain": [
       "0.721723"
      ]
     },
     "execution_count": 95,
     "metadata": {},
     "output_type": "execute_result"
    }
   ],
   "source": [
    "prob_of_X_gtr_5 = (X > 5).sum()/X.shape[0]\n",
    "prob_of_X_gtr_5"
   ]
  },
  {
   "cell_type": "code",
   "execution_count": 97,
   "metadata": {},
   "outputs": [
    {
     "data": {
      "image/png": "[encoded data removed]",
      "text/plain": [
       "<Figure size 432x288 with 1 Axes>"
      ]
     },
     "metadata": {
      "needs_background": "light"
     },
     "output_type": "display_data"
    }
   ],
   "source": [
    "X_s = pd.Series(X)\n",
    "\n",
    "freq_X = X_s.value_counts()\n",
    "freq_X.sort_index().plot(kind = 'bar')\n",
    "plt.grid()"
   ]
  },
  {
   "cell_type": "code",
   "execution_count": 99,
   "metadata": {},
   "outputs": [
    {
     "data": {
      "image/png": "[encoded data removed]",
      "text/plain": [
       "<Figure size 432x288 with 1 Axes>"
      ]
     },
     "metadata": {
      "needs_background": "light"
     },
     "output_type": "display_data"
    }
   ],
   "source": [
    "freq_prob_X = X_s.value_counts()/X.shape[0]\n",
    "freq_prob_X.sort_index().plot(kind = 'bar')\n",
    "plt.grid()"
   ]
  },
  {
   "cell_type": "code",
   "execution_count": 149,
   "metadata": {},
   "outputs": [],
   "source": [
    "np.random.seed(97)\n",
    "ten_coins_one_million_times = np.random.randint(low = 0, high = 2, size = int(10e6)).reshape(-1, 10)"
   ]
  },
  {
   "cell_type": "code",
   "execution_count": 101,
   "metadata": {},
   "outputs": [],
   "source": [
    "Y = ten_coins_one_million_times.sum(axis = 1)"
   ]
  },
  {
   "cell_type": "code",
   "execution_count": 103,
   "metadata": {},
   "outputs": [
    {
     "data": {
      "text/plain": [
       "0.000986"
      ]
     },
     "execution_count": 103,
     "metadata": {},
     "output_type": "execute_result"
    }
   ],
   "source": [
    "Prob_Y_is_zero = (Y == 0).sum()/Y.shape[0]\n",
    "Prob_Y_is_zero"
   ]
  },
  {
   "cell_type": "code",
   "execution_count": 104,
   "metadata": {},
   "outputs": [
    {
     "data": {
      "text/plain": [
       "0.000961"
      ]
     },
     "execution_count": 104,
     "metadata": {},
     "output_type": "execute_result"
    }
   ],
   "source": [
    "Prob_Y_is_ten = (Y == 10).sum()/Y.shape[0]\n",
    "Prob_Y_is_ten"
   ]
  },
  {
   "cell_type": "code",
   "execution_count": 145,
   "metadata": {},
   "outputs": [
    {
     "data": {
      "text/plain": [
       "(11,)"
      ]
     },
     "execution_count": 145,
     "metadata": {},
     "output_type": "execute_result"
    },
    {
     "data": {
      "image/png": "[encoded data removed]",
      "text/plain": [
       "<Figure size 432x288 with 1 Axes>"
      ]
     },
     "metadata": {
      "needs_background": "light"
     },
     "output_type": "display_data"
    }
   ],
   "source": [
    "Y = pd.Series(Y)\n",
    "\n",
    "freq_Y = Y.value_counts()\n",
    "prob_Y = freq_Y / Y.shape[0]\n",
    "\n",
    "prob_Y.sort_index().plot(kind = 'bar')\n",
    "plt.grid()"
   ]
  },
  {
   "cell_type": "code",
   "execution_count": 107,
   "metadata": {},
   "outputs": [
    {
     "data": {
      "text/plain": [
       "4    0.205283\n",
       "5    0.246114\n",
       "6    0.205761\n",
       "dtype: float64"
      ]
     },
     "execution_count": 107,
     "metadata": {},
     "output_type": "execute_result"
    }
   ],
   "source": [
    "prob_Y.loc[[4, 5, 6]]"
   ]
  },
  {
   "cell_type": "code",
   "execution_count": 108,
   "metadata": {},
   "outputs": [
    {
     "data": {
      "text/plain": [
       "0.657158"
      ]
     },
     "execution_count": 108,
     "metadata": {},
     "output_type": "execute_result"
    }
   ],
   "source": [
    "prob_Y.loc[[4, 5, 6]].sum()"
   ]
  },
  {
   "cell_type": "code",
   "execution_count": 109,
   "metadata": {},
   "outputs": [],
   "source": [
    "# Exercise 8.02: Calculating the average wins in roulette\n",
    "# 2.\n",
    "def roulette(num_games = 1):\n",
    "    # Generate the wheel\n",
    "    roulette_nums = np.arange(0, 37)\n",
    "    \n",
    "    outcome = np.random.choice(a = roulette_nums, size = num_games, replace = True)\n",
    "    \n",
    "    return outcome"
   ]
  },
  {
   "cell_type": "code",
   "execution_count": 111,
   "metadata": {},
   "outputs": [],
   "source": [
    "# 3.\n",
    "def payoff(outcome, units = 1):\n",
    "    payout = 0\n",
    "    # bet m units on the numbers from 19:36\n",
    "    # if the outcome is any oF the selected numbers then you win m units\n",
    "    if outcome > 18:\n",
    "        payout = units\n",
    "    else:\n",
    "        # you lose the m units\n",
    "        payout =- units\n",
    "    return payout"
   ]
  },
  {
   "cell_type": "code",
   "execution_count": 113,
   "metadata": {},
   "outputs": [],
   "source": [
    "# 4.\n",
    "payoff = np.vectorize(payoff)"
   ]
  },
  {
   "cell_type": "code",
   "execution_count": 121,
   "metadata": {},
   "outputs": [
    {
     "name": "stdout",
     "output_type": "stream",
     "text": [
      "486993\n",
      "-26014\n",
      "-0.026014\n"
     ]
    }
   ],
   "source": [
    "# 5.\n",
    "number_of_spins = int(1e6)\n",
    "outcomes = roulette(number_of_spins)\n",
    "payoffs = payoff(outcomes)\n",
    "\n",
    "print((outcomes > 18).sum())\n",
    "print(payoffs.sum())\n",
    "print(np.mean(payoffs))"
   ]
  },
  {
   "cell_type": "code",
   "execution_count": 124,
   "metadata": {},
   "outputs": [
    {
     "data": {
      "text/plain": [
       "array(['good', 'good', 'good', 'good', 'good', 'good', 'good',\n",
       "       'defective', 'good', 'good', 'good', 'good'], dtype='<U9')"
      ]
     },
     "execution_count": 124,
     "metadata": {},
     "output_type": "execute_result"
    }
   ],
   "source": [
    "# Discrete Random variables\n",
    "np.random.seed(977)\n",
    "np.random.choice(['defective', 'good'], size = 12, p = (0.04, 0.96))"
   ]
  },
  {
   "cell_type": "code",
   "execution_count": 127,
   "metadata": {},
   "outputs": [],
   "source": [
    "np.random.seed(10)\n",
    "\n",
    "n_boxes = int(1e6)\n",
    "parts_per_box = 12\n",
    "\n",
    "one_million_boxes = np.random.choice([1, 0], size = (n_boxes, parts_per_box), p = (0.04, 0.96))"
   ]
  },
  {
   "cell_type": "code",
   "execution_count": 130,
   "metadata": {},
   "outputs": [
    {
     "data": {
      "text/plain": [
       "0.480512"
      ]
     },
     "execution_count": 130,
     "metadata": {},
     "output_type": "execute_result"
    }
   ],
   "source": [
    "defective_pieces_per_box = one_million_boxes.sum(axis = 1)\n",
    "np.mean(defective_pieces_per_box)"
   ]
  },
  {
   "cell_type": "code",
   "execution_count": 132,
   "metadata": {},
   "outputs": [],
   "source": [
    "defective_pieces_per_box = pd.Series(defective_pieces_per_box)\n",
    "freq = defective_pieces_per_box.value_counts()\n",
    "probs = freq / n_boxes"
   ]
  },
  {
   "cell_type": "code",
   "execution_count": 133,
   "metadata": {},
   "outputs": [
    {
     "data": {
      "image/png": "[encoded data removed]",
      "text/plain": [
       "<Figure size 432x288 with 1 Axes>"
      ]
     },
     "metadata": {
      "needs_background": "light"
     },
     "output_type": "display_data"
    }
   ],
   "source": [
    "probs.sort_index().plot(kind = 'bar')\n",
    "plt.grid()"
   ]
  },
  {
   "cell_type": "code",
   "execution_count": 134,
   "metadata": {},
   "outputs": [],
   "source": [
    "# The Binomial Distribution\n",
    "Y_rv = stats.binom(n = 10, p = 0.5)"
   ]
  },
  {
   "cell_type": "code",
   "execution_count": 150,
   "metadata": {},
   "outputs": [],
   "source": [
    "y_vals = np.arange(0, 11)\n",
    "Y_probs = Y_rv.pmf(y_vals)"
   ]
  },
  {
   "cell_type": "code",
   "execution_count": 151,
   "metadata": {},
   "outputs": [
    {
     "data": {
      "image/png": "[encoded data removed]",
      "text/plain": [
       "<Figure size 432x288 with 1 Axes>"
      ]
     },
     "metadata": {
      "needs_background": "light"
     },
     "output_type": "display_data"
    }
   ],
   "source": [
    "fig, ax = plt.subplots()\n",
    "ax.bar(y_vals, Y_probs)\n",
    "ax.set_xticks(y_vals)\n",
    "ax.grid()"
   ]
  },
  {
   "cell_type": "code",
   "execution_count": 156,
   "metadata": {},
   "outputs": [
    {
     "data": {
      "image/png": "[encoded data removed]",
      "text/plain": [
       "<Figure size 432x288 with 1 Axes>"
      ]
     },
     "metadata": {
      "needs_background": "light"
     },
     "output_type": "display_data"
    }
   ],
   "source": [
    "Y_rv_df = pd.DataFrame({'Y_sim_pmf': prob_Y, 'Y_theory_pmf': Y_probs}, index = y_vals)\n",
    "Y_rv_df.plot(kind = 'bar')\n",
    "plt.grid()"
   ]
  },
  {
   "cell_type": "code",
   "execution_count": 157,
   "metadata": {},
   "outputs": [],
   "source": [
    "# Exercise 8.03: Checking if a random varuable follows the binomial distribution\n",
    "# 5.\n",
    "parts_per_box = 12\n",
    "\n",
    "Z_rv = stats.binom(n = 12, p = 0.04)"
   ]
  },
  {
   "cell_type": "code",
   "execution_count": 159,
   "metadata": {},
   "outputs": [
    {
     "data": {
      "image/png": "[encoded data removed]",
      "text/plain": [
       "<Figure size 432x288 with 1 Axes>"
      ]
     },
     "metadata": {
      "needs_background": "light"
     },
     "output_type": "display_data"
    }
   ],
   "source": [
    "# 6\n",
    "z_possible_vals = np.arange(0, parts_per_box + 1)\n",
    "\n",
    "Z_probs = Z_rv.pmf(z_possible_vals)\n",
    "\n",
    "fig, ax = plt.subplots()\n",
    "ax.bar(z_possible_vals, Z_probs)\n",
    "ax.set_xticks(z_possible_vals)\n",
    "ax.grid()"
   ]
  },
  {
   "cell_type": "code",
   "execution_count": 162,
   "metadata": {},
   "outputs": [],
   "source": [
    "# Continuous Random variables\n",
    "games = pd.read_csv(\"../Chapter_7/appstore_games.csv\")\n",
    "original_cols_dict = {x: x.lower().replace(\" \", \"_\") for x in games.columns}\n",
    "games.rename(columns = original_cols_dict, inplace = True)"
   ]
  },
  {
   "cell_type": "code",
   "execution_count": 163,
   "metadata": {},
   "outputs": [
    {
     "data": {
      "text/plain": [
       "<AxesSubplot:>"
      ]
     },
     "execution_count": 163,
     "metadata": {},
     "output_type": "execute_result"
    },
    {
     "data": {
      "image/png": "[encoded data removed]",
      "text/plain": [
       "<Figure size 432x288 with 1 Axes>"
      ]
     },
     "metadata": {
      "needs_background": "light"
     },
     "output_type": "display_data"
    }
   ],
   "source": [
    "games['size'] = games['size'] / (1e6)\n",
    "games['size'] = games['size'].fillna(games['size'].median())\n",
    "games['size'].hist(bins = 30, ec = 'k')"
   ]
  },
  {
   "cell_type": "code",
   "execution_count": 164,
   "metadata": {},
   "outputs": [],
   "source": [
    "# get the number of games to use as denominator\n",
    "number_of_games = games['size'].size\n",
    "# calculate probabilities\n",
    "prob_X_gt_100 = (games['size'] > 100).sum()/number_of_games\n",
    "\n",
    "prob_X_bt_100_and_400 = ((games['size'] >= 100) & \n",
    "                         (games['size'] <= 400)).sum()/number_of_games\n",
    "\n",
    "prob_X_eq_152_53 = (games['size'] == 152.53).sum()/number_of_games"
   ]
  },
  {
   "cell_type": "code",
   "execution_count": 165,
   "metadata": {},
   "outputs": [
    {
     "name": "stdout",
     "output_type": "stream",
     "text": [
      "0.33098136061621686\n",
      "0.28305991650496853\n",
      "0.0\n"
     ]
    }
   ],
   "source": [
    "print(prob_X_gt_100)\n",
    "print(prob_X_bt_100_and_400)\n",
    "print(prob_X_eq_152_53)\n"
   ]
  }
 ],
 "metadata": {
  "kernelspec": {
   "display_name": "Python 3",
   "language": "python",
   "name": "python3"
  },
  "language_info": {
   "codemirror_mode": {
    "name": "ipython",
    "version": 3
   },
   "file_extension": ".py",
   "mimetype": "text/x-python",
   "name": "python",
   "nbconvert_exporter": "python",
   "pygments_lexer": "ipython3",
   "version": "3.8.5"
  }
 },
 "nbformat": 4,
 "nbformat_minor": 4
}
