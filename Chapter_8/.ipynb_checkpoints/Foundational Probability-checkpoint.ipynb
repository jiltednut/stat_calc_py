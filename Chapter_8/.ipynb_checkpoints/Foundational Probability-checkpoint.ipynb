{
 "cells": [
  {
   "cell_type": "code",
   "execution_count": 1,
   "metadata": {},
   "outputs": [],
   "source": [
    "import pandas as pd\n",
    "import numpy as np\n",
    "import matplotlib.pyplot as plt\n",
    "import seaborn as sns\n",
    "import scipy.stats as stats"
   ]
  },
  {
   "cell_type": "code",
   "execution_count": 2,
   "metadata": {},
   "outputs": [],
   "source": [
    "%matplotlib inline"
   ]
  },
  {
   "cell_type": "code",
   "execution_count": 3,
   "metadata": {},
   "outputs": [],
   "source": [
    "def toss_die():\n",
    "    return np.random.randint(1, 7)"
   ]
  },
  {
   "cell_type": "code",
   "execution_count": 33,
   "metadata": {},
   "outputs": [
    {
     "data": {
      "text/plain": [
       "[6, 3, 5, 3, 2, 4, 3, 4, 2, 2]"
      ]
     },
     "execution_count": 33,
     "metadata": {},
     "output_type": "execute_result"
    }
   ],
   "source": [
    "np.random.seed(123)\n",
    "[toss_die() for x in range(10)]"
   ]
  },
  {
   "cell_type": "code",
   "execution_count": 34,
   "metadata": {},
   "outputs": [],
   "source": [
    "# Exercise 8.01: Sampling with and without replacement\n",
    "# 2.\n",
    "suits = ['hearts', 'diamonds', 'spades', 'clubs']\n",
    "ranks = ['Ace', '2', '3', '4', '5', '6', '7', '8', '9', '10', 'Jack', 'Queen', 'King']"
   ]
  },
  {
   "cell_type": "code",
   "execution_count": 35,
   "metadata": {},
   "outputs": [],
   "source": [
    "# 3.\n",
    "cards = [rank + \"-\" + suit for rank in ranks for suit in suits]"
   ]
  },
  {
   "cell_type": "code",
   "execution_count": 48,
   "metadata": {},
   "outputs": [
    {
     "data": {
      "text/plain": [
       "array(['8-spades', '8-clubs', '4-spades', '10-hearts', '9-spades'],\n",
       "      dtype='<U14')"
      ]
     },
     "execution_count": 48,
     "metadata": {},
     "output_type": "execute_result"
    }
   ],
   "source": [
    "# 4.\n",
    "np.random.choice(cards, size = 5, replace = False)"
   ]
  },
  {
   "cell_type": "code",
   "execution_count": 51,
   "metadata": {},
   "outputs": [],
   "source": [
    "# 5.\n",
    "def deal_hands():\n",
    "    drawn_cards = np.random.choice(cards, size = 10, replace = False)\n",
    "    hand1 = drawn_cards[:5]\n",
    "    hand2 = drawn_cards[5:]\n",
    "    return hand1, hand2"
   ]
  },
  {
   "cell_type": "code",
   "execution_count": 62,
   "metadata": {},
   "outputs": [
    {
     "data": {
      "text/plain": [
       "(array(['2-clubs', '4-clubs', '2-spades', '9-hearts', '9-spades'],\n",
       "       dtype='<U14'),\n",
       " array(['6-hearts', '6-spades', '4-hearts', 'Jack-hearts', '7-diamonds'],\n",
       "       dtype='<U14'))"
      ]
     },
     "execution_count": 62,
     "metadata": {},
     "output_type": "execute_result"
    }
   ],
   "source": [
    "deal_hands()"
   ]
  },
  {
   "cell_type": "code",
   "execution_count": 63,
   "metadata": {},
   "outputs": [],
   "source": [
    "# 6.\n",
    "def deal_hands2():\n",
    "    drawn_cards = np.random.choice(cards, size = 10, replace = True)\n",
    "    hand1 = drawn_cards[:5]\n",
    "    hand2 = drawn_cards[5:]\n",
    "    return hand1, hand2"
   ]
  },
  {
   "cell_type": "code",
   "execution_count": 71,
   "metadata": {},
   "outputs": [
    {
     "data": {
      "text/plain": [
       "(array(['Jack-hearts', '4-clubs', 'Queen-diamonds', '3-hearts', '6-spades'],\n",
       "       dtype='<U14'),\n",
       " array(['Jack-clubs', '5-spades', '3-clubs', 'Jack-hearts', '2-clubs'],\n",
       "       dtype='<U14'))"
      ]
     },
     "execution_count": 71,
     "metadata": {},
     "output_type": "execute_result"
    }
   ],
   "source": [
    "np.random.seed(2)\n",
    "deal_hands2()"
   ]
  },
  {
   "cell_type": "code",
   "execution_count": 72,
   "metadata": {},
   "outputs": [],
   "source": [
    "# Probability as a relative frequency\n",
    "np.random.seed(81)\n",
    "one_million_dice_tosses = np.random.randint(low = 1, high = 7, size = int(1e6))"
   ]
  },
  {
   "cell_type": "code",
   "execution_count": 73,
   "metadata": {},
   "outputs": [
    {
     "data": {
      "text/plain": [
       "array([4, 2, 1, 4, 4, 4, 2, 2, 6, 3])"
      ]
     },
     "execution_count": 73,
     "metadata": {},
     "output_type": "execute_result"
    }
   ],
   "source": [
    "one_million_dice_tosses[:10]"
   ]
  },
  {
   "cell_type": "code",
   "execution_count": 76,
   "metadata": {},
   "outputs": [
    {
     "name": "stdout",
     "output_type": "stream",
     "text": [
      "165950\n",
      "0.16595\n"
     ]
    }
   ],
   "source": [
    "# A: 2\n",
    "# B: 6\n",
    "n_of_A = (one_million_dice_tosses == 2).sum()\n",
    "prob_of_A = n_of_A / one_million_dice_tosses.shape[0] \n",
    "print(n_of_A)\n",
    "print(prob_of_A)"
   ]
  },
  {
   "cell_type": "code",
   "execution_count": 77,
   "metadata": {},
   "outputs": [
    {
     "name": "stdout",
     "output_type": "stream",
     "text": [
      "166809\n",
      "0.166809\n"
     ]
    }
   ],
   "source": [
    "n_of_B = (one_million_dice_tosses == 6).sum()\n",
    "prob_of_B = n_of_B / one_million_dice_tosses.shape[0] \n",
    "print(n_of_B)\n",
    "print(prob_of_B)"
   ]
  },
  {
   "cell_type": "code",
   "execution_count": 87,
   "metadata": {},
   "outputs": [
    {
     "name": "stdout",
     "output_type": "stream",
     "text": [
      "501162\n",
      "0.501162\n"
     ]
    }
   ],
   "source": [
    "n_of_odd = ((one_million_dice_tosses == 1) | (one_million_dice_tosses == 3) | (one_million_dice_tosses == 5)).sum()\n",
    "prob_of_odd = n_of_odd / one_million_dice_tosses.shape[0] \n",
    "print(n_of_odd)\n",
    "print(prob_of_odd)"
   ]
  },
  {
   "cell_type": "code",
   "execution_count": 90,
   "metadata": {},
   "outputs": [
    {
     "name": "stdout",
     "output_type": "stream",
     "text": [
      "666004\n",
      "0.666004\n"
     ]
    }
   ],
   "source": [
    "n_of_comp = ((one_million_dice_tosses < 5)).sum()\n",
    "prob_of_comp = n_of_comp / one_million_dice_tosses.shape[0] \n",
    "print(n_of_comp)\n",
    "print(prob_of_comp)"
   ]
  },
  {
   "cell_type": "code",
   "execution_count": 92,
   "metadata": {},
   "outputs": [],
   "source": [
    "# Defing random variables\n",
    "np.random.seed(55)\n",
    "\n",
    "number_of_dice_tosses = int(1e6)\n",
    "\n",
    "die_1 = np.random.randint(low = 1, high = 7, size = number_of_dice_tosses)\n",
    "die_2 = np.random.randint(low = 1, high = 7, size = number_of_dice_tosses)\n",
    "\n",
    "X = die_1 + die_2\n"
   ]
  },
  {
   "cell_type": "code",
   "execution_count": 94,
   "metadata": {},
   "outputs": [
    {
     "data": {
      "text/plain": [
       "0.083239"
      ]
     },
     "execution_count": 94,
     "metadata": {},
     "output_type": "execute_result"
    }
   ],
   "source": [
    "prob_of_X_10 = (X == 10).sum()/X.shape[0]\n",
    "prob_of_X_10"
   ]
  },
  {
   "cell_type": "code",
   "execution_count": 95,
   "metadata": {},
   "outputs": [
    {
     "data": {
      "text/plain": [
       "0.721723"
      ]
     },
     "execution_count": 95,
     "metadata": {},
     "output_type": "execute_result"
    }
   ],
   "source": [
    "prob_of_X_gtr_5 = (X > 5).sum()/X.shape[0]\n",
    "prob_of_X_gtr_5"
   ]
  },
  {
   "cell_type": "code",
   "execution_count": 97,
   "metadata": {},
   "outputs": [
    {
     "data": {
      "image/png": "[encoded data removed]",
      "text/plain": [
       "<Figure size 432x288 with 1 Axes>"
      ]
     },
     "metadata": {
      "needs_background": "light"
     },
     "output_type": "display_data"
    }
   ],
   "source": [
    "X_s = pd.Series(X)\n",
    "\n",
    "freq_X = X_s.value_counts()\n",
    "freq_X.sort_index().plot(kind = 'bar')\n",
    "plt.grid()"
   ]
  },
  {
   "cell_type": "code",
   "execution_count": 99,
   "metadata": {},
   "outputs": [
    {
     "data": {
      "image/png": "[encoded data removed]",
      "text/plain": [
       "<Figure size 432x288 with 1 Axes>"
      ]
     },
     "metadata": {
      "needs_background": "light"
     },
     "output_type": "display_data"
    }
   ],
   "source": [
    "freq_prob_X = X_s.value_counts()/X.shape[0]\n",
    "freq_prob_X.sort_index().plot(kind = 'bar')\n",
    "plt.grid()"
   ]
  },
  {
   "cell_type": "code",
   "execution_count": 149,
   "metadata": {},
   "outputs": [],
   "source": [
    "np.random.seed(97)\n",
    "ten_coins_one_million_times = np.random.randint(low = 0, high = 2, size = int(10e6)).reshape(-1, 10)"
   ]
  },
  {
   "cell_type": "code",
   "execution_count": 101,
   "metadata": {},
   "outputs": [],
   "source": [
    "Y = ten_coins_one_million_times.sum(axis = 1)"
   ]
  },
  {
   "cell_type": "code",
   "execution_count": 103,
   "metadata": {},
   "outputs": [
    {
     "data": {
      "text/plain": [
       "0.000986"
      ]
     },
     "execution_count": 103,
     "metadata": {},
     "output_type": "execute_result"
    }
   ],
   "source": [
    "Prob_Y_is_zero = (Y == 0).sum()/Y.shape[0]\n",
    "Prob_Y_is_zero"
   ]
  },
  {
   "cell_type": "code",
   "execution_count": 104,
   "metadata": {},
   "outputs": [
    {
     "data": {
      "text/plain": [
       "0.000961"
      ]
     },
     "execution_count": 104,
     "metadata": {},
     "output_type": "execute_result"
    }
   ],
   "source": [
    "Prob_Y_is_ten = (Y == 10).sum()/Y.shape[0]\n",
    "Prob_Y_is_ten"
   ]
  },
  {
   "cell_type": "code",
   "execution_count": 145,
   "metadata": {},
   "outputs": [
    {
     "data": {
      "text/plain": [
       "(11,)"
      ]
     },
     "execution_count": 145,
     "metadata": {},
     "output_type": "execute_result"
    },
    {
     "data": {
      "image/png": "[encoded data removed]",
      "text/plain": [
       "<Figure size 432x288 with 1 Axes>"
      ]
     },
     "metadata": {
      "needs_background": "light"
     },
     "output_type": "display_data"
    }
   ],
   "source": [
    "Y = pd.Series(Y)\n",
    "\n",
    "freq_Y = Y.value_counts()\n",
    "prob_Y = freq_Y / Y.shape[0]\n",
    "\n",
    "prob_Y.sort_index().plot(kind = 'bar')\n",
    "plt.grid()"
   ]
  },
  {
   "cell_type": "code",
   "execution_count": 107,
   "metadata": {},
   "outputs": [
    {
     "data": {
      "text/plain": [
       "4    0.205283\n",
       "5    0.246114\n",
       "6    0.205761\n",
       "dtype: float64"
      ]
     },
     "execution_count": 107,
     "metadata": {},
     "output_type": "execute_result"
    }
   ],
   "source": [
    "prob_Y.loc[[4, 5, 6]]"
   ]
  },
  {
   "cell_type": "code",
   "execution_count": 108,
   "metadata": {},
   "outputs": [
    {
     "data": {
      "text/plain": [
       "0.657158"
      ]
     },
     "execution_count": 108,
     "metadata": {},
     "output_type": "execute_result"
    }
   ],
   "source": [
    "prob_Y.loc[[4, 5, 6]].sum()"
   ]
  },
  {
   "cell_type": "code",
   "execution_count": 109,
   "metadata": {},
   "outputs": [],
   "source": [
    "# Exercise 8.02: Calculating the average wins in roulette\n",
    "# 2.\n",
    "def roulette(num_games = 1):\n",
    "    # Generate the wheel\n",
    "    roulette_nums = np.arange(0, 37)\n",
    "    \n",
    "    outcome = np.random.choice(a = roulette_nums, size = num_games, replace = True)\n",
    "    \n",
    "    return outcome"
   ]
  },
  {
   "cell_type": "code",
   "execution_count": 111,
   "metadata": {},
   "outputs": [],
   "source": [
    "# 3.\n",
    "def payoff(outcome, units = 1):\n",
    "    payout = 0\n",
    "    # bet m units on the numbers from 19:36\n",
    "    # if the outcome is any oF the selected numbers then you win m units\n",
    "    if outcome > 18:\n",
    "        payout = units\n",
    "    else:\n",
    "        # you lose the m units\n",
    "        payout =- units\n",
    "    return payout"
   ]
  },
  {
   "cell_type": "code",
   "execution_count": 113,
   "metadata": {},
   "outputs": [],
   "source": [
    "# 4.\n",
    "payoff = np.vectorize(payoff)"
   ]
  },
  {
   "cell_type": "code",
   "execution_count": 121,
   "metadata": {},
   "outputs": [
    {
     "name": "stdout",
     "output_type": "stream",
     "text": [
      "486993\n",
      "-26014\n",
      "-0.026014\n"
     ]
    }
   ],
   "source": [
    "# 5.\n",
    "number_of_spins = int(1e6)\n",
    "outcomes = roulette(number_of_spins)\n",
    "payoffs = payoff(outcomes)\n",
    "\n",
    "print((outcomes > 18).sum())\n",
    "print(payoffs.sum())\n",
    "print(np.mean(payoffs))"
   ]
  },
  {
   "cell_type": "code",
   "execution_count": 124,
   "metadata": {},
   "outputs": [
    {
     "data": {
      "text/plain": [
       "array(['good', 'good', 'good', 'good', 'good', 'good', 'good',\n",
       "       'defective', 'good', 'good', 'good', 'good'], dtype='<U9')"
      ]
     },
     "execution_count": 124,
     "metadata": {},
     "output_type": "execute_result"
    }
   ],
   "source": [
    "# Discrete Random variables\n",
    "np.random.seed(977)\n",
    "np.random.choice(['defective', 'good'], size = 12, p = (0.04, 0.96))"
   ]
  },
  {
   "cell_type": "code",
   "execution_count": 127,
   "metadata": {},
   "outputs": [],
   "source": [
    "np.random.seed(10)\n",
    "\n",
    "n_boxes = int(1e6)\n",
    "parts_per_box = 12\n",
    "\n",
    "one_million_boxes = np.random.choice([1, 0], size = (n_boxes, parts_per_box), p = (0.04, 0.96))"
   ]
  },
  {
   "cell_type": "code",
   "execution_count": 130,
   "metadata": {},
   "outputs": [
    {
     "data": {
      "text/plain": [
       "0.480512"
      ]
     },
     "execution_count": 130,
     "metadata": {},
     "output_type": "execute_result"
    }
   ],
   "source": [
    "defective_pieces_per_box = one_million_boxes.sum(axis = 1)\n",
    "np.mean(defective_pieces_per_box)"
   ]
  },
  {
   "cell_type": "code",
   "execution_count": 132,
   "metadata": {},
   "outputs": [],
   "source": [
    "defective_pieces_per_box = pd.Series(defective_pieces_per_box)\n",
    "freq = defective_pieces_per_box.value_counts()\n",
    "probs = freq / n_boxes"
   ]
  },
  {
   "cell_type": "code",
   "execution_count": 133,
   "metadata": {},
   "outputs": [
    {
     "data": {
      "image/png": "[encoded data removed]",
      "text/plain": [
       "<Figure size 432x288 with 1 Axes>"
      ]
     },
     "metadata": {
      "needs_background": "light"
     },
     "output_type": "display_data"
    }
   ],
   "source": [
    "probs.sort_index().plot(kind = 'bar')\n",
    "plt.grid()"
   ]
  },
  {
   "cell_type": "code",
   "execution_count": 134,
   "metadata": {},
   "outputs": [],
   "source": [
    "# The Binomial Distribution\n",
    "Y_rv = stats.binom(n = 10, p = 0.5)"
   ]
  },
  {
   "cell_type": "code",
   "execution_count": 150,
   "metadata": {},
   "outputs": [],
   "source": [
    "y_vals = np.arange(0, 11)\n",
    "Y_probs = Y_rv.pmf(y_vals)"
   ]
  },
  {
   "cell_type": "code",
   "execution_count": 151,
   "metadata": {},
   "outputs": [
    {
     "data": {
      "image/png": "[encoded data removed]",
      "text/plain": [
       "<Figure size 432x288 with 1 Axes>"
      ]
     },
     "metadata": {
      "needs_background": "light"
     },
     "output_type": "display_data"
    }
   ],
   "source": [
    "fig, ax = plt.subplots()\n",
    "ax.bar(y_vals, Y_probs)\n",
    "ax.set_xticks(y_vals)\n",
    "ax.grid()"
   ]
  },
  {
   "cell_type": "code",
   "execution_count": 156,
   "metadata": {},
   "outputs": [
    {
     "data": {
      "image/png": "[encoded data removed]",
      "text/plain": [
       "<Figure size 432x288 with 1 Axes>"
      ]
     },
     "metadata": {
      "needs_background": "light"
     },
     "output_type": "display_data"
    }
   ],
   "source": [
    "Y_rv_df = pd.DataFrame({'Y_sim_pmf': prob_Y, 'Y_theory_pmf': Y_probs}, index = y_vals)\n",
    "Y_rv_df.plot(kind = 'bar')\n",
    "plt.grid()"
   ]
  },
  {
   "cell_type": "code",
   "execution_count": 157,
   "metadata": {},
   "outputs": [],
   "source": [
    "# Exercise 8.03: Checking if a random varuable follows the binomial distribution\n",
    "# 5.\n",
    "parts_per_box = 12\n",
    "\n",
    "Z_rv = stats.binom(n = 12, p = 0.04)"
   ]
  },
  {
   "cell_type": "code",
   "execution_count": 159,
   "metadata": {},
   "outputs": [
    {
     "data": {
      "image/png": "[encoded data removed]",
      "text/plain": [
       "<Figure size 432x288 with 1 Axes>"
      ]
     },
     "metadata": {
      "needs_background": "light"
     },
     "output_type": "display_data"
    }
   ],
   "source": [
    "# 6\n",
    "z_possible_vals = np.arange(0, parts_per_box + 1)\n",
    "\n",
    "Z_probs = Z_rv.pmf(z_possible_vals)\n",
    "\n",
    "fig, ax = plt.subplots()\n",
    "ax.bar(z_possible_vals, Z_probs)\n",
    "ax.set_xticks(z_possible_vals)\n",
    "ax.grid()"
   ]
  },
  {
   "cell_type": "code",
   "execution_count": 162,
   "metadata": {},
   "outputs": [],
   "source": [
    "# Continuous Random variables\n",
    "games = pd.read_csv(\"../Chapter_7/appstore_games.csv\")\n",
    "original_cols_dict = {x: x.lower().replace(\" \", \"_\") for x in games.columns}\n",
    "games.rename(columns = original_cols_dict, inplace = True)"
   ]
  },
  {
   "cell_type": "code",
   "execution_count": 163,
   "metadata": {},
   "outputs": [
    {
     "data": {
      "text/plain": [
       "<AxesSubplot:>"
      ]
     },
     "execution_count": 163,
     "metadata": {},
     "output_type": "execute_result"
    },
    {
     "data": {
      "image/png": "[encoded data removed]",
      "text/plain": [
       "<Figure size 432x288 with 1 Axes>"
      ]
     },
     "metadata": {
      "needs_background": "light"
     },
     "output_type": "display_data"
    }
   ],
   "source": [
    "games['size'] = games['size'] / (1e6)\n",
    "games['size'] = games['size'].fillna(games['size'].median())\n",
    "games['size'].hist(bins = 30, ec = 'k')"
   ]
  },
  {
   "cell_type": "code",
   "execution_count": 164,
   "metadata": {},
   "outputs": [],
   "source": [
    "# get the number of games to use as denominator\n",
    "number_of_games = games['size'].size\n",
    "# calculate probabilities\n",
    "prob_X_gt_100 = (games['size'] > 100).sum()/number_of_games\n",
    "\n",
    "prob_X_bt_100_and_400 = ((games['size'] >= 100) & \n",
    "                         (games['size'] <= 400)).sum()/number_of_games\n",
    "\n",
    "prob_X_eq_152_53 = (games['size'] == 152.53).sum()/number_of_games"
   ]
  },
  {
   "cell_type": "code",
   "execution_count": 165,
   "metadata": {},
   "outputs": [
    {
     "name": "stdout",
     "output_type": "stream",
     "text": [
      "0.33098136061621686\n",
      "0.28305991650496853\n",
      "0.0\n"
     ]
    }
   ],
   "source": [
    "print(prob_X_gt_100)\n",
    "print(prob_X_bt_100_and_400)\n",
    "print(prob_X_eq_152_53)\n"
   ]
  },
  {
   "cell_type": "code",
   "execution_count": 169,
   "metadata": {},
   "outputs": [
    {
     "data": {
      "text/plain": [
       "0.03520653267642995"
      ]
     },
     "execution_count": 169,
     "metadata": {},
     "output_type": "execute_result"
    }
   ],
   "source": [
    "# The Normal Distribution\n",
    "mean = 170\n",
    "sd = 10\n",
    "\n",
    "heights_rv = stats.norm(loc = mean, scale = sd)\n",
    "heights_rv.pdf(175)"
   ]
  },
  {
   "cell_type": "code",
   "execution_count": 171,
   "metadata": {},
   "outputs": [
    {
     "data": {
      "image/png": "[encoded data removed]",
      "text/plain": [
       "<Figure size 432x288 with 1 Axes>"
      ]
     },
     "metadata": {
      "needs_background": "light"
     },
     "output_type": "display_data"
    }
   ],
   "source": [
    "values = np.linspace(130, 210, num = 200)\n",
    "heights_rv_pdf = heights_rv.pdf(values)\n",
    "\n",
    "plt.plot(values, heights_rv_pdf)\n",
    "plt.grid()"
   ]
  },
  {
   "cell_type": "code",
   "execution_count": 176,
   "metadata": {},
   "outputs": [
    {
     "name": "stdout",
     "output_type": "stream",
     "text": [
      "Men 1 height: 171.2\n",
      "Men 2 height: 173.3\n",
      "Men 3 height: 157.1\n",
      "Men 4 height: 164.9\n",
      "Men 5 height: 179.1\n"
     ]
    }
   ],
   "source": [
    "sample_heights = heights_rv.rvs(size = 5, random_state = 998)\n",
    "\n",
    "for i, h in enumerate(sample_heights):\n",
    "    print(f'Men {i + 1} height: {h:0.1f}')"
   ]
  },
  {
   "cell_type": "code",
   "execution_count": 182,
   "metadata": {},
   "outputs": [
    {
     "name": "stdout",
     "output_type": "stream",
     "text": [
      " Probability of a male over 190cm is  0.02303 (or 2.30%)\n"
     ]
    }
   ],
   "source": [
    "sim_size = int(1e5)\n",
    "\n",
    "sample_heights = heights_rv.rvs(size = sim_size, random_state = 88)\n",
    "prob_event = (sample_heights > 190).sum()/sim_size\n",
    "\n",
    "print(f' Probability of a male over 190cm is {prob_event: 0.5f} (or {100*prob_event:0.2f}%)')"
   ]
  },
  {
   "cell_type": "code",
   "execution_count": 196,
   "metadata": {},
   "outputs": [],
   "source": [
    "means = [170, 170, 175]\n",
    "sds = [10, 5, 10]\n",
    "countries = [\"A\", \"B\", \"C\"]\n",
    "\n",
    "heights_rvs = {}\n",
    "plotting_values = {}\n",
    "\n",
    "\n",
    "for i, country in enumerate(countries):\n",
    "    heights_rvs[country] = stats.norm(loc = means[i], scale = sds[i])\n",
    "\n",
    "for i, country in enumerate(countries):\n",
    "    x_values = np.linspace(means[i] - (4 * sds[i]), means[i] + (4 * sds[i]))\n",
    "    y_values = heights_rvs[country].pdf(x_values)\n",
    "    plotting_values[country] = (x_values, y_values)"
   ]
  },
  {
   "cell_type": "code",
   "execution_count": 197,
   "metadata": {},
   "outputs": [
    {
     "data": {
      "image/png": "[encoded data removed]",
      "text/plain": [
       "<Figure size 1080x720 with 1 Axes>"
      ]
     },
     "metadata": {
      "needs_background": "light"
     },
     "output_type": "display_data"
    }
   ],
   "source": [
    "fig, ax = plt.subplots(figsize = (15, 10))\n",
    "\n",
    "for i, country in enumerate(countries):\n",
    "    ax.plot(plotting_values[country][0], plotting_values[country][1], label = country, lw = 2)\n",
    "\n",
    "ax.set_xticks(np.arange(130, 220, 5))\n",
    "plt.legend()\n",
    "plt.grid()"
   ]
  },
  {
   "cell_type": "code",
   "execution_count": 198,
   "metadata": {},
   "outputs": [],
   "source": [
    "from matplotlib.patches import Polygon\n",
    "\n",
    "def func(x):\n",
    "    return heights_rv.pdf(x)\n",
    "\n",
    "lower_lim = 160\n",
    "upper_lim = 180\n",
    "\n",
    "x = np.linspace(130, 210)\n",
    "y = func(x)"
   ]
  },
  {
   "cell_type": "code",
   "execution_count": 214,
   "metadata": {},
   "outputs": [
    {
     "data": {
      "text/plain": [
       "[]"
      ]
     },
     "execution_count": 214,
     "metadata": {},
     "output_type": "execute_result"
    },
    {
     "data": {
      "image/png": "[encoded data removed]",
      "text/plain": [
       "<Figure size 1080x720 with 1 Axes>"
      ]
     },
     "metadata": {
      "needs_background": "light"
     },
     "output_type": "display_data"
    }
   ],
   "source": [
    "fig, ax = plt.subplots(figsize = (15, 10))\n",
    "ax.plot(x, y, 'blue', linewidth = 2)\n",
    "ax.set_ylim(bottom = 0)\n",
    "\n",
    "ix = np.linspace(lower_lim, upper_lim)\n",
    "iy = func(ix)\n",
    "\n",
    "verts = [(lower_lim, 0), *zip(ix, iy), (upper_lim, 0)]\n",
    "poly = Polygon(verts, facecolor = '0.9', edgecolor = '0.5')\n",
    "ax.add_patch(poly)\n",
    "\n",
    "ax.text(0.5 * (lower_lim + upper_lim), 0.01,\n",
    "       r\"$\\int_{160}^{180} f(x)\\mathrm{d}x$\",\n",
    "        horizontalalignment = 'center', fontsize = 25)\n",
    "\n",
    "fig.text(0.85, 0.05, '$height$')\n",
    "fig.text(0.05, 0.85, '$f(x)$')\n",
    "\n",
    "ax.spines['right'].set_visible(False)\n",
    "ax.spines['top'].set_visible(False)\n",
    "ax.xaxis.set_ticks_position(\"bottom\")\n",
    "\n",
    "ax.set_xticks((lower_lim, upper_lim))\n",
    "ax.set_xticklabels(('$160$', '$180$'))\n",
    "ax.set_yticks(())"
   ]
  },
  {
   "cell_type": "code",
   "execution_count": 216,
   "metadata": {},
   "outputs": [
    {
     "data": {
      "text/plain": [
       "0.6826894921370859"
      ]
     },
     "execution_count": 216,
     "metadata": {},
     "output_type": "execute_result"
    }
   ],
   "source": [
    "prob_x_in_lims = heights_rv.cdf(upper_lim) - heights_rv.cdf(lower_lim)\n",
    "prob_x_in_lims"
   ]
  },
  {
   "cell_type": "code",
   "execution_count": 217,
   "metadata": {},
   "outputs": [
    {
     "data": {
      "text/plain": [
       "0.02275013194817921"
      ]
     },
     "execution_count": 217,
     "metadata": {},
     "output_type": "execute_result"
    }
   ],
   "source": [
    "# Whats the probability of having a heigh > 190\n",
    "prob_gt_190 = heights_rv.cdf(np.Inf) - heights_rv.cdf(190)\n",
    "prob_gt_190"
   ]
  },
  {
   "cell_type": "code",
   "execution_count": 218,
   "metadata": {},
   "outputs": [],
   "source": [
    "# Exercise 8.04: Using the normal distribution in education\n",
    "# 2.\n",
    "X_mean = 100\n",
    "X_sd = 15\n",
    "\n",
    "X_rv = stats.norm(loc = X_mean, scale = X_sd)"
   ]
  },
  {
   "cell_type": "code",
   "execution_count": 220,
   "metadata": {},
   "outputs": [
    {
     "data": {
      "image/png": "[encoded data removed]",
      "text/plain": [
       "<Figure size 432x288 with 1 Axes>"
      ]
     },
     "metadata": {
      "needs_background": "light"
     },
     "output_type": "display_data"
    }
   ],
   "source": [
    "# 3. \n",
    "x_values = np.linspace(X_mean - (4 * X_sd), X_mean + (4 * X_sd))\n",
    "y_values = X_rv.pdf(x_values)\n",
    "\n",
    "plt.plot(x_values, y_values, lw = 2)\n",
    "plt.grid()"
   ]
  },
  {
   "cell_type": "code",
   "execution_count": 222,
   "metadata": {},
   "outputs": [
    {
     "data": {
      "text/plain": [
       "0.9087887802741321"
      ]
     },
     "execution_count": 222,
     "metadata": {},
     "output_type": "execute_result"
    }
   ],
   "source": [
    "# 4.\n",
    "low = 80\n",
    "high = np.Inf\n",
    "\n",
    "X_rv.cdf(high) - X_rv.cdf(low)"
   ]
  },
  {
   "cell_type": "code",
   "execution_count": 227,
   "metadata": {},
   "outputs": [
    {
     "data": {
      "text/plain": [
       "130.80623365947733"
      ]
     },
     "execution_count": 227,
     "metadata": {},
     "output_type": "execute_result"
    }
   ],
   "source": [
    "# 5.\n",
    "pop_admitted = 0.02\n",
    "X_rv.ppf(1-pop_admitted)"
   ]
  },
  {
   "cell_type": "code",
   "execution_count": 249,
   "metadata": {},
   "outputs": [],
   "source": [
    "# Activity 8.01: Using the normal distribution in Finance\n",
    "# 1.\n",
    "msft = pd.read_csv(\"./MSFT.csv\", header = 0)"
   ]
  },
  {
   "cell_type": "code",
   "execution_count": 250,
   "metadata": {},
   "outputs": [],
   "source": [
    "# 2.\n",
    "msft.columns = ['date', 'open', 'high', 'low', 'close', 'adj_close', 'volume']"
   ]
  },
  {
   "cell_type": "code",
   "execution_count": 251,
   "metadata": {},
   "outputs": [
    {
     "data": {
      "text/html": [
       "<div>\n",
       "<style scoped>\n",
       "    .dataframe tbody tr th:only-of-type {\n",
       "        vertical-align: middle;\n",
       "    }\n",
       "\n",
       "    .dataframe tbody tr th {\n",
       "        vertical-align: top;\n",
       "    }\n",
       "\n",
       "    .dataframe thead th {\n",
       "        text-align: right;\n",
       "    }\n",
       "</style>\n",
       "<table border=\"1\" class=\"dataframe\">\n",
       "  <thead>\n",
       "    <tr style=\"text-align: right;\">\n",
       "      <th></th>\n",
       "      <th>open</th>\n",
       "      <th>high</th>\n",
       "      <th>low</th>\n",
       "      <th>close</th>\n",
       "      <th>adj_close</th>\n",
       "      <th>volume</th>\n",
       "    </tr>\n",
       "  </thead>\n",
       "  <tbody>\n",
       "    <tr>\n",
       "      <th>count</th>\n",
       "      <td>2310.000000</td>\n",
       "      <td>2310.000000</td>\n",
       "      <td>2310.000000</td>\n",
       "      <td>2310.000000</td>\n",
       "      <td>2310.000000</td>\n",
       "      <td>2.310000e+03</td>\n",
       "    </tr>\n",
       "    <tr>\n",
       "      <th>mean</th>\n",
       "      <td>49.232779</td>\n",
       "      <td>49.653381</td>\n",
       "      <td>48.788801</td>\n",
       "      <td>49.245416</td>\n",
       "      <td>45.128864</td>\n",
       "      <td>4.137619e+07</td>\n",
       "    </tr>\n",
       "    <tr>\n",
       "      <th>std</th>\n",
       "      <td>25.049006</td>\n",
       "      <td>25.262955</td>\n",
       "      <td>24.785046</td>\n",
       "      <td>25.038599</td>\n",
       "      <td>26.036170</td>\n",
       "      <td>2.335172e+07</td>\n",
       "    </tr>\n",
       "    <tr>\n",
       "      <th>min</th>\n",
       "      <td>23.090000</td>\n",
       "      <td>23.320000</td>\n",
       "      <td>22.730000</td>\n",
       "      <td>23.010000</td>\n",
       "      <td>18.277956</td>\n",
       "      <td>7.425600e+06</td>\n",
       "    </tr>\n",
       "    <tr>\n",
       "      <th>25%</th>\n",
       "      <td>29.072500</td>\n",
       "      <td>29.360001</td>\n",
       "      <td>28.752500</td>\n",
       "      <td>28.972499</td>\n",
       "      <td>23.969493</td>\n",
       "      <td>2.573010e+07</td>\n",
       "    </tr>\n",
       "    <tr>\n",
       "      <th>50%</th>\n",
       "      <td>41.754999</td>\n",
       "      <td>42.105000</td>\n",
       "      <td>41.449999</td>\n",
       "      <td>41.789999</td>\n",
       "      <td>37.526640</td>\n",
       "      <td>3.585165e+07</td>\n",
       "    </tr>\n",
       "    <tr>\n",
       "      <th>75%</th>\n",
       "      <td>60.330000</td>\n",
       "      <td>60.732499</td>\n",
       "      <td>59.927499</td>\n",
       "      <td>60.327498</td>\n",
       "      <td>57.021808</td>\n",
       "      <td>5.134808e+07</td>\n",
       "    </tr>\n",
       "    <tr>\n",
       "      <th>max</th>\n",
       "      <td>115.419998</td>\n",
       "      <td>116.180000</td>\n",
       "      <td>114.930000</td>\n",
       "      <td>115.610001</td>\n",
       "      <td>113.435432</td>\n",
       "      <td>3.193179e+08</td>\n",
       "    </tr>\n",
       "  </tbody>\n",
       "</table>\n",
       "</div>"
      ],
      "text/plain": [
       "              open         high          low        close    adj_close  \\\n",
       "count  2310.000000  2310.000000  2310.000000  2310.000000  2310.000000   \n",
       "mean     49.232779    49.653381    48.788801    49.245416    45.128864   \n",
       "std      25.049006    25.262955    24.785046    25.038599    26.036170   \n",
       "min      23.090000    23.320000    22.730000    23.010000    18.277956   \n",
       "25%      29.072500    29.360001    28.752500    28.972499    23.969493   \n",
       "50%      41.754999    42.105000    41.449999    41.789999    37.526640   \n",
       "75%      60.330000    60.732499    59.927499    60.327498    57.021808   \n",
       "max     115.419998   116.180000   114.930000   115.610001   113.435432   \n",
       "\n",
       "             volume  \n",
       "count  2.310000e+03  \n",
       "mean   4.137619e+07  \n",
       "std    2.335172e+07  \n",
       "min    7.425600e+06  \n",
       "25%    2.573010e+07  \n",
       "50%    3.585165e+07  \n",
       "75%    5.134808e+07  \n",
       "max    3.193179e+08  "
      ]
     },
     "execution_count": 251,
     "metadata": {},
     "output_type": "execute_result"
    }
   ],
   "source": [
    "msft.describe()"
   ]
  },
  {
   "cell_type": "code",
   "execution_count": 252,
   "metadata": {},
   "outputs": [
    {
     "data": {
      "text/plain": [
       "date          object\n",
       "open         float64\n",
       "high         float64\n",
       "low          float64\n",
       "close        float64\n",
       "adj_close    float64\n",
       "volume         int64\n",
       "dtype: object"
      ]
     },
     "execution_count": 252,
     "metadata": {},
     "output_type": "execute_result"
    }
   ],
   "source": [
    "msft.dtypes"
   ]
  },
  {
   "cell_type": "code",
   "execution_count": 253,
   "metadata": {},
   "outputs": [],
   "source": [
    "# 3.\n",
    "msft['date'] = pd.to_datetime(msft['date'])"
   ]
  },
  {
   "cell_type": "code",
   "execution_count": 254,
   "metadata": {},
   "outputs": [
    {
     "data": {
      "text/plain": [
       "date         datetime64[ns]\n",
       "open                float64\n",
       "high                float64\n",
       "low                 float64\n",
       "close               float64\n",
       "adj_close           float64\n",
       "volume                int64\n",
       "dtype: object"
      ]
     },
     "execution_count": 254,
     "metadata": {},
     "output_type": "execute_result"
    }
   ],
   "source": [
    "msft.dtypes"
   ]
  },
  {
   "cell_type": "code",
   "execution_count": 255,
   "metadata": {},
   "outputs": [],
   "source": [
    "# 4.\n",
    "msft.set_index('date', inplace = True)"
   ]
  },
  {
   "cell_type": "code",
   "execution_count": 256,
   "metadata": {},
   "outputs": [],
   "source": [
    "# 5. (453)\n",
    "msft['returns'] = msft['adj_close'].pct_change()"
   ]
  },
  {
   "cell_type": "code",
   "execution_count": 257,
   "metadata": {},
   "outputs": [],
   "source": [
    "# 6\n",
    "start_date = '2014-01-01'\n",
    "end_date = '2018-12-31'\n",
    "# msft = msft.loc[np.logical_and(msft.index > start_date, msft.index < start_date)]\n",
    "msft = msft.loc[start_date:end_date]"
   ]
  },
  {
   "cell_type": "code",
   "execution_count": 258,
   "metadata": {},
   "outputs": [
    {
     "data": {
      "text/html": [
       "<div>\n",
       "<style scoped>\n",
       "    .dataframe tbody tr th:only-of-type {\n",
       "        vertical-align: middle;\n",
       "    }\n",
       "\n",
       "    .dataframe tbody tr th {\n",
       "        vertical-align: top;\n",
       "    }\n",
       "\n",
       "    .dataframe thead th {\n",
       "        text-align: right;\n",
       "    }\n",
       "</style>\n",
       "<table border=\"1\" class=\"dataframe\">\n",
       "  <thead>\n",
       "    <tr style=\"text-align: right;\">\n",
       "      <th></th>\n",
       "      <th>open</th>\n",
       "      <th>high</th>\n",
       "      <th>low</th>\n",
       "      <th>close</th>\n",
       "      <th>adj_close</th>\n",
       "      <th>volume</th>\n",
       "      <th>returns</th>\n",
       "    </tr>\n",
       "    <tr>\n",
       "      <th>date</th>\n",
       "      <th></th>\n",
       "      <th></th>\n",
       "      <th></th>\n",
       "      <th></th>\n",
       "      <th></th>\n",
       "      <th></th>\n",
       "      <th></th>\n",
       "    </tr>\n",
       "  </thead>\n",
       "  <tbody>\n",
       "    <tr>\n",
       "      <th>2014-01-02</th>\n",
       "      <td>37.349998</td>\n",
       "      <td>37.400002</td>\n",
       "      <td>37.099998</td>\n",
       "      <td>37.160000</td>\n",
       "      <td>32.471554</td>\n",
       "      <td>30632200</td>\n",
       "      <td>-0.006683</td>\n",
       "    </tr>\n",
       "    <tr>\n",
       "      <th>2014-01-03</th>\n",
       "      <td>37.200001</td>\n",
       "      <td>37.220001</td>\n",
       "      <td>36.599998</td>\n",
       "      <td>36.910000</td>\n",
       "      <td>32.253098</td>\n",
       "      <td>31134800</td>\n",
       "      <td>-0.006728</td>\n",
       "    </tr>\n",
       "    <tr>\n",
       "      <th>2014-01-06</th>\n",
       "      <td>36.849998</td>\n",
       "      <td>36.889999</td>\n",
       "      <td>36.110001</td>\n",
       "      <td>36.130001</td>\n",
       "      <td>31.571505</td>\n",
       "      <td>43603700</td>\n",
       "      <td>-0.021133</td>\n",
       "    </tr>\n",
       "    <tr>\n",
       "      <th>2014-01-07</th>\n",
       "      <td>36.330002</td>\n",
       "      <td>36.490002</td>\n",
       "      <td>36.209999</td>\n",
       "      <td>36.410000</td>\n",
       "      <td>31.816179</td>\n",
       "      <td>35802800</td>\n",
       "      <td>0.007750</td>\n",
       "    </tr>\n",
       "    <tr>\n",
       "      <th>2014-01-08</th>\n",
       "      <td>36.000000</td>\n",
       "      <td>36.139999</td>\n",
       "      <td>35.580002</td>\n",
       "      <td>35.759998</td>\n",
       "      <td>31.248198</td>\n",
       "      <td>59971700</td>\n",
       "      <td>-0.017852</td>\n",
       "    </tr>\n",
       "    <tr>\n",
       "      <th>...</th>\n",
       "      <td>...</td>\n",
       "      <td>...</td>\n",
       "      <td>...</td>\n",
       "      <td>...</td>\n",
       "      <td>...</td>\n",
       "      <td>...</td>\n",
       "      <td>...</td>\n",
       "    </tr>\n",
       "    <tr>\n",
       "      <th>2018-12-24</th>\n",
       "      <td>97.680000</td>\n",
       "      <td>97.970001</td>\n",
       "      <td>93.980003</td>\n",
       "      <td>94.129997</td>\n",
       "      <td>92.758461</td>\n",
       "      <td>43935200</td>\n",
       "      <td>-0.041739</td>\n",
       "    </tr>\n",
       "    <tr>\n",
       "      <th>2018-12-26</th>\n",
       "      <td>95.139999</td>\n",
       "      <td>100.690002</td>\n",
       "      <td>93.959999</td>\n",
       "      <td>100.559998</td>\n",
       "      <td>99.094772</td>\n",
       "      <td>51634800</td>\n",
       "      <td>0.068310</td>\n",
       "    </tr>\n",
       "    <tr>\n",
       "      <th>2018-12-27</th>\n",
       "      <td>99.300003</td>\n",
       "      <td>101.190002</td>\n",
       "      <td>96.400002</td>\n",
       "      <td>101.180000</td>\n",
       "      <td>99.705742</td>\n",
       "      <td>49498500</td>\n",
       "      <td>0.006166</td>\n",
       "    </tr>\n",
       "    <tr>\n",
       "      <th>2018-12-28</th>\n",
       "      <td>102.089996</td>\n",
       "      <td>102.410004</td>\n",
       "      <td>99.519997</td>\n",
       "      <td>100.389999</td>\n",
       "      <td>98.927246</td>\n",
       "      <td>38196300</td>\n",
       "      <td>-0.007808</td>\n",
       "    </tr>\n",
       "    <tr>\n",
       "      <th>2018-12-31</th>\n",
       "      <td>101.290001</td>\n",
       "      <td>102.400002</td>\n",
       "      <td>100.440002</td>\n",
       "      <td>101.570000</td>\n",
       "      <td>100.090057</td>\n",
       "      <td>33173800</td>\n",
       "      <td>0.011754</td>\n",
       "    </tr>\n",
       "  </tbody>\n",
       "</table>\n",
       "<p>1258 rows × 7 columns</p>\n",
       "</div>"
      ],
      "text/plain": [
       "                  open        high         low       close   adj_close  \\\n",
       "date                                                                     \n",
       "2014-01-02   37.349998   37.400002   37.099998   37.160000   32.471554   \n",
       "2014-01-03   37.200001   37.220001   36.599998   36.910000   32.253098   \n",
       "2014-01-06   36.849998   36.889999   36.110001   36.130001   31.571505   \n",
       "2014-01-07   36.330002   36.490002   36.209999   36.410000   31.816179   \n",
       "2014-01-08   36.000000   36.139999   35.580002   35.759998   31.248198   \n",
       "...                ...         ...         ...         ...         ...   \n",
       "2018-12-24   97.680000   97.970001   93.980003   94.129997   92.758461   \n",
       "2018-12-26   95.139999  100.690002   93.959999  100.559998   99.094772   \n",
       "2018-12-27   99.300003  101.190002   96.400002  101.180000   99.705742   \n",
       "2018-12-28  102.089996  102.410004   99.519997  100.389999   98.927246   \n",
       "2018-12-31  101.290001  102.400002  100.440002  101.570000  100.090057   \n",
       "\n",
       "              volume   returns  \n",
       "date                            \n",
       "2014-01-02  30632200 -0.006683  \n",
       "2014-01-03  31134800 -0.006728  \n",
       "2014-01-06  43603700 -0.021133  \n",
       "2014-01-07  35802800  0.007750  \n",
       "2014-01-08  59971700 -0.017852  \n",
       "...              ...       ...  \n",
       "2018-12-24  43935200 -0.041739  \n",
       "2018-12-26  51634800  0.068310  \n",
       "2018-12-27  49498500  0.006166  \n",
       "2018-12-28  38196300 -0.007808  \n",
       "2018-12-31  33173800  0.011754  \n",
       "\n",
       "[1258 rows x 7 columns]"
      ]
     },
     "execution_count": 258,
     "metadata": {},
     "output_type": "execute_result"
    }
   ],
   "source": [
    "msft"
   ]
  },
  {
   "cell_type": "code",
   "execution_count": 259,
   "metadata": {},
   "outputs": [
    {
     "data": {
      "text/plain": [
       "<AxesSubplot:>"
      ]
     },
     "execution_count": 259,
     "metadata": {},
     "output_type": "execute_result"
    },
    {
     "data": {
      "image/png": "[encoded data removed]",
      "text/plain": [
       "<Figure size 432x288 with 1 Axes>"
      ]
     },
     "metadata": {
      "needs_background": "light"
     },
     "output_type": "display_data"
    }
   ],
   "source": [
    "# 7.\n",
    "msft['returns'].hist(bins = 40)"
   ]
  },
  {
   "cell_type": "code",
   "execution_count": 261,
   "metadata": {},
   "outputs": [
    {
     "data": {
      "text/plain": [
       "count    1258.000000\n",
       "mean        0.000996\n",
       "std         0.014591\n",
       "min        -0.092534\n",
       "25%        -0.005956\n",
       "50%         0.000651\n",
       "75%         0.007830\n",
       "max         0.104522\n",
       "Name: returns, dtype: float64"
      ]
     },
     "execution_count": 261,
     "metadata": {},
     "output_type": "execute_result"
    }
   ],
   "source": [
    "msft['returns'].describe()"
   ]
  },
  {
   "cell_type": "code",
   "execution_count": 263,
   "metadata": {},
   "outputs": [],
   "source": [
    "# 9.\n",
    "R_rv = stats.norm(loc = msft['returns'].mean(), scale = msft['returns'].std())"
   ]
  },
  {
   "cell_type": "code",
   "execution_count": 267,
   "metadata": {},
   "outputs": [
    {
     "data": {
      "text/plain": [
       "(array([ 0.04033943,  0.16135771,  0.72610968,  4.19530036, 29.89151504,\n",
       "        13.997781  ,  1.3715405 ,  0.20169713,  0.08067885,  0.08067885]),\n",
       " array([-0.09253364, -0.07282804, -0.05312244, -0.03341684, -0.01371124,\n",
       "         0.00599436,  0.02569995,  0.04540555,  0.06511115,  0.08481675,\n",
       "         0.10452235]),\n",
       " <BarContainer object of 10 artists>)"
      ]
     },
     "execution_count": 267,
     "metadata": {},
     "output_type": "execute_result"
    },
    {
     "data": {
      "image/png": "[encoded data removed]",
      "text/plain": [
       "<Figure size 432x288 with 1 Axes>"
      ]
     },
     "metadata": {
      "needs_background": "light"
     },
     "output_type": "display_data"
    }
   ],
   "source": [
    "# 10.\n",
    "x_values = msft['returns'].sort_values()\n",
    "y_values = R_rv.pdf(x_values)\n",
    "\n",
    "plt.hist(x_values, density = True)"
   ]
  }
 ],
 "metadata": {
  "kernelspec": {
   "display_name": "Python 3",
   "language": "python",
   "name": "python3"
  },
  "language_info": {
   "codemirror_mode": {
    "name": "ipython",
    "version": 3
   },
   "file_extension": ".py",
   "mimetype": "text/x-python",
   "name": "python",
   "nbconvert_exporter": "python",
   "pygments_lexer": "ipython3",
   "version": "3.8.5"
  }
 },
 "nbformat": 4,
 "nbformat_minor": 4
}
