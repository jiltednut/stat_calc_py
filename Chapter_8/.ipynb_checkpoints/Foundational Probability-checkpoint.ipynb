{
 "cells": [
  {
   "cell_type": "code",
   "execution_count": 1,
   "metadata": {},
   "outputs": [],
   "source": [
    "import pandas as pd\n",
    "import numpy as np\n",
    "import matplotlib.pyplot as plt\n",
    "import seaborn as sns\n",
    "import scipy.stats as stats"
   ]
  },
  {
   "cell_type": "code",
   "execution_count": 2,
   "metadata": {},
   "outputs": [],
   "source": [
    "%matplotlib inline"
   ]
  },
  {
   "cell_type": "code",
   "execution_count": 3,
   "metadata": {},
   "outputs": [],
   "source": [
    "def toss_die():\n",
    "    return np.random.randint(1, 7)"
   ]
  },
  {
   "cell_type": "code",
   "execution_count": 33,
   "metadata": {},
   "outputs": [
    {
     "data": {
      "text/plain": [
       "[6, 3, 5, 3, 2, 4, 3, 4, 2, 2]"
      ]
     },
     "execution_count": 33,
     "metadata": {},
     "output_type": "execute_result"
    }
   ],
   "source": [
    "np.random.seed(123)\n",
    "[toss_die() for x in range(10)]"
   ]
  },
  {
   "cell_type": "code",
   "execution_count": 34,
   "metadata": {},
   "outputs": [],
   "source": [
    "# Exercise 8.01: Sampling with and without replacement\n",
    "# 2.\n",
    "suits = ['hearts', 'diamonds', 'spades', 'clubs']\n",
    "ranks = ['Ace', '2', '3', '4', '5', '6', '7', '8', '9', '10', 'Jack', 'Queen', 'King']"
   ]
  },
  {
   "cell_type": "code",
   "execution_count": 35,
   "metadata": {},
   "outputs": [],
   "source": [
    "# 3.\n",
    "cards = [rank + \"-\" + suit for rank in ranks for suit in suits]"
   ]
  },
  {
   "cell_type": "code",
   "execution_count": 48,
   "metadata": {},
   "outputs": [
    {
     "data": {
      "text/plain": [
       "array(['8-spades', '8-clubs', '4-spades', '10-hearts', '9-spades'],\n",
       "      dtype='<U14')"
      ]
     },
     "execution_count": 48,
     "metadata": {},
     "output_type": "execute_result"
    }
   ],
   "source": [
    "# 4.\n",
    "np.random.choice(cards, size = 5, replace = False)"
   ]
  },
  {
   "cell_type": "code",
   "execution_count": 51,
   "metadata": {},
   "outputs": [],
   "source": [
    "# 5.\n",
    "def deal_hands():\n",
    "    drawn_cards = np.random.choice(cards, size = 10, replace = False)\n",
    "    hand1 = drawn_cards[:5]\n",
    "    hand2 = drawn_cards[5:]\n",
    "    return hand1, hand2"
   ]
  },
  {
   "cell_type": "code",
   "execution_count": 62,
   "metadata": {},
   "outputs": [
    {
     "data": {
      "text/plain": [
       "(array(['2-clubs', '4-clubs', '2-spades', '9-hearts', '9-spades'],\n",
       "       dtype='<U14'),\n",
       " array(['6-hearts', '6-spades', '4-hearts', 'Jack-hearts', '7-diamonds'],\n",
       "       dtype='<U14'))"
      ]
     },
     "execution_count": 62,
     "metadata": {},
     "output_type": "execute_result"
    }
   ],
   "source": [
    "deal_hands()"
   ]
  },
  {
   "cell_type": "code",
   "execution_count": 63,
   "metadata": {},
   "outputs": [],
   "source": [
    "# 6.\n",
    "def deal_hands2():\n",
    "    drawn_cards = np.random.choice(cards, size = 10, replace = True)\n",
    "    hand1 = drawn_cards[:5]\n",
    "    hand2 = drawn_cards[5:]\n",
    "    return hand1, hand2"
   ]
  },
  {
   "cell_type": "code",
   "execution_count": 71,
   "metadata": {},
   "outputs": [
    {
     "data": {
      "text/plain": [
       "(array(['Jack-hearts', '4-clubs', 'Queen-diamonds', '3-hearts', '6-spades'],\n",
       "       dtype='<U14'),\n",
       " array(['Jack-clubs', '5-spades', '3-clubs', 'Jack-hearts', '2-clubs'],\n",
       "       dtype='<U14'))"
      ]
     },
     "execution_count": 71,
     "metadata": {},
     "output_type": "execute_result"
    }
   ],
   "source": [
    "np.random.seed(2)\n",
    "deal_hands2()"
   ]
  },
  {
   "cell_type": "code",
   "execution_count": 72,
   "metadata": {},
   "outputs": [],
   "source": [
    "# Probability as a relative frequency\n",
    "np.random.seed(81)\n",
    "one_million_dice_tosses = np.random.randint(low = 1, high = 7, size = int(1e6))"
   ]
  },
  {
   "cell_type": "code",
   "execution_count": 73,
   "metadata": {},
   "outputs": [
    {
     "data": {
      "text/plain": [
       "array([4, 2, 1, 4, 4, 4, 2, 2, 6, 3])"
      ]
     },
     "execution_count": 73,
     "metadata": {},
     "output_type": "execute_result"
    }
   ],
   "source": [
    "one_million_dice_tosses[:10]"
   ]
  },
  {
   "cell_type": "code",
   "execution_count": 76,
   "metadata": {},
   "outputs": [
    {
     "name": "stdout",
     "output_type": "stream",
     "text": [
      "165950\n",
      "0.16595\n"
     ]
    }
   ],
   "source": [
    "# A: 2\n",
    "# B: 6\n",
    "n_of_A = (one_million_dice_tosses == 2).sum()\n",
    "prob_of_A = n_of_A / one_million_dice_tosses.shape[0] \n",
    "print(n_of_A)\n",
    "print(prob_of_A)"
   ]
  },
  {
   "cell_type": "code",
   "execution_count": 77,
   "metadata": {},
   "outputs": [
    {
     "name": "stdout",
     "output_type": "stream",
     "text": [
      "166809\n",
      "0.166809\n"
     ]
    }
   ],
   "source": [
    "n_of_B = (one_million_dice_tosses == 6).sum()\n",
    "prob_of_B = n_of_B / one_million_dice_tosses.shape[0] \n",
    "print(n_of_B)\n",
    "print(prob_of_B)"
   ]
  },
  {
   "cell_type": "code",
   "execution_count": 87,
   "metadata": {},
   "outputs": [
    {
     "name": "stdout",
     "output_type": "stream",
     "text": [
      "501162\n",
      "0.501162\n"
     ]
    }
   ],
   "source": [
    "n_of_odd = ((one_million_dice_tosses == 1) | (one_million_dice_tosses == 3) | (one_million_dice_tosses == 5)).sum()\n",
    "prob_of_odd = n_of_odd / one_million_dice_tosses.shape[0] \n",
    "print(n_of_odd)\n",
    "print(prob_of_odd)"
   ]
  },
  {
   "cell_type": "code",
   "execution_count": 90,
   "metadata": {},
   "outputs": [
    {
     "name": "stdout",
     "output_type": "stream",
     "text": [
      "666004\n",
      "0.666004\n"
     ]
    }
   ],
   "source": [
    "n_of_comp = ((one_million_dice_tosses < 5)).sum()\n",
    "prob_of_comp = n_of_comp / one_million_dice_tosses.shape[0] \n",
    "print(n_of_comp)\n",
    "print(prob_of_comp)"
   ]
  },
  {
   "cell_type": "code",
   "execution_count": 92,
   "metadata": {},
   "outputs": [],
   "source": [
    "# Defing random variables\n",
    "np.random.seed(55)\n",
    "\n",
    "number_of_dice_tosses = int(1e6)\n",
    "\n",
    "die_1 = np.random.randint(low = 1, high = 7, size = number_of_dice_tosses)\n",
    "die_2 = np.random.randint(low = 1, high = 7, size = number_of_dice_tosses)\n",
    "\n",
    "X = die_1 + die_2\n"
   ]
  },
  {
   "cell_type": "code",
   "execution_count": 94,
   "metadata": {},
   "outputs": [
    {
     "data": {
      "text/plain": [
       "0.083239"
      ]
     },
     "execution_count": 94,
     "metadata": {},
     "output_type": "execute_result"
    }
   ],
   "source": [
    "prob_of_X_10 = (X == 10).sum()/X.shape[0]\n",
    "prob_of_X_10"
   ]
  },
  {
   "cell_type": "code",
   "execution_count": 95,
   "metadata": {},
   "outputs": [
    {
     "data": {
      "text/plain": [
       "0.721723"
      ]
     },
     "execution_count": 95,
     "metadata": {},
     "output_type": "execute_result"
    }
   ],
   "source": [
    "prob_of_X_gtr_5 = (X > 5).sum()/X.shape[0]\n",
    "prob_of_X_gtr_5"
   ]
  },
  {
   "cell_type": "code",
   "execution_count": 97,
   "metadata": {},
   "outputs": [
    {
     "data": {
      "image/png": "[encoded data removed]",
      "text/plain": [
       "<Figure size 432x288 with 1 Axes>"
      ]
     },
     "metadata": {
      "needs_background": "light"
     },
     "output_type": "display_data"
    }
   ],
   "source": [
    "X_s = pd.Series(X)\n",
    "\n",
    "freq_X = X_s.value_counts()\n",
    "freq_X.sort_index().plot(kind = 'bar')\n",
    "plt.grid()"
   ]
  },
  {
   "cell_type": "code",
   "execution_count": 99,
   "metadata": {},
   "outputs": [
    {
     "data": {
      "image/png": "[encoded data removed]",
      "text/plain": [
       "<Figure size 432x288 with 1 Axes>"
      ]
     },
     "metadata": {
      "needs_background": "light"
     },
     "output_type": "display_data"
    }
   ],
   "source": [
    "freq_prob_X = X_s.value_counts()/X.shape[0]\n",
    "freq_prob_X.sort_index().plot(kind = 'bar')\n",
    "plt.grid()"
   ]
  },
  {
   "cell_type": "code",
   "execution_count": 100,
   "metadata": {},
   "outputs": [],
   "source": [
    "np.random.seed(97)\n",
    "ten_coins_one_million_times = np.random.randint(low = 0, high = 2, size = int(10e6)).reshape(-1, 10)"
   ]
  }
 ],
 "metadata": {
  "kernelspec": {
   "display_name": "Python 3",
   "language": "python",
   "name": "python3"
  },
  "language_info": {
   "codemirror_mode": {
    "name": "ipython",
    "version": 3
   },
   "file_extension": ".py",
   "mimetype": "text/x-python",
   "name": "python",
   "nbconvert_exporter": "python",
   "pygments_lexer": "ipython3",
   "version": "3.8.5"
  }
 },
 "nbformat": 4,
 "nbformat_minor": 4
}
