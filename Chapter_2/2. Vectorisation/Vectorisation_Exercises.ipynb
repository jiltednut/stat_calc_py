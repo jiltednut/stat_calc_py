{
 "cells": [
  {
   "cell_type": "code",
   "execution_count": 2,
   "metadata": {},
   "outputs": [],
   "source": [
    "import numpy as np\n",
    "from timeit import Timer"
   ]
  },
  {
   "cell_type": "code",
   "execution_count": 3,
   "metadata": {},
   "outputs": [],
   "source": [
    "# initialise a list and an array to use in the timing exercise\n",
    "my_list = list(range(10 ** 6))\n",
    "my_array = np.array(my_list)"
   ]
  },
  {
   "cell_type": "code",
   "execution_count": 18,
   "metadata": {},
   "outputs": [],
   "source": [
    "# define functions to add 1 to each element in both the list and array\n",
    "def for_add():\n",
    "    return [x + 1 for x in my_list]\n",
    "\n",
    "def vec_add():\n",
    "    return my_array + 1"
   ]
  },
  {
   "cell_type": "code",
   "execution_count": 20,
   "metadata": {},
   "outputs": [
    {
     "name": "stdout",
     "output_type": "stream",
     "text": [
      "For loop addition:\n",
      "1.286811299999954\n",
      "Vector addition:\n",
      "0.03752289999988534\n"
     ]
    }
   ],
   "source": [
    "# Initialise timers to track the duration of the different addition operations\n",
    "\n",
    "print(\"For loop addition:\")\n",
    "print(min(Timer(for_add).repeat(10, 10)))\n",
    "\n",
    "print(\"Vector addition:\")\n",
    "print(min(Timer(vec_add).repeat(10, 10)))"
   ]
  },
  {
   "cell_type": "code",
   "execution_count": 21,
   "metadata": {},
   "outputs": [],
   "source": [
    "def for_mul():\n",
    "    return [x * 2 for x in my_list]\n",
    "\n",
    "def vec_mul():\n",
    "    return my_array * 2"
   ]
  },
  {
   "cell_type": "code",
   "execution_count": 22,
   "metadata": {},
   "outputs": [
    {
     "name": "stdout",
     "output_type": "stream",
     "text": [
      "For loop multiplication:\n",
      "1.2412646999998742\n",
      "Vector multiplication:\n",
      "0.02281670000002123\n"
     ]
    }
   ],
   "source": [
    "# Initialise timers to track the duration of the different multiplication operations\n",
    "\n",
    "print(\"For loop multiplication:\")\n",
    "print(min(Timer(for_mul).repeat(10, 10)))\n",
    "\n",
    "print(\"Vector multiplication:\")\n",
    "print(min(Timer(vec_mul).repeat(10, 10)))"
   ]
  }
 ],
 "metadata": {
  "kernelspec": {
   "display_name": "Python 3",
   "language": "python",
   "name": "python3"
  },
  "language_info": {
   "codemirror_mode": {
    "name": "ipython",
    "version": 3
   },
   "file_extension": ".py",
   "mimetype": "text/x-python",
   "name": "python",
   "nbconvert_exporter": "python",
   "pygments_lexer": "ipython3",
   "version": "3.8.5"
  }
 },
 "nbformat": 4,
 "nbformat_minor": 4
}
