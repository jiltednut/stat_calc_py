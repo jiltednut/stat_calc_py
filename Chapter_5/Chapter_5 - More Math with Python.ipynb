{
 "cells": [
  {
   "cell_type": "code",
   "execution_count": 175,
   "metadata": {},
   "outputs": [],
   "source": [
    "import pandas as pd\n",
    "import numpy as np\n",
    "import scipy.stats as stats\n",
    "import matplotlib.pyplot as plt\n",
    "import seaborn as sns"
   ]
  },
  {
   "cell_type": "code",
   "execution_count": 176,
   "metadata": {},
   "outputs": [],
   "source": [
    "def my_function(arg1, arg2):\n",
    "    \"\"\"\n",
    "    Write a function that adds 2 numbers and returns their sum\n",
    "    \"\"\"\n",
    "    return arg1 + arg2"
   ]
  },
  {
   "cell_type": "code",
   "execution_count": 177,
   "metadata": {},
   "outputs": [
    {
     "name": "stdout",
     "output_type": "stream",
     "text": [
      "11\n"
     ]
    }
   ],
   "source": [
    "print(my_function(2, 9))"
   ]
  },
  {
   "cell_type": "code",
   "execution_count": 178,
   "metadata": {},
   "outputs": [],
   "source": [
    "# Generators\n",
    "def my_generator(arg1, arg2, n):\n",
    "    \"\"\" Write a generator functions that adds 2 numbers n times and sums them\"\"\"\n",
    "    i = 0\n",
    "    result = 0\n",
    "    while i < n:\n",
    "        result += (arg1 + arg2)\n",
    "        i += 1\n",
    "        yield result"
   ]
  },
  {
   "cell_type": "code",
   "execution_count": 179,
   "metadata": {},
   "outputs": [
    {
     "data": {
      "text/plain": [
       "11"
      ]
     },
     "execution_count": 179,
     "metadata": {},
     "output_type": "execute_result"
    }
   ],
   "source": [
    "my_gen = my_generator(2, 9, 4)\n",
    "next(my_gen)"
   ]
  },
  {
   "cell_type": "code",
   "execution_count": 180,
   "metadata": {},
   "outputs": [
    {
     "data": {
      "text/plain": [
       "22"
      ]
     },
     "execution_count": 180,
     "metadata": {},
     "output_type": "execute_result"
    }
   ],
   "source": [
    "next(my_gen)"
   ]
  },
  {
   "cell_type": "code",
   "execution_count": 181,
   "metadata": {},
   "outputs": [
    {
     "data": {
      "text/plain": [
       "33"
      ]
     },
     "execution_count": 181,
     "metadata": {},
     "output_type": "execute_result"
    }
   ],
   "source": [
    "next(my_gen)"
   ]
  },
  {
   "cell_type": "code",
   "execution_count": 182,
   "metadata": {},
   "outputs": [],
   "source": [
    "# Exercise 5.01: Determining the nth term of an artithmetic sequence and series\n",
    "def a_n(a1, d, n):\n",
    "    \"\"\"\n",
    "    Return the n-th term of the arithmetic sequence.\n",
    "    \n",
    "    a1: first term of the sequence. Integer or Real\n",
    "    n: the n-th term in the sequence.\n",
    "    \n",
    "    d: the common difference between each term in the arithmetic sequence.\n",
    "    \n",
    "    returns: n-th term. Integer or real\n",
    "    \n",
    "    \"\"\"\n",
    "    \n",
    "    return a1 + ((n - 1) * d)\n",
    "    "
   ]
  },
  {
   "cell_type": "code",
   "execution_count": 183,
   "metadata": {},
   "outputs": [
    {
     "data": {
      "text/plain": [
       "9"
      ]
     },
     "execution_count": 183,
     "metadata": {},
     "output_type": "execute_result"
    }
   ],
   "source": [
    "a_n(1, 2, 5)"
   ]
  },
  {
   "cell_type": "code",
   "execution_count": 184,
   "metadata": {},
   "outputs": [],
   "source": [
    "def a_seq(a1, d, n):\n",
    "    \"\"\"\n",
    "    Obtain the whole arithmetic sequence up to n.\n",
    "    a1: first term of the sequence. Integer or Real\n",
    "    d: common difference of the sequence. Integer or Real.\n",
    "    n: number of terms in the sequence\n",
    "    \n",
    "    returns: sequence as a list.   \n",
    "    \n",
    "    \"\"\"\n",
    "    \n",
    "    sequence = []\n",
    "    for i in range(n):\n",
    "        sequence.append(a1)\n",
    "        a1 += d\n",
    "    return sequence"
   ]
  },
  {
   "cell_type": "code",
   "execution_count": 185,
   "metadata": {},
   "outputs": [
    {
     "data": {
      "text/plain": [
       "[1, 3, 5, 7, 9]"
      ]
     },
     "execution_count": 185,
     "metadata": {},
     "output_type": "execute_result"
    }
   ],
   "source": [
    "a_seq(1, 2, 5)"
   ]
  },
  {
   "cell_type": "code",
   "execution_count": 186,
   "metadata": {},
   "outputs": [],
   "source": [
    "def infinite_a_sequence(a1, d):\n",
    "    \"\"\"\n",
    "    Generate an entire arithmetic sequence up to infinity.\n",
    "    a1: first term of the sequence. Integer or Real\n",
    "    d: common difference of the sequence. Integer or Real.\n",
    "    \n",
    "    returns: sequence as a generator.   \n",
    "    \n",
    "    \"\"\"\n",
    "    while True:\n",
    "        yield a1\n",
    "        a1 = a1 + d\n",
    "        \n",
    "gen = infinite_a_sequence(4, 3)\n"
   ]
  },
  {
   "cell_type": "code",
   "execution_count": 187,
   "metadata": {},
   "outputs": [
    {
     "data": {
      "text/plain": [
       "4"
      ]
     },
     "execution_count": 187,
     "metadata": {},
     "output_type": "execute_result"
    }
   ],
   "source": [
    "next(gen)"
   ]
  },
  {
   "cell_type": "code",
   "execution_count": 188,
   "metadata": {},
   "outputs": [
    {
     "data": {
      "text/plain": [
       "55"
      ]
     },
     "execution_count": 188,
     "metadata": {},
     "output_type": "execute_result"
    }
   ],
   "source": [
    "sum(a_seq(1, 5, 5))"
   ]
  },
  {
   "cell_type": "code",
   "execution_count": 189,
   "metadata": {},
   "outputs": [],
   "source": [
    "def a_series(a1, d, n):\n",
    "    \"\"\"\n",
    "    Calculate the sum of all terms in a finite arithmetic sequence.\n",
    "    a1: first term in the the sequence. Integer or Real.\n",
    "    d: common difference between terms in the sequence. Integer or Real.\n",
    "    n: the number of terms in the sequence.\n",
    "    \n",
    "    returns: sum of sequence as Integer or Real.\n",
    "    \n",
    "    \"\"\"\n",
    "    \n",
    "    result = n * (a1 + a_n(a1, d, n)) / 2\n",
    "    return result\n",
    "    "
   ]
  },
  {
   "cell_type": "code",
   "execution_count": 190,
   "metadata": {},
   "outputs": [
    {
     "data": {
      "text/plain": [
       "55.0"
      ]
     },
     "execution_count": 190,
     "metadata": {},
     "output_type": "execute_result"
    }
   ],
   "source": [
    "a_series(1, 5, 5)"
   ]
  },
  {
   "cell_type": "code",
   "execution_count": 191,
   "metadata": {},
   "outputs": [
    {
     "data": {
      "text/plain": [
       "512"
      ]
     },
     "execution_count": 191,
     "metadata": {},
     "output_type": "execute_result"
    }
   ],
   "source": [
    "# Chapter: 5.02 - Geometric Sequences\n",
    "def n_geom(r, a, n):\n",
    "    \"\"\"\n",
    "    Calculate the n-th term of a geometric sequence.\n",
    "    r: common ratio between successive terms in the sequence.\n",
    "    a: first term in the sequence. Integer or Real.\n",
    "    n: the number of terms in the sequence.\n",
    "    \n",
    "    returns: the n-th term in the sequence. Integer or Real.\n",
    "    \"\"\"\n",
    "    an = r ** (n-1) * a\n",
    "    return an\n",
    "\n",
    "n_geom(2, 1, 10)\n"
   ]
  },
  {
   "cell_type": "code",
   "execution_count": 192,
   "metadata": {},
   "outputs": [
    {
     "data": {
      "text/plain": [
       "1023.0"
      ]
     },
     "execution_count": 192,
     "metadata": {},
     "output_type": "execute_result"
    }
   ],
   "source": [
    "def sum_n_geom(r, a, n):\n",
    "    \"\"\"\n",
    "    Calculate the sum of all terms in a geometric sequence.\n",
    "    r: common ratio between successive terms in the sequence.\n",
    "    a: first term in the sequence. Integer or Real.\n",
    "    n: the number of terms in the sequence.\n",
    "    \n",
    "    returns: the sum of all terms in the sequence. Integer or Real.\n",
    "    \n",
    "    \"\"\"\n",
    "    \n",
    "    sum_n = (a * (1 - r ** n)) / (1 - r)\n",
    "    return sum_n\n",
    "\n",
    "sum_n_geom(2, 1, 10)"
   ]
  },
  {
   "cell_type": "code",
   "execution_count": 193,
   "metadata": {},
   "outputs": [
    {
     "data": {
      "text/plain": [
       "[1, 2, 4, 8, 16, 32, 64, 128, 256, 512]"
      ]
     },
     "execution_count": 193,
     "metadata": {},
     "output_type": "execute_result"
    }
   ],
   "source": [
    "def geom_seq(r, a, n):\n",
    "    \"\"\"\n",
    "    Generate a finite geometric sequence.\n",
    "    r: common ratio between successive terms in the sequence.\n",
    "    a: first term in the sequence. Integer or Real.\n",
    "    n: the number of terms in the sequence.\n",
    "    \n",
    "    returns: All terms in the sequence as a list.\n",
    "    \n",
    "    \"\"\"\n",
    "    sequence = []\n",
    "    \n",
    "    for i in range(n):\n",
    "        sequence.append(a)\n",
    "        a *= r\n",
    "    \n",
    "    return sequence\n",
    "    \n",
    "geom_seq(2, 1, 10)"
   ]
  },
  {
   "cell_type": "code",
   "execution_count": 194,
   "metadata": {},
   "outputs": [
    {
     "data": {
      "image/png": "[encoded data removed]",
      "text/plain": [
       "<Figure size 432x288 with 1 Axes>"
      ]
     },
     "metadata": {
      "needs_background": "light"
     },
     "output_type": "display_data"
    }
   ],
   "source": [
    "y = geom_seq(1.5, 1, 20)\n",
    "x = np.arange(0, len(y))\n",
    "\n",
    "plt.plot(x, y)\n",
    "plt.xticks([x for x in x if x % 2 == 0])\n",
    "plt.title(\"Geometric series with r = 1.5\")\n",
    "plt.show()"
   ]
  },
  {
   "cell_type": "code",
   "execution_count": 195,
   "metadata": {},
   "outputs": [
    {
     "data": {
      "image/png": "[encoded data removed]",
      "text/plain": [
       "<Figure size 432x288 with 1 Axes>"
      ]
     },
     "metadata": {
      "needs_background": "light"
     },
     "output_type": "display_data"
    }
   ],
   "source": [
    "y = geom_seq(0.5, 1, 20)\n",
    "x = np.arange(0, len(y))\n",
    "\n",
    "plt.plot(x, y)\n",
    "plt.xticks([x for x in x if x % 2 == 0])\n",
    "plt.title(\"Geometric series with r = 0.5\")\n",
    "plt.show()"
   ]
  },
  {
   "cell_type": "code",
   "execution_count": 196,
   "metadata": {},
   "outputs": [],
   "source": [
    "# Exercise 5.02: Writing a function to find the next term in a sequence\n",
    "#1.\n",
    "def find_ratio(*args):\n",
    "    \"\"\"\n",
    "    Determine if the ratio between a list of numbers is consistent across all terms n / n-1\n",
    "    \n",
    "    *args: a sequence of numbers\n",
    "    \n",
    "    returns: a ratio (if it is consistent) or -1 (if it is not)\n",
    "    \"\"\"\n",
    "    # Set arg0 to the first term\n",
    "    arg0 = args[0]\n",
    "    ratios = []\n",
    "    \n",
    "    # Calculate all ratios between terms and add to the ratios list\n",
    "    for arg in args[1:]:\n",
    "        ratio = round(arg/arg0, 8)\n",
    "        arg0 = arg\n",
    "        ratios.append(ratio)\n",
    "        \n",
    "    # If the set of ratios is len(1), then the ratio is consistent across all terms\n",
    "    if len(set(ratios)) == 1:\n",
    "        return ratio\n",
    "    else:\n",
    "        return -1"
   ]
  },
  {
   "cell_type": "code",
   "execution_count": 197,
   "metadata": {},
   "outputs": [
    {
     "data": {
      "text/plain": [
       "2.0"
      ]
     },
     "execution_count": 197,
     "metadata": {},
     "output_type": "execute_result"
    }
   ],
   "source": [
    "find_ratio(1, 2, 4, 8, 16)"
   ]
  },
  {
   "cell_type": "code",
   "execution_count": 198,
   "metadata": {},
   "outputs": [],
   "source": [
    "def find_next(*args):\n",
    "    \"\"\"\n",
    "    Calculate the next term in a sequence, if the sequence is geometric.\n",
    "    \n",
    "    *args: a sequence of numbers\n",
    "    \n",
    "    returns: the next term of a sequence (if geometric). Integer or Real.\n",
    "    \"\"\"\n",
    "    ratio = find_ratio(*args)\n",
    "    if ratio == -1:\n",
    "        raise ValueError(\"The Sequence you entered is not a valid geometric sequence.\\nPlease check input\")\n",
    "    else:\n",
    "        return args[-1] * ratio"
   ]
  },
  {
   "cell_type": "code",
   "execution_count": 199,
   "metadata": {},
   "outputs": [
    {
     "data": {
      "text/plain": [
       "32.0"
      ]
     },
     "execution_count": 199,
     "metadata": {},
     "output_type": "execute_result"
    }
   ],
   "source": [
    "find_next(2, 4, 8, 16)"
   ]
  },
  {
   "cell_type": "code",
   "execution_count": 200,
   "metadata": {},
   "outputs": [
    {
     "data": {
      "text/plain": [
       "64.0"
      ]
     },
     "execution_count": 200,
     "metadata": {},
     "output_type": "execute_result"
    }
   ],
   "source": [
    "find_next(2, 4, 8, 16, 32)"
   ]
  },
  {
   "cell_type": "code",
   "execution_count": 201,
   "metadata": {},
   "outputs": [],
   "source": [
    "# 5.03 - Recursive Sequences\n",
    "def factorial(n):\n",
    "    if n == 0 or n == 1:\n",
    "        return 1\n",
    "    elif n == 2:\n",
    "        return 2\n",
    "    else:\n",
    "        return n * factorial(n - 1)"
   ]
  },
  {
   "cell_type": "code",
   "execution_count": 202,
   "metadata": {},
   "outputs": [
    {
     "data": {
      "text/plain": [
       "24"
      ]
     },
     "execution_count": 202,
     "metadata": {},
     "output_type": "execute_result"
    }
   ],
   "source": [
    "factorial(4)"
   ]
  },
  {
   "cell_type": "code",
   "execution_count": 203,
   "metadata": {},
   "outputs": [],
   "source": [
    "# Exercise 5.04: Creating a custom recursive sequence\n",
    "def p_n(n):\n",
    "    \"\"\"\n",
    "    Function to generate a recursive sequence.\n",
    "    n: the current term in the sequence\n",
    "    returns: next sequence term based on calculation below:\n",
    "    next = ( 3*p_n(n-2) - p_n(n-1)) / (p_n(n-3) + 1)\n",
    "    \n",
    "    \"\"\"\n",
    "    \n",
    "    if n < 1:\n",
    "        return -1\n",
    "    elif n == 1:\n",
    "        return 1\n",
    "    elif n == 2:\n",
    "        return 7\n",
    "    elif n == 3:\n",
    "        return 2\n",
    "    else:\n",
    "        return ( 3*p_n(n-2) - p_n(n-1)) / (p_n(n-3) + 1)\n"
   ]
  },
  {
   "cell_type": "code",
   "execution_count": 204,
   "metadata": {},
   "outputs": [],
   "source": [
    "x = [p_n(x) for x in range(1, 30)]"
   ]
  },
  {
   "cell_type": "code",
   "execution_count": 205,
   "metadata": {},
   "outputs": [
    {
     "data": {
      "text/plain": [
       "[<matplotlib.lines.Line2D at 0x1ecc8b7ef40>]"
      ]
     },
     "execution_count": 205,
     "metadata": {},
     "output_type": "execute_result"
    },
    {
     "data": {
      "image/png": "[encoded data removed]",
      "text/plain": [
       "<Figure size 432x288 with 1 Axes>"
      ]
     },
     "metadata": {
      "needs_background": "light"
     },
     "output_type": "display_data"
    }
   ],
   "source": [
    "plt.plot(x, linestyle = '-', marker = 'o', color = 'b')"
   ]
  },
  {
   "cell_type": "code",
   "execution_count": 206,
   "metadata": {},
   "outputs": [],
   "source": [
    "# Chapter 5.04 - Trigonometry\n",
    "# Exercise 5.04 - Plotting a right-angled triangle\n",
    "#1.\n",
    "def find_hypothenuse(p1, p2):\n",
    "    p3 = round((p1**2 + p2**2) ** 0.5, 8)\n",
    "    return p3\n",
    "\n",
    "#2.\n",
    "def find_trig(adjacent, opposite, hypothenuse):\n",
    "    \"\"\"\n",
    "    returns a tuple of (sin, cos, tan)\n",
    "    \"\"\"\n",
    "    return (opposite/hypothenuse, adjacent/hypothenuse, opposite/adjacent)\n",
    "\n",
    "3.\n",
    "def plot_triangle(p1, p2, lw = 5):\n",
    "    x = [0, p1, 0]\n",
    "    y = [0, 0, p2]\n",
    "    n = ['0', 'p1', 'p2']\n",
    "    \n",
    "    flg, ax = plt.subplots(figsize=(p1,p2))\n",
    "    \n",
    "    # Plot plots\n",
    "    ax.scatter(x, y, s = 400, c = '#8C4799', alpha = 0.4)\n",
    "    ax.annotate(find_hypothenuse(p1, p2), (p1/2, p2/2))\n",
    "    \n",
    "    # plot edges\n",
    "    ax.plot([0, p1], [0, 0], lw = lw, color = 'r')\n",
    "    ax.plot([0, 0], [0, p2], lw = lw, color = 'b')\n",
    "    ax.plot([0, p1], [p2, 0], lw = lw, color = 'y')\n",
    "    \n",
    "    for i, txt in enumerate(n):\n",
    "        ax.annotate(txt, (x[i], y[i]), va = 'center')\n",
    "    plt.show()"
   ]
  },
  {
   "cell_type": "code",
   "execution_count": 207,
   "metadata": {},
   "outputs": [
    {
     "name": "stdout",
     "output_type": "stream",
     "text": [
      "(0.707106781123095, 0.707106781123095, 1.0)\n"
     ]
    },
    {
     "data": {
      "image/png": "[encoded data removed]",
      "text/plain": [
       "<Figure size 288x288 with 1 Axes>"
      ]
     },
     "metadata": {
      "needs_background": "light"
     },
     "output_type": "display_data"
    }
   ],
   "source": [
    "p1 = 4\n",
    "p2 = 4\n",
    "\n",
    "print(find_trig(p1, p2, find_hypothenuse(p1, p2)))\n",
    "plot_triangle(p1, p2)"
   ]
  },
  {
   "cell_type": "code",
   "execution_count": 208,
   "metadata": {},
   "outputs": [
    {
     "data": {
      "image/png": "[encoded data removed]",
      "text/plain": [
       "<Figure size 432x288 with 1 Axes>"
      ]
     },
     "metadata": {
      "needs_background": "light"
     },
     "output_type": "display_data"
    }
   ],
   "source": [
    "5. \n",
    "x = np.linspace(0, 10, 200)\n",
    "\n",
    "sin = np.sin(x)\n",
    "cos = np.cos(x)\n",
    "\n",
    "plt.xticks([0, np.pi/2, np.pi, 3*np.pi/2, 2 * np.pi, 5*np.pi/2, 3 * np.pi],\n",
    "          ['0','','\\u03C0','','2\\u03C0','','3\\u03C0'])\n",
    "plt.plot(x, sin, marker = 'o', label = 'sin')\n",
    "plt.plot(x, cos, marker = 'x', label = 'cos')\n",
    "plt.legend(loc = 'upper left')\n",
    "plt.ylim(-1.1, 1.6)\n",
    "plt.show()"
   ]
  },
  {
   "cell_type": "code",
   "execution_count": 209,
   "metadata": {},
   "outputs": [],
   "source": [
    "# Chapter 5.05 - Inverse Trigonometric Functions\n",
    "from math import asin, atan, acos, cos\n",
    "x = 0.5"
   ]
  },
  {
   "cell_type": "code",
   "execution_count": 210,
   "metadata": {},
   "outputs": [
    {
     "data": {
      "text/plain": [
       "1.0471975511965979"
      ]
     },
     "execution_count": 210,
     "metadata": {},
     "output_type": "execute_result"
    }
   ],
   "source": [
    "acos(x)"
   ]
  },
  {
   "cell_type": "code",
   "execution_count": 211,
   "metadata": {},
   "outputs": [
    {
     "data": {
      "text/plain": [
       "0.5235987755982989"
      ]
     },
     "execution_count": 211,
     "metadata": {},
     "output_type": "execute_result"
    }
   ],
   "source": [
    "asin(x)"
   ]
  },
  {
   "cell_type": "code",
   "execution_count": 212,
   "metadata": {},
   "outputs": [
    {
     "data": {
      "text/plain": [
       "0.4636476090008061"
      ]
     },
     "execution_count": 212,
     "metadata": {},
     "output_type": "execute_result"
    }
   ],
   "source": [
    "atan(x)"
   ]
  },
  {
   "cell_type": "code",
   "execution_count": 213,
   "metadata": {},
   "outputs": [],
   "source": [
    "x = 1.2"
   ]
  },
  {
   "cell_type": "code",
   "execution_count": 214,
   "metadata": {},
   "outputs": [
    {
     "ename": "ValueError",
     "evalue": "math domain error",
     "output_type": "error",
     "traceback": [
      "\u001b[1;31m---------------------------------------------------------------------------\u001b[0m",
      "\u001b[1;31mValueError\u001b[0m                                Traceback (most recent call last)",
      "\u001b[1;32m<ipython-input-214-b920dc2d86a7>\u001b[0m in \u001b[0;36m<module>\u001b[1;34m\u001b[0m\n\u001b[1;32m----> 1\u001b[1;33m \u001b[0macos\u001b[0m\u001b[1;33m(\u001b[0m\u001b[0mx\u001b[0m\u001b[1;33m)\u001b[0m\u001b[1;33m\u001b[0m\u001b[1;33m\u001b[0m\u001b[0m\n\u001b[0m",
      "\u001b[1;31mValueError\u001b[0m: math domain error"
     ]
    }
   ],
   "source": [
    "acos(x)"
   ]
  },
  {
   "cell_type": "code",
   "execution_count": 215,
   "metadata": {},
   "outputs": [
    {
     "ename": "ValueError",
     "evalue": "math domain error",
     "output_type": "error",
     "traceback": [
      "\u001b[1;31m---------------------------------------------------------------------------\u001b[0m",
      "\u001b[1;31mValueError\u001b[0m                                Traceback (most recent call last)",
      "\u001b[1;32m<ipython-input-215-21a2c8325f9b>\u001b[0m in \u001b[0;36m<module>\u001b[1;34m\u001b[0m\n\u001b[1;32m----> 1\u001b[1;33m \u001b[0masin\u001b[0m\u001b[1;33m(\u001b[0m\u001b[0mx\u001b[0m\u001b[1;33m)\u001b[0m\u001b[1;33m\u001b[0m\u001b[1;33m\u001b[0m\u001b[0m\n\u001b[0m",
      "\u001b[1;31mValueError\u001b[0m: math domain error"
     ]
    }
   ],
   "source": [
    "asin(x)"
   ]
  },
  {
   "cell_type": "code",
   "execution_count": null,
   "metadata": {},
   "outputs": [],
   "source": [
    "atan(x)"
   ]
  },
  {
   "cell_type": "code",
   "execution_count": null,
   "metadata": {},
   "outputs": [],
   "source": [
    "acos(cos(0.2))"
   ]
  },
  {
   "cell_type": "code",
   "execution_count": null,
   "metadata": {},
   "outputs": [],
   "source": [
    "# Exercise 5.05: Find the shortest way to the treasure using inverse trig\n",
    "# 1.\n",
    "from math import pi"
   ]
  },
  {
   "cell_type": "code",
   "execution_count": null,
   "metadata": {},
   "outputs": [],
   "source": [
    "# 2.\n",
    "AC, BC = 33, 20\n",
    "tan_th = BC/AC\n",
    "print(tan_th)"
   ]
  },
  {
   "cell_type": "code",
   "execution_count": null,
   "metadata": {},
   "outputs": [],
   "source": [
    "# 3.\n",
    "theta = atan(tan_th)\n",
    "\n",
    "# 4.\n",
    "theta_degrees = 180 * theta / pi\n",
    "print(theta)\n",
    "print(theta_degrees)"
   ]
  },
  {
   "cell_type": "code",
   "execution_count": null,
   "metadata": {},
   "outputs": [],
   "source": [
    "# 5.\n",
    "AB = (AC**2 + BC**2) ** 0.5\n",
    "print(AB)"
   ]
  },
  {
   "cell_type": "code",
   "execution_count": 216,
   "metadata": {
    "scrolled": true
   },
   "outputs": [
    {
     "data": {
      "image/png": "[encoded data removed]",
      "text/plain": [
       "<Figure size 432x288 with 1 Axes>"
      ]
     },
     "metadata": {
      "needs_background": "light"
     },
     "output_type": "display_data"
    }
   ],
   "source": [
    "# Exercise 5.06: Find the optimal distance from an object\n",
    "# 1.\n",
    "x = np.linspace(0.1, 50, 2000)\n",
    "y = np.arctan(7 * x / (30 + x**2))\n",
    "\n",
    "plt.plot(x, y)\n",
    "plt.show()"
   ]
  },
  {
   "cell_type": "code",
   "execution_count": 217,
   "metadata": {},
   "outputs": [
    {
     "name": "stdout",
     "output_type": "stream",
     "text": [
      "5.47 0.57\n"
     ]
    }
   ],
   "source": [
    "# 2.\n",
    "ymax = max(y)\n",
    "xmax = x[list(y).index(ymax)]\n",
    "\n",
    "print(round(xmax, 2), round(ymax, 2))"
   ]
  },
  {
   "cell_type": "code",
   "execution_count": 218,
   "metadata": {},
   "outputs": [
    {
     "name": "stdout",
     "output_type": "stream",
     "text": [
      "32.58\n"
     ]
    }
   ],
   "source": [
    "# 3.\n",
    "ymax_deg = round(ymax * 180 / np.pi, 2)\n",
    "print(ymax_deg)"
   ]
  },
  {
   "cell_type": "code",
   "execution_count": 219,
   "metadata": {},
   "outputs": [],
   "source": [
    "dist = []\n",
    "nums = x = np.linspace(0.1, 50, 2000)\n",
    "for i in nums:\n",
    "    x = (3**2 + i**2) ** 0.5\n",
    "    dist.append(np.tan(7/x))\n",
    "dist_2 = np.arctan(np.array(dist))"
   ]
  },
  {
   "cell_type": "code",
   "execution_count": 220,
   "metadata": {},
   "outputs": [
    {
     "data": {
      "text/plain": [
       "1.564330257867936"
      ]
     },
     "execution_count": 220,
     "metadata": {},
     "output_type": "execute_result"
    }
   ],
   "source": [
    "max(dist_2)"
   ]
  },
  {
   "cell_type": "code",
   "execution_count": 222,
   "metadata": {},
   "outputs": [],
   "source": [
    "# Chapter 5.07: Vectors\n",
    "A = np.array([2, 10, 0])\n",
    "B = np.array([9, 1, -1])"
   ]
  },
  {
   "cell_type": "code",
   "execution_count": 223,
   "metadata": {},
   "outputs": [
    {
     "name": "stdout",
     "output_type": "stream",
     "text": [
      "10.198039027185569\n",
      "9.1104335791443\n"
     ]
    }
   ],
   "source": [
    "Amagn = np.sqrt(A.dot(A))\n",
    "Bmagn = np.sqrt(B.dot(B))\n",
    "print(Amagn)\n",
    "print(Bmagn)"
   ]
  },
  {
   "cell_type": "code",
   "execution_count": 224,
   "metadata": {},
   "outputs": [
    {
     "name": "stdout",
     "output_type": "stream",
     "text": [
      "10.198039027185569\n",
      "9.1104335791443\n"
     ]
    }
   ],
   "source": [
    "Amagn = np.linalg.norm(A)\n",
    "Bmagn = np.linalg.norm(B)\n",
    "print(Amagn)\n",
    "print(Bmagn)"
   ]
  },
  {
   "cell_type": "code",
   "execution_count": 227,
   "metadata": {},
   "outputs": [
    {
     "name": "stdout",
     "output_type": "stream",
     "text": [
      "72.45999711391066\n"
     ]
    }
   ],
   "source": [
    "theta = acos(A.dot(B) / (Amagn * Bmagn))\n",
    "print(theta * 180 / np.pi)"
   ]
  },
  {
   "cell_type": "code",
   "execution_count": 234,
   "metadata": {},
   "outputs": [],
   "source": [
    "# Exercise 5.07 - Visualising Vectors\n",
    "def plot_vectors(vec1, vec2, isSum = False):\n",
    "    label1 = \"A\"\n",
    "    label2 = \"B\"\n",
    "    label3 = \"A+B\"\n",
    "    orig = [0.0, 0.0]\n",
    "    \n",
    "    ax = plt.axes()\n",
    "    ax.annotate(label1, [vec1[0] + 0.5, vec1[1] + 0.5])\n",
    "    ax.annotate(label2, [vec2[0] + 0.5, vec2[1] + 0.5])\n",
    "    \n",
    "    if isSum:\n",
    "        vec3 = [vec1[0] + vec2[0], vec1[1] + vec2[1]]\n",
    "        ax.annotate(label3, [vec3[0] + 0.5, vec3[1] + 0.5])\n",
    "        \n",
    "    ax.arrow(*orig, *vec1, head_width = 0.4, head_length = 0.65)\n",
    "    ax.arrow(*orig, *vec2, head_width = 0.4, head_length = 0.65, ec = 'blue')\n",
    "    \n",
    "    if isSum:\n",
    "        ax.arrow(*orig, *vec3, head_width = 0.2, head_length = 0.25, ec = 'yellow')\n",
    "    \n",
    "    plt.grid()\n",
    "    e = 3\n",
    "    plt.xlim(min(vec1[0], vec2[0], 0) - e, max(vec1[0], vec2[0], 0) + e)\n",
    "    plt.ylim(min(vec1[1], vec2[1], 0) - e, max(vec1[1], vec2[1], 0) + e)\n",
    "    \n",
    "    plt.title(\"Vector Sum\", fontsize = 14)\n",
    "    \n",
    "    plt.show()\n",
    "    plt.close()"
   ]
  },
  {
   "cell_type": "code",
   "execution_count": 235,
   "metadata": {},
   "outputs": [],
   "source": [
    "def find_angle(vec1, vec2, isRadians = True, isSum = False):\n",
    "    vec1 = np.array(vec1)\n",
    "    vec2 = np.array(vec2)\n",
    "    \n",
    "    product12 = np.dot(vec1, vec2)\n",
    "    cos_theta = product12 / (np.dot(vec1, vec1)**0.5 * np.dot(vec2, vec2)**0.5)\n",
    "    cos_theta = round(cos_theta, 12)\n",
    "    theta = np.arccos(cos_theta)\n",
    "    \n",
    "    plot_vectors(vec1, vec2, isSum = isSum)\n",
    "    if isRadians:\n",
    "        return theta\n",
    "    else:\n",
    "        return theta * 180 / np.pi"
   ]
  },
  {
   "cell_type": "code",
   "execution_count": 236,
   "metadata": {},
   "outputs": [
    {
     "data": {
      "image/png": "[encoded data removed]",
      "text/plain": [
       "<Figure size 432x288 with 1 Axes>"
      ]
     },
     "metadata": {
      "needs_background": "light"
     },
     "output_type": "display_data"
    },
    {
     "data": {
      "text/plain": [
       "90.0"
      ]
     },
     "execution_count": 236,
     "metadata": {},
     "output_type": "execute_result"
    }
   ],
   "source": [
    "ve1 = [1, 5]\n",
    "ve2 = [5, -1]\n",
    "find_angle(ve1, ve2, isRadians = False, isSum = True)"
   ]
  },
  {
   "cell_type": "code",
   "execution_count": 237,
   "metadata": {},
   "outputs": [
    {
     "data": {
      "image/png": "[encoded data removed]",
      "text/plain": [
       "<Figure size 432x288 with 1 Axes>"
      ]
     },
     "metadata": {
      "needs_background": "light"
     },
     "output_type": "display_data"
    },
    {
     "data": {
      "text/plain": [
       "0.0"
      ]
     },
     "execution_count": 237,
     "metadata": {},
     "output_type": "execute_result"
    }
   ],
   "source": [
    "ve1 = [1, 5]\n",
    "ve2 = [0.5, 2.5]\n",
    "find_angle(ve1, ve2, isRadians = False, isSum = True)"
   ]
  },
  {
   "cell_type": "code",
   "execution_count": 239,
   "metadata": {},
   "outputs": [
    {
     "data": {
      "image/png": "[encoded data removed]",
      "text/plain": [
       "<Figure size 432x288 with 1 Axes>"
      ]
     },
     "metadata": {
      "needs_background": "light"
     },
     "output_type": "display_data"
    },
    {
     "data": {
      "text/plain": [
       "44.99999999996334"
      ]
     },
     "execution_count": 239,
     "metadata": {},
     "output_type": "execute_result"
    }
   ],
   "source": [
    "ve1 = [1, 5]\n",
    "ve2 = [3, 2]\n",
    "find_angle(ve1, ve2, isRadians = False, isSum = True)"
   ]
  },
  {
   "cell_type": "code",
   "execution_count": 248,
   "metadata": {},
   "outputs": [],
   "source": [
    "# Activity 5.01 - Calculating your retirement plan using series.\n",
    "# 1.\n",
    "# Identify the variables:\n",
    "salary = 0\n",
    "current_balance = 0\n",
    "monthly_contrib = 0.06\n",
    "employer_contrib = 0.07\n",
    "rate_of_return = 0\n",
    "life_expectancy = 0\n",
    "retirement_age = 68\n",
    "fees = 0\n",
    "employer_limit = 0.06\n",
    "employee_limit = 18000"
   ]
  },
  {
   "cell_type": "code",
   "execution_count": 271,
   "metadata": {},
   "outputs": [],
   "source": [
    "# 2.\n",
    "def calc_value_year_n(year_n, salary, current_balance, rate_of_return,\n",
    "                      current_age = 30, retirement_age = 68,\n",
    "                      employee_contrib_pct = 0.06, employee_limit = 18000,\n",
    "                      employer_contrib_pct = 0.06, employer_limit = 0.06, fees = 0):\n",
    "    \n",
    "    total_employee_contrib = 0\n",
    "    total_employer_contrib = 0\n",
    "    for i in range(year_n):\n",
    "        employee_yearly_contrib = min((salary * monthly_contrib), employee_limit)\n",
    "        employer_yearly_contrib = min(0.06, employer_contrib_pct) * salary\n",
    "        total_yearly_contrib = employee_yearly_contrib + employer_yearly_contrib\n",
    "        total_employee_contrib += employee_yearly_contrib\n",
    "        total_employer_contrib += employer_yearly_contrib\n",
    "        new_balance = (current_balance + total_yearly_contrib)\n",
    "        current_balance = new_balance + (new_balance * rate_of_return)\n",
    "    return (total_employee_contrib, total_employer_contrib, round(current_balance, 2))"
   ]
  },
  {
   "cell_type": "code",
   "execution_count": 281,
   "metadata": {},
   "outputs": [
    {
     "data": {
      "text/plain": [
       "(9600.0, 9600.0, 20367.36)"
      ]
     },
     "execution_count": 281,
     "metadata": {},
     "output_type": "execute_result"
    }
   ],
   "source": [
    "calc_value_year_n(2, 80000, 0, 0.04)"
   ]
  },
  {
   "cell_type": "code",
   "execution_count": 300,
   "metadata": {},
   "outputs": [],
   "source": [
    "def calc_lifetime_value(year_n, salary, current_balance, rate_of_return,\n",
    "                        current_age = 30, retirement_age = 68,\n",
    "                        employee_contrib_pct = 0.06, employee_limit = 18000,\n",
    "                        employer_contrib_pct = 0.06, employer_limit = 0.06, fees = 0):\n",
    "    \n",
    "    \n",
    "    employee_contribs = []\n",
    "    employer_contribs = []\n",
    "    total_values = []\n",
    "    for i in range(year_n):\n",
    "        year_values = calc_value_year_n(i, salary, current_balance, rate_of_return,\n",
    "                                       current_age, retirement_age, \n",
    "                                       employee_contrib_pct, employee_limit,\n",
    "                                       employer_contrib_pct, employer_limit)\n",
    "        employee_contribs.append(year_values[0])\n",
    "        employer_contribs.append(year_values[1])\n",
    "        total_values.append(year_values[2])\n",
    "    return (employee_contribs, employer_contribs, total_values, year_n)"
   ]
  },
  {
   "cell_type": "code",
   "execution_count": 301,
   "metadata": {},
   "outputs": [
    {
     "data": {
      "text/plain": [
       "([0,\n",
       "  4800.0,\n",
       "  9600.0,\n",
       "  14400.0,\n",
       "  19200.0,\n",
       "  24000.0,\n",
       "  28800.0,\n",
       "  33600.0,\n",
       "  38400.0,\n",
       "  43200.0],\n",
       " [0,\n",
       "  4800.0,\n",
       "  9600.0,\n",
       "  14400.0,\n",
       "  19200.0,\n",
       "  24000.0,\n",
       "  28800.0,\n",
       "  33600.0,\n",
       "  38400.0,\n",
       "  43200.0],\n",
       " [0,\n",
       "  9984.0,\n",
       "  20367.36,\n",
       "  31166.05,\n",
       "  42396.7,\n",
       "  54076.56,\n",
       "  66223.63,\n",
       "  78856.57,\n",
       "  91994.83,\n",
       "  105658.63],\n",
       " 10)"
      ]
     },
     "execution_count": 301,
     "metadata": {},
     "output_type": "execute_result"
    }
   ],
   "source": [
    "calc_lifetime_value(10, 80000, 0, 0.04)"
   ]
  },
  {
   "cell_type": "code",
   "execution_count": 318,
   "metadata": {},
   "outputs": [],
   "source": [
    "def plot_yearly_contribs(calc_lifetime_values_tuple):\n",
    "    employee_contribs = calc_lifetime_values_tuple[0]\n",
    "    employer_contribs = calc_lifetime_values_tuple[1]\n",
    "    total_value = calc_lifetime_values_tuple[2]\n",
    "    years = np.arange(0, calc_lifetime_values_tuple[3])\n",
    "    \n",
    "    fig, ax = plt.subplots()\n",
    "    ax.plot(years, employee_contribs, c = 'r', label = 'employee')\n",
    "    ax.plot(years, employer_contribs, c = 'b', label = 'employer')\n",
    "    ax.plot(years, total_value, c = 'g', label = 'total')\n",
    "    leg = ax.legend()\n"
   ]
  },
  {
   "cell_type": "code",
   "execution_count": 319,
   "metadata": {},
   "outputs": [
    {
     "data": {
      "image/png": "[encoded data removed]",
      "text/plain": [
       "<Figure size 432x288 with 1 Axes>"
      ]
     },
     "metadata": {
      "needs_background": "light"
     },
     "output_type": "display_data"
    }
   ],
   "source": [
    "plot_yearly_contribs(calc_lifetime_value(10, 90000, 0, 0.04, employer_contrib_pct = 0.02))"
   ]
  }
 ],
 "metadata": {
  "kernelspec": {
   "display_name": "Python 3",
   "language": "python",
   "name": "python3"
  },
  "language_info": {
   "codemirror_mode": {
    "name": "ipython",
    "version": 3
   },
   "file_extension": ".py",
   "mimetype": "text/x-python",
   "name": "python",
   "nbconvert_exporter": "python",
   "pygments_lexer": "ipython3",
   "version": "3.8.5"
  }
 },
 "nbformat": 4,
 "nbformat_minor": 4
}
