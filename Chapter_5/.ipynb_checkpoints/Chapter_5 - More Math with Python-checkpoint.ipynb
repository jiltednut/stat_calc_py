{
 "cells": [
  {
   "cell_type": "code",
   "execution_count": 87,
   "metadata": {},
   "outputs": [],
   "source": [
    "import pandas as pd\n",
    "import numpy as np\n",
    "import scipy.stats as stats\n",
    "import matplotlib.pyplot as plt\n",
    "import seaborn as sns"
   ]
  },
  {
   "cell_type": "code",
   "execution_count": 88,
   "metadata": {},
   "outputs": [],
   "source": [
    "def my_function(arg1, arg2):\n",
    "    \"\"\"\n",
    "    Write a function that adds 2 numbers and returns their sum\n",
    "    \"\"\"\n",
    "    return arg1 + arg2"
   ]
  },
  {
   "cell_type": "code",
   "execution_count": 89,
   "metadata": {},
   "outputs": [
    {
     "name": "stdout",
     "output_type": "stream",
     "text": [
      "11\n"
     ]
    }
   ],
   "source": [
    "print(my_function(2, 9))"
   ]
  },
  {
   "cell_type": "code",
   "execution_count": 90,
   "metadata": {},
   "outputs": [],
   "source": [
    "# Generators\n",
    "def my_generator(arg1, arg2, n):\n",
    "    \"\"\" Write a generator functions that adds 2 numbers n times and sums them\"\"\"\n",
    "    i = 0\n",
    "    result = 0\n",
    "    while i < n:\n",
    "        result += (arg1 + arg2)\n",
    "        i += 1\n",
    "        yield result"
   ]
  },
  {
   "cell_type": "code",
   "execution_count": 91,
   "metadata": {},
   "outputs": [
    {
     "data": {
      "text/plain": [
       "11"
      ]
     },
     "execution_count": 91,
     "metadata": {},
     "output_type": "execute_result"
    }
   ],
   "source": [
    "my_gen = my_generator(2, 9, 4)\n",
    "next(my_gen)"
   ]
  },
  {
   "cell_type": "code",
   "execution_count": 92,
   "metadata": {},
   "outputs": [
    {
     "data": {
      "text/plain": [
       "22"
      ]
     },
     "execution_count": 92,
     "metadata": {},
     "output_type": "execute_result"
    }
   ],
   "source": [
    "next(my_gen)"
   ]
  },
  {
   "cell_type": "code",
   "execution_count": 93,
   "metadata": {},
   "outputs": [
    {
     "data": {
      "text/plain": [
       "33"
      ]
     },
     "execution_count": 93,
     "metadata": {},
     "output_type": "execute_result"
    }
   ],
   "source": [
    "next(my_gen)"
   ]
  },
  {
   "cell_type": "code",
   "execution_count": 94,
   "metadata": {},
   "outputs": [],
   "source": [
    "# Exercise 5.01: Determining the nth term of an artithmetic sequence and series\n",
    "def a_n(a1, d, n):\n",
    "    \"\"\"\n",
    "    Return the n-th term of the arithmetic sequence.\n",
    "    \n",
    "    a1: first term of the sequence. Integer or Real\n",
    "    n: the n-th term in the sequence.\n",
    "    \n",
    "    d: the common difference between each term in the arithmetic sequence.\n",
    "    \n",
    "    returns: n-th term. Integer or real\n",
    "    \n",
    "    \"\"\"\n",
    "    \n",
    "    return a1 + ((n - 1) * d)\n",
    "    "
   ]
  },
  {
   "cell_type": "code",
   "execution_count": 95,
   "metadata": {},
   "outputs": [
    {
     "data": {
      "text/plain": [
       "9"
      ]
     },
     "execution_count": 95,
     "metadata": {},
     "output_type": "execute_result"
    }
   ],
   "source": [
    "a_n(1, 2, 5)"
   ]
  },
  {
   "cell_type": "code",
   "execution_count": 96,
   "metadata": {},
   "outputs": [],
   "source": [
    "def a_seq(a1, d, n):\n",
    "    \"\"\"\n",
    "    Obtain the whole arithmetic sequence up to n.\n",
    "    a1: first term of the sequence. Integer or Real\n",
    "    d: common difference of the sequence. Integer or Real.\n",
    "    n: number of terms in the sequence\n",
    "    \n",
    "    returns: sequence as a list.   \n",
    "    \n",
    "    \"\"\"\n",
    "    \n",
    "    sequence = []\n",
    "    for i in range(n):\n",
    "        sequence.append(a1)\n",
    "        a1 += d\n",
    "    return sequence"
   ]
  },
  {
   "cell_type": "code",
   "execution_count": 97,
   "metadata": {},
   "outputs": [
    {
     "data": {
      "text/plain": [
       "[1, 3, 5, 7, 9]"
      ]
     },
     "execution_count": 97,
     "metadata": {},
     "output_type": "execute_result"
    }
   ],
   "source": [
    "a_seq(1, 2, 5)"
   ]
  },
  {
   "cell_type": "code",
   "execution_count": 98,
   "metadata": {},
   "outputs": [],
   "source": [
    "def infinite_a_sequence(a1, d):\n",
    "    \"\"\"\n",
    "    Generate an entire arithmetic sequence up to infinity.\n",
    "    a1: first term of the sequence. Integer or Real\n",
    "    d: common difference of the sequence. Integer or Real.\n",
    "    \n",
    "    returns: sequence as a generator.   \n",
    "    \n",
    "    \"\"\"\n",
    "    while True:\n",
    "        yield a1\n",
    "        a1 = a1 + d\n",
    "        \n",
    "gen = infinite_a_sequence(4, 3)\n"
   ]
  },
  {
   "cell_type": "code",
   "execution_count": 99,
   "metadata": {},
   "outputs": [
    {
     "data": {
      "text/plain": [
       "4"
      ]
     },
     "execution_count": 99,
     "metadata": {},
     "output_type": "execute_result"
    }
   ],
   "source": [
    "next(gen)"
   ]
  },
  {
   "cell_type": "code",
   "execution_count": 100,
   "metadata": {},
   "outputs": [
    {
     "data": {
      "text/plain": [
       "55"
      ]
     },
     "execution_count": 100,
     "metadata": {},
     "output_type": "execute_result"
    }
   ],
   "source": [
    "sum(a_seq(1, 5, 5))"
   ]
  },
  {
   "cell_type": "code",
   "execution_count": 101,
   "metadata": {},
   "outputs": [],
   "source": [
    "def a_series(a1, d, n):\n",
    "    \"\"\"\n",
    "    Calculate the sum of all terms in a finite arithmetic sequence.\n",
    "    a1: first term in the the sequence. Integer or Real.\n",
    "    d: common difference between terms in the sequence. Integer or Real.\n",
    "    n: the number of terms in the sequence.\n",
    "    \n",
    "    returns: sum of sequence as Integer or Real.\n",
    "    \n",
    "    \"\"\"\n",
    "    \n",
    "    result = n * (a1 + a_n(a1, d, n)) / 2\n",
    "    return result\n",
    "    "
   ]
  },
  {
   "cell_type": "code",
   "execution_count": 102,
   "metadata": {},
   "outputs": [
    {
     "data": {
      "text/plain": [
       "55.0"
      ]
     },
     "execution_count": 102,
     "metadata": {},
     "output_type": "execute_result"
    }
   ],
   "source": [
    "a_series(1, 5, 5)"
   ]
  },
  {
   "cell_type": "code",
   "execution_count": 103,
   "metadata": {},
   "outputs": [
    {
     "data": {
      "text/plain": [
       "512"
      ]
     },
     "execution_count": 103,
     "metadata": {},
     "output_type": "execute_result"
    }
   ],
   "source": [
    "# Chapter: 5.02 - Geometric Sequences\n",
    "def n_geom(r, a, n):\n",
    "    \"\"\"\n",
    "    Calculate the n-th term of a geometric sequence.\n",
    "    r: common ratio between successive terms in the sequence.\n",
    "    a: first term in the sequence. Integer or Real.\n",
    "    n: the number of terms in the sequence.\n",
    "    \n",
    "    returns: the n-th term in the sequence. Integer or Real.\n",
    "    \"\"\"\n",
    "    an = r ** (n-1) * a\n",
    "    return an\n",
    "\n",
    "n_geom(2, 1, 10)\n"
   ]
  },
  {
   "cell_type": "code",
   "execution_count": 104,
   "metadata": {},
   "outputs": [
    {
     "data": {
      "text/plain": [
       "1023.0"
      ]
     },
     "execution_count": 104,
     "metadata": {},
     "output_type": "execute_result"
    }
   ],
   "source": [
    "def sum_n_geom(r, a, n):\n",
    "    \"\"\"\n",
    "    Calculate the sum of all terms in a geometric sequence.\n",
    "    r: common ratio between successive terms in the sequence.\n",
    "    a: first term in the sequence. Integer or Real.\n",
    "    n: the number of terms in the sequence.\n",
    "    \n",
    "    returns: the sum of all terms in the sequence. Integer or Real.\n",
    "    \n",
    "    \"\"\"\n",
    "    \n",
    "    sum_n = (a * (1 - r ** n)) / (1 - r)\n",
    "    return sum_n\n",
    "\n",
    "sum_n_geom(2, 1, 10)"
   ]
  },
  {
   "cell_type": "code",
   "execution_count": 105,
   "metadata": {},
   "outputs": [
    {
     "data": {
      "text/plain": [
       "[1, 2, 4, 8, 16, 32, 64, 128, 256, 512]"
      ]
     },
     "execution_count": 105,
     "metadata": {},
     "output_type": "execute_result"
    }
   ],
   "source": [
    "def geom_seq(r, a, n):\n",
    "    \"\"\"\n",
    "    Generate a finite geometric sequence.\n",
    "    r: common ratio between successive terms in the sequence.\n",
    "    a: first term in the sequence. Integer or Real.\n",
    "    n: the number of terms in the sequence.\n",
    "    \n",
    "    returns: All terms in the sequence as a list.\n",
    "    \n",
    "    \"\"\"\n",
    "    sequence = []\n",
    "    \n",
    "    for i in range(n):\n",
    "        sequence.append(a)\n",
    "        a *= r\n",
    "    \n",
    "    return sequence\n",
    "    \n",
    "geom_seq(2, 1, 10)"
   ]
  },
  {
   "cell_type": "code",
   "execution_count": 106,
   "metadata": {},
   "outputs": [
    {
     "data": {
      "image/png": "[encoded data removed]",
      "text/plain": [
       "<Figure size 432x288 with 1 Axes>"
      ]
     },
     "metadata": {
      "needs_background": "light"
     },
     "output_type": "display_data"
    }
   ],
   "source": [
    "y = geom_seq(1.5, 1, 20)\n",
    "x = np.arange(0, len(y))\n",
    "\n",
    "plt.plot(x, y)\n",
    "plt.xticks([x for x in x if x % 2 == 0])\n",
    "plt.title(\"Geometric series with r = 1.5\")\n",
    "plt.show()"
   ]
  },
  {
   "cell_type": "code",
   "execution_count": 107,
   "metadata": {},
   "outputs": [
    {
     "data": {
      "image/png": "[encoded data removed]",
      "text/plain": [
       "<Figure size 432x288 with 1 Axes>"
      ]
     },
     "metadata": {
      "needs_background": "light"
     },
     "output_type": "display_data"
    }
   ],
   "source": [
    "y = geom_seq(0.5, 1, 20)\n",
    "x = np.arange(0, len(y))\n",
    "\n",
    "plt.plot(x, y)\n",
    "plt.xticks([x for x in x if x % 2 == 0])\n",
    "plt.title(\"Geometric series with r = 0.5\")\n",
    "plt.show()"
   ]
  },
  {
   "cell_type": "code",
   "execution_count": 108,
   "metadata": {},
   "outputs": [],
   "source": [
    "# Exercise 5.02: Writing a function to find the next term in a sequence\n",
    "#1.\n",
    "def find_ratio(*args):\n",
    "    \"\"\"\n",
    "    Determine if the ratio between a list of numbers is consistent across all terms n / n-1\n",
    "    \n",
    "    *args: a sequence of numbers\n",
    "    \n",
    "    returns: a ratio (if it is consistent) or -1 (if it is not)\n",
    "    \"\"\"\n",
    "    # Set arg0 to the first term\n",
    "    arg0 = args[0]\n",
    "    ratios = []\n",
    "    \n",
    "    # Calculate all ratios between terms and add to the ratios list\n",
    "    for arg in args[1:]:\n",
    "        ratio = round(arg/arg0, 8)\n",
    "        arg0 = arg\n",
    "        ratios.append(ratio)\n",
    "        \n",
    "    # If the set of ratios is len(1), then the ratio is consistent across all terms\n",
    "    if len(set(ratios)) == 1:\n",
    "        return ratio\n",
    "    else:\n",
    "        return -1"
   ]
  },
  {
   "cell_type": "code",
   "execution_count": 109,
   "metadata": {},
   "outputs": [
    {
     "data": {
      "text/plain": [
       "2.0"
      ]
     },
     "execution_count": 109,
     "metadata": {},
     "output_type": "execute_result"
    }
   ],
   "source": [
    "find_ratio(1, 2, 4, 8, 16)"
   ]
  },
  {
   "cell_type": "code",
   "execution_count": 110,
   "metadata": {},
   "outputs": [],
   "source": [
    "def find_next(*args):\n",
    "    \"\"\"\n",
    "    Calculate the next term in a sequence, if the sequence is geometric.\n",
    "    \n",
    "    *args: a sequence of numbers\n",
    "    \n",
    "    returns: the next term of a sequence (if geometric). Integer or Real.\n",
    "    \"\"\"\n",
    "    ratio = find_ratio(*args)\n",
    "    if ratio == -1:\n",
    "        raise ValueError(\"The Sequence you entered is not a valid geometric sequence.\\nPlease check input\")\n",
    "    else:\n",
    "        return args[-1] * ratio"
   ]
  },
  {
   "cell_type": "code",
   "execution_count": 112,
   "metadata": {},
   "outputs": [
    {
     "data": {
      "text/plain": [
       "32.0"
      ]
     },
     "execution_count": 112,
     "metadata": {},
     "output_type": "execute_result"
    }
   ],
   "source": [
    "find_next(2, 4, 8, 16)"
   ]
  },
  {
   "cell_type": "code",
   "execution_count": 113,
   "metadata": {},
   "outputs": [
    {
     "data": {
      "text/plain": [
       "64.0"
      ]
     },
     "execution_count": 113,
     "metadata": {},
     "output_type": "execute_result"
    }
   ],
   "source": [
    "find_next(2, 4, 8, 16, 32)"
   ]
  },
  {
   "cell_type": "code",
   "execution_count": 114,
   "metadata": {},
   "outputs": [],
   "source": [
    "# 5.03 - Recursive Sequences\n",
    "def factorial(n):\n",
    "    if n == 0 or n == 1:\n",
    "        return 1\n",
    "    elif n == 2:\n",
    "        return 2\n",
    "    else:\n",
    "        return n * factorial(n - 1)"
   ]
  },
  {
   "cell_type": "code",
   "execution_count": 115,
   "metadata": {},
   "outputs": [
    {
     "data": {
      "text/plain": [
       "24"
      ]
     },
     "execution_count": 115,
     "metadata": {},
     "output_type": "execute_result"
    }
   ],
   "source": [
    "factorial(4)"
   ]
  },
  {
   "cell_type": "code",
   "execution_count": 116,
   "metadata": {},
   "outputs": [],
   "source": [
    "# Exercise 5.04: Creating a custom recursive sequence\n",
    "def p_n(n):\n",
    "    \"\"\"\n",
    "    Function to generate a recursive sequence.\n",
    "    n: the current term in the sequence\n",
    "    returns: next sequence term based on calculation below:\n",
    "    next = ( 3*p_n(n-2) - p_n(n-1)) / (p_n(n-3) + 1)\n",
    "    \n",
    "    \"\"\"\n",
    "    \n",
    "    if n < 1:\n",
    "        return -1\n",
    "    elif n == 1:\n",
    "        return 1\n",
    "    elif n == 2:\n",
    "        return 7\n",
    "    elif n == 3:\n",
    "        return 2\n",
    "    else:\n",
    "        return ( 3*p_n(n-2) - p_n(n-1)) / (p_n(n-3) + 1)\n"
   ]
  },
  {
   "cell_type": "code",
   "execution_count": 121,
   "metadata": {},
   "outputs": [],
   "source": [
    "x = [p_n(x) for x in range(1, 30)]"
   ]
  },
  {
   "cell_type": "code",
   "execution_count": 122,
   "metadata": {},
   "outputs": [
    {
     "data": {
      "text/plain": [
       "[<matplotlib.lines.Line2D at 0x1ecc7726580>]"
      ]
     },
     "execution_count": 122,
     "metadata": {},
     "output_type": "execute_result"
    },
    {
     "data": {
      "image/png": "[encoded data removed]",
      "text/plain": [
       "<Figure size 432x288 with 1 Axes>"
      ]
     },
     "metadata": {
      "needs_background": "light"
     },
     "output_type": "display_data"
    }
   ],
   "source": [
    "plt.plot(x, linestyle = '-', marker = 'o', color = 'b')"
   ]
  },
  {
   "cell_type": "code",
   "execution_count": 132,
   "metadata": {},
   "outputs": [],
   "source": [
    "# Chapter 5.04 - Trigonometry\n",
    "# Exercise 5.04 - Plotting a right-angled triangle\n",
    "#1.\n",
    "def find_hypothenuse(p1, p2):\n",
    "    p3 = round((p1**2 + p2**2) ** 0.5, 8)\n",
    "    return p3\n",
    "\n",
    "#2.\n",
    "def find_trig(adjacent, opposite, hypothenuse):\n",
    "    \"\"\"\n",
    "    returns a tuple of (sin, cos, tan)\n",
    "    \"\"\"\n",
    "    return (opposite/hypothenuse, adjacent/hypothenuse, opposite/adjacent)\n",
    "\n",
    "3.\n",
    "def plot_triangle(p1, p2, lw = 5):\n",
    "    x = [0, p1, 0]\n",
    "    y = [0, 0, p2]\n",
    "    n = ['0', 'p1', 'p2']\n",
    "    \n",
    "    flg, ax = plt.subplots(figsize=(p1,p2))\n",
    "    \n",
    "    # Plot plots\n",
    "    ax.scatter(x, y, s = 400, c = '#8C4799', alpha = 0.4)\n",
    "    ax.annotate(find_hypothenuse(p1, p2), (p1/2, p2/2))\n",
    "    \n",
    "    # plot edges\n",
    "    ax.plot([0, p1], [0, 0], lw = lw, color = 'r')\n",
    "    ax.plot([0, 0], [0, p2], lw = lw, color = 'b')\n",
    "    ax.plot([0, p1], [p2, 0], lw = lw, color = 'y')\n",
    "    \n",
    "    for i, txt in enumerate(n):\n",
    "        ax.annotate(txt, (x[i], y[i]), va = 'center')\n",
    "    plt.show()"
   ]
  },
  {
   "cell_type": "code",
   "execution_count": 133,
   "metadata": {},
   "outputs": [
    {
     "name": "stdout",
     "output_type": "stream",
     "text": [
      "(0.707106781123095, 0.707106781123095, 1.0)\n"
     ]
    },
    {
     "data": {
      "image/png": "[encoded data removed]",
      "text/plain": [
       "<Figure size 288x288 with 1 Axes>"
      ]
     },
     "metadata": {
      "needs_background": "light"
     },
     "output_type": "display_data"
    }
   ],
   "source": [
    "p1 = 4\n",
    "p2 = 4\n",
    "\n",
    "print(find_trig(p1, p2, find_hypothenuse(p1, p2)))\n",
    "plot_triangle(p1, p2)"
   ]
  },
  {
   "cell_type": "code",
   "execution_count": 136,
   "metadata": {},
   "outputs": [
    {
     "data": {
      "image/png": "[encoded data removed]",
      "text/plain": [
       "<Figure size 432x288 with 1 Axes>"
      ]
     },
     "metadata": {
      "needs_background": "light"
     },
     "output_type": "display_data"
    }
   ],
   "source": [
    "5. \n",
    "x = np.linspace(0, 10, 200)\n",
    "\n",
    "sin = np.sin(x)\n",
    "cos = np.cos(x)\n",
    "\n",
    "plt.xticks([0, np.pi/2, np.pi, 3*np.pi/2, 2 * np.pi, 5*np.pi/2, 3 * np.pi],\n",
    "          ['0','','\\u03C0','','2\\u03C0','','3\\u03C0'])\n",
    "plt.plot(x, sin, marker = 'o', label = 'sin')\n",
    "plt.plot(x, cos, marker = 'x', label = 'cos')\n",
    "plt.legend(loc = 'upper left')\n",
    "plt.ylim(-1.1, 1.6)\n",
    "plt.show()"
   ]
  },
  {
   "cell_type": "code",
   "execution_count": 138,
   "metadata": {},
   "outputs": [],
   "source": [
    "# Chapter 5.05 - Inverse Trigonometric Functions\n",
    "from math import asin, atan, acos, cos\n",
    "x = 0.5"
   ]
  },
  {
   "cell_type": "code",
   "execution_count": 140,
   "metadata": {},
   "outputs": [
    {
     "data": {
      "text/plain": [
       "1.0471975511965979"
      ]
     },
     "execution_count": 140,
     "metadata": {},
     "output_type": "execute_result"
    }
   ],
   "source": [
    "acos(x)"
   ]
  },
  {
   "cell_type": "code",
   "execution_count": 141,
   "metadata": {},
   "outputs": [
    {
     "data": {
      "text/plain": [
       "0.5235987755982989"
      ]
     },
     "execution_count": 141,
     "metadata": {},
     "output_type": "execute_result"
    }
   ],
   "source": [
    "asin(x)"
   ]
  },
  {
   "cell_type": "code",
   "execution_count": 143,
   "metadata": {},
   "outputs": [
    {
     "data": {
      "text/plain": [
       "0.4636476090008061"
      ]
     },
     "execution_count": 143,
     "metadata": {},
     "output_type": "execute_result"
    }
   ],
   "source": [
    "atan(x)"
   ]
  },
  {
   "cell_type": "code",
   "execution_count": 144,
   "metadata": {},
   "outputs": [],
   "source": [
    "x = 1.2"
   ]
  },
  {
   "cell_type": "code",
   "execution_count": 145,
   "metadata": {},
   "outputs": [
    {
     "ename": "ValueError",
     "evalue": "math domain error",
     "output_type": "error",
     "traceback": [
      "\u001b[1;31m---------------------------------------------------------------------------\u001b[0m",
      "\u001b[1;31mValueError\u001b[0m                                Traceback (most recent call last)",
      "\u001b[1;32m<ipython-input-145-b920dc2d86a7>\u001b[0m in \u001b[0;36m<module>\u001b[1;34m\u001b[0m\n\u001b[1;32m----> 1\u001b[1;33m \u001b[0macos\u001b[0m\u001b[1;33m(\u001b[0m\u001b[0mx\u001b[0m\u001b[1;33m)\u001b[0m\u001b[1;33m\u001b[0m\u001b[1;33m\u001b[0m\u001b[0m\n\u001b[0m",
      "\u001b[1;31mValueError\u001b[0m: math domain error"
     ]
    }
   ],
   "source": [
    "acos(x)"
   ]
  },
  {
   "cell_type": "code",
   "execution_count": 146,
   "metadata": {},
   "outputs": [
    {
     "ename": "ValueError",
     "evalue": "math domain error",
     "output_type": "error",
     "traceback": [
      "\u001b[1;31m---------------------------------------------------------------------------\u001b[0m",
      "\u001b[1;31mValueError\u001b[0m                                Traceback (most recent call last)",
      "\u001b[1;32m<ipython-input-146-21a2c8325f9b>\u001b[0m in \u001b[0;36m<module>\u001b[1;34m\u001b[0m\n\u001b[1;32m----> 1\u001b[1;33m \u001b[0masin\u001b[0m\u001b[1;33m(\u001b[0m\u001b[0mx\u001b[0m\u001b[1;33m)\u001b[0m\u001b[1;33m\u001b[0m\u001b[1;33m\u001b[0m\u001b[0m\n\u001b[0m",
      "\u001b[1;31mValueError\u001b[0m: math domain error"
     ]
    }
   ],
   "source": [
    "asin(x)"
   ]
  },
  {
   "cell_type": "code",
   "execution_count": 147,
   "metadata": {},
   "outputs": [
    {
     "data": {
      "text/plain": [
       "0.8760580505981934"
      ]
     },
     "execution_count": 147,
     "metadata": {},
     "output_type": "execute_result"
    }
   ],
   "source": [
    "atan(x)"
   ]
  },
  {
   "cell_type": "code",
   "execution_count": 149,
   "metadata": {},
   "outputs": [
    {
     "data": {
      "text/plain": [
       "0.2"
      ]
     },
     "execution_count": 149,
     "metadata": {},
     "output_type": "execute_result"
    }
   ],
   "source": [
    "acos(cos(0.2))"
   ]
  },
  {
   "cell_type": "code",
   "execution_count": 150,
   "metadata": {},
   "outputs": [],
   "source": [
    "# Exercise 5.05: Find the shortest way to the treasure using inverse trig\n",
    "# 1.\n",
    "from math import pi"
   ]
  },
  {
   "cell_type": "code",
   "execution_count": 154,
   "metadata": {},
   "outputs": [
    {
     "name": "stdout",
     "output_type": "stream",
     "text": [
      "0.6060606060606061\n"
     ]
    }
   ],
   "source": [
    "# 2.\n",
    "AC, BC = 33, 20\n",
    "tan_th = BC/AC\n",
    "print(tan_th)"
   ]
  },
  {
   "cell_type": "code",
   "execution_count": 156,
   "metadata": {},
   "outputs": [
    {
     "name": "stdout",
     "output_type": "stream",
     "text": [
      "0.5448639154515437\n",
      "31.218402764346372\n"
     ]
    }
   ],
   "source": [
    "# 3.\n",
    "theta = atan(tan_th)\n",
    "\n",
    "# 4.\n",
    "theta_degrees = 180 * theta / pi\n",
    "print(theta)\n",
    "print(theta_degrees)"
   ]
  },
  {
   "cell_type": "code",
   "execution_count": 157,
   "metadata": {},
   "outputs": [
    {
     "name": "stdout",
     "output_type": "stream",
     "text": [
      "38.58756276314948\n"
     ]
    }
   ],
   "source": [
    "# 5.\n",
    "AB = (AC**2 + BC**2) ** 0.5\n",
    "print(AB)"
   ]
  },
  {
   "cell_type": "code",
   "execution_count": null,
   "metadata": {},
   "outputs": [],
   "source": [
    "# Exercise 5.06: Find the optimal distance from an object\n",
    "# 1.\n"
   ]
  }
 ],
 "metadata": {
  "kernelspec": {
   "display_name": "Python 3",
   "language": "python",
   "name": "python3"
  },
  "language_info": {
   "codemirror_mode": {
    "name": "ipython",
    "version": 3
   },
   "file_extension": ".py",
   "mimetype": "text/x-python",
   "name": "python",
   "nbconvert_exporter": "python",
   "pygments_lexer": "ipython3",
   "version": "3.8.5"
  }
 },
 "nbformat": 4,
 "nbformat_minor": 4
}
