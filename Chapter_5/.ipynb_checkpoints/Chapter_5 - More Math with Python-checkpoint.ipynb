{
 "cells": [
  {
   "cell_type": "code",
   "execution_count": 1,
   "metadata": {},
   "outputs": [],
   "source": [
    "import pandas as pd\n",
    "import numpy as np\n",
    "import scipy.stats as stats\n",
    "import matplotlib.pyplot as plt\n",
    "import seaborn as sns"
   ]
  },
  {
   "cell_type": "code",
   "execution_count": 2,
   "metadata": {},
   "outputs": [],
   "source": [
    "def my_function(arg1, arg2):\n",
    "    \"\"\"\n",
    "    Write a function that adds 2 numbers and returns their sum\n",
    "    \"\"\"\n",
    "    return arg1 + arg2"
   ]
  },
  {
   "cell_type": "code",
   "execution_count": 3,
   "metadata": {},
   "outputs": [
    {
     "name": "stdout",
     "output_type": "stream",
     "text": [
      "11\n"
     ]
    }
   ],
   "source": [
    "print(my_function(2, 9))"
   ]
  },
  {
   "cell_type": "code",
   "execution_count": 4,
   "metadata": {},
   "outputs": [],
   "source": [
    "# Generators\n",
    "def my_generator(arg1, arg2, n):\n",
    "    \"\"\" Write a generator functions that adds 2 numbers n times and sums them\"\"\"\n",
    "    i = 0\n",
    "    result = 0\n",
    "    while i < n:\n",
    "        result += (arg1 + arg2)\n",
    "        i += 1\n",
    "        yield result"
   ]
  },
  {
   "cell_type": "code",
   "execution_count": 5,
   "metadata": {},
   "outputs": [
    {
     "data": {
      "text/plain": [
       "11"
      ]
     },
     "execution_count": 5,
     "metadata": {},
     "output_type": "execute_result"
    }
   ],
   "source": [
    "my_gen = my_generator(2, 9, 4)\n",
    "next(my_gen)"
   ]
  },
  {
   "cell_type": "code",
   "execution_count": 8,
   "metadata": {},
   "outputs": [
    {
     "data": {
      "text/plain": [
       "44"
      ]
     },
     "execution_count": 8,
     "metadata": {},
     "output_type": "execute_result"
    }
   ],
   "source": [
    "next(my_gen)"
   ]
  },
  {
   "cell_type": "code",
   "execution_count": 9,
   "metadata": {},
   "outputs": [
    {
     "ename": "StopIteration",
     "evalue": "",
     "output_type": "error",
     "traceback": [
      "\u001b[1;31m---------------------------------------------------------------------------\u001b[0m",
      "\u001b[1;31mStopIteration\u001b[0m                             Traceback (most recent call last)",
      "\u001b[1;32m<ipython-input-9-78dc05d55b31>\u001b[0m in \u001b[0;36m<module>\u001b[1;34m\u001b[0m\n\u001b[1;32m----> 1\u001b[1;33m \u001b[0mnext\u001b[0m\u001b[1;33m(\u001b[0m\u001b[0mmy_gen\u001b[0m\u001b[1;33m)\u001b[0m\u001b[1;33m\u001b[0m\u001b[1;33m\u001b[0m\u001b[0m\n\u001b[0m",
      "\u001b[1;31mStopIteration\u001b[0m: "
     ]
    }
   ],
   "source": [
    "next(my_gen)"
   ]
  },
  {
   "cell_type": "code",
   "execution_count": 10,
   "metadata": {},
   "outputs": [],
   "source": [
    "# Exercise 5.01: Determining the nth term of an artithmetic sequence and series\n",
    "def a_n(a1, d, n):\n",
    "    \"\"\"\n",
    "    Return the n-th term of the arithmetic sequence.\n",
    "    \n",
    "    a1: first term of the sequence. Integer or Real\n",
    "    n: the n-th term in the sequence.\n",
    "    \n",
    "    d: the common difference between each term in the arithmetic sequence.\n",
    "    \n",
    "    returns: n-th term. Integer or real\n",
    "    \n",
    "    \"\"\"\n",
    "    \n",
    "    return a1 + ((n - 1) * d)\n",
    "    "
   ]
  },
  {
   "cell_type": "code",
   "execution_count": 11,
   "metadata": {},
   "outputs": [
    {
     "data": {
      "text/plain": [
       "9"
      ]
     },
     "execution_count": 11,
     "metadata": {},
     "output_type": "execute_result"
    }
   ],
   "source": [
    "a_n(1, 2, 5)"
   ]
  },
  {
   "cell_type": "code",
   "execution_count": 14,
   "metadata": {},
   "outputs": [],
   "source": [
    "def a_seq(a1, d, n):\n",
    "    \"\"\"\n",
    "    Obtain the whole arithmetic sequence up to n.\n",
    "    a1: first term of the sequence. Integer or Real\n",
    "    d: common difference of the sequence. Integer or Real.\n",
    "    n: number of terms in the sequence\n",
    "    \n",
    "    returns: sequence as a list.   \n",
    "    \n",
    "    \"\"\"\n",
    "    \n",
    "    sequence = []\n",
    "    for i in range(n):\n",
    "        sequence.append(a1)\n",
    "        a1 += d\n",
    "    return sequence"
   ]
  },
  {
   "cell_type": "code",
   "execution_count": 15,
   "metadata": {},
   "outputs": [
    {
     "data": {
      "text/plain": [
       "[1, 3, 5, 7, 9]"
      ]
     },
     "execution_count": 15,
     "metadata": {},
     "output_type": "execute_result"
    }
   ],
   "source": [
    "a_seq(1, 2, 5)"
   ]
  },
  {
   "cell_type": "code",
   "execution_count": 23,
   "metadata": {},
   "outputs": [
    {
     "data": {
      "text/plain": [
       "4"
      ]
     },
     "execution_count": 23,
     "metadata": {},
     "output_type": "execute_result"
    }
   ],
   "source": [
    "def infinite_a_sequence(a1, d):\n",
    "    \"\"\"\n",
    "    Generate an entire arithmetic sequence up to infinity.\n",
    "    a1: first term of the sequence. Integer or Real\n",
    "    d: common difference of the sequence. Integer or Real.\n",
    "    \n",
    "    returns: sequence as a generator.   \n",
    "    \n",
    "    \"\"\"\n",
    "    while True:\n",
    "        yield a1\n",
    "        a1 = a1 + d\n",
    "        \n",
    "gen = infinite_a_sequence(4, 3)\n"
   ]
  },
  {
   "cell_type": "code",
   "execution_count": 37,
   "metadata": {},
   "outputs": [
    {
     "data": {
      "text/plain": [
       "46"
      ]
     },
     "execution_count": 37,
     "metadata": {},
     "output_type": "execute_result"
    }
   ],
   "source": [
    "next(gen)"
   ]
  },
  {
   "cell_type": "code",
   "execution_count": 41,
   "metadata": {},
   "outputs": [
    {
     "data": {
      "text/plain": [
       "55"
      ]
     },
     "execution_count": 41,
     "metadata": {},
     "output_type": "execute_result"
    }
   ],
   "source": [
    "sum(a_seq(1, 5, 5))"
   ]
  },
  {
   "cell_type": "code",
   "execution_count": 43,
   "metadata": {},
   "outputs": [],
   "source": [
    "def a_series(a1, d, n):\n",
    "    \"\"\"\n",
    "    Calculate the sum of all terms in a finite arithmetic sequence.\n",
    "    a1: first term in the the sequence. Integer or Real.\n",
    "    d: common difference between terms in the sequence. Integer or Real.\n",
    "    n: the number of terms in the sequence.\n",
    "    \n",
    "    returns: sum of sequence as Integer or Real.\n",
    "    \n",
    "    \"\"\"\n",
    "    \n",
    "    result = n * (a1 + a_n(a1, d, n)) / 2\n",
    "    return result\n",
    "    "
   ]
  },
  {
   "cell_type": "code",
   "execution_count": 44,
   "metadata": {},
   "outputs": [
    {
     "data": {
      "text/plain": [
       "55.0"
      ]
     },
     "execution_count": 44,
     "metadata": {},
     "output_type": "execute_result"
    }
   ],
   "source": [
    "a_series(1, 5, 5)"
   ]
  },
  {
   "cell_type": "code",
   "execution_count": 45,
   "metadata": {},
   "outputs": [
    {
     "data": {
      "text/plain": [
       "512"
      ]
     },
     "execution_count": 45,
     "metadata": {},
     "output_type": "execute_result"
    }
   ],
   "source": [
    "# Chapter: 5.02 - Geometric Sequences\n",
    "def n_geom(r, a, n):\n",
    "    \"\"\"\n",
    "    Calculate the n-th term of a geometric sequence.\n",
    "    r: common ratio between successive terms in the sequence.\n",
    "    a: first term in the sequence. Integer or Real.\n",
    "    n: the number of terms in the sequence.\n",
    "    \n",
    "    returns: the n-th term in the sequence. Integer or Real.\n",
    "    \"\"\"\n",
    "    an = r ** (n-1) * a\n",
    "    return an\n",
    "\n",
    "n_geom(2, 1, 10)\n"
   ]
  },
  {
   "cell_type": "code",
   "execution_count": 47,
   "metadata": {},
   "outputs": [
    {
     "data": {
      "text/plain": [
       "1023.0"
      ]
     },
     "execution_count": 47,
     "metadata": {},
     "output_type": "execute_result"
    }
   ],
   "source": [
    "def sum_n_geom(r, a, n):\n",
    "    \"\"\"\n",
    "    Calculate the sum of all terms in a geometric sequence.\n",
    "    r: common ratio between successive terms in the sequence.\n",
    "    a: first term in the sequence. Integer or Real.\n",
    "    n: the number of terms in the sequence.\n",
    "    \n",
    "    returns: the sum of all terms in the sequence. Integer or Real.\n",
    "    \n",
    "    \"\"\"\n",
    "    \n",
    "    sum_n = (a * (1 - r ** n)) / (1 - r)\n",
    "    return sum_n\n",
    "\n",
    "sum_n_geom(2, 1, 10)"
   ]
  },
  {
   "cell_type": "code",
   "execution_count": 48,
   "metadata": {},
   "outputs": [
    {
     "data": {
      "text/plain": [
       "[1, 2, 4, 8, 16, 32, 64, 128, 256, 512]"
      ]
     },
     "execution_count": 48,
     "metadata": {},
     "output_type": "execute_result"
    }
   ],
   "source": [
    "def geom_seq(r, a, n):\n",
    "    \"\"\"\n",
    "    Generate a finite geometric sequence.\n",
    "    r: common ratio between successive terms in the sequence.\n",
    "    a: first term in the sequence. Integer or Real.\n",
    "    n: the number of terms in the sequence.\n",
    "    \n",
    "    returns: All terms in the sequence as a list.\n",
    "    \n",
    "    \"\"\"\n",
    "    sequence = []\n",
    "    \n",
    "    for i in range(n):\n",
    "        sequence.append(a)\n",
    "        a *= r\n",
    "    \n",
    "    return sequence\n",
    "    \n",
    "geom_seq(2, 1, 10)"
   ]
  },
  {
   "cell_type": "code",
   "execution_count": 54,
   "metadata": {},
   "outputs": [
    {
     "data": {
      "image/png": "[encoded data removed]",
      "text/plain": [
       "<Figure size 432x288 with 1 Axes>"
      ]
     },
     "metadata": {
      "needs_background": "light"
     },
     "output_type": "display_data"
    }
   ],
   "source": [
    "y = geom_seq(1.5, 1, 20)\n",
    "x = np.arange(0, len(y))\n",
    "\n",
    "plt.plot(x, y)\n",
    "plt.xticks([x for x in x if x % 2 == 0])\n",
    "plt.title(\"Geometric series with r = 1.5\")\n",
    "plt.show()"
   ]
  },
  {
   "cell_type": "code",
   "execution_count": 56,
   "metadata": {},
   "outputs": [
    {
     "data": {
      "image/png": "[encoded data removed]",
      "text/plain": [
       "<Figure size 432x288 with 1 Axes>"
      ]
     },
     "metadata": {
      "needs_background": "light"
     },
     "output_type": "display_data"
    }
   ],
   "source": [
    "y = geom_seq(0.5, 1, 20)\n",
    "x = np.arange(0, len(y))\n",
    "\n",
    "plt.plot(x, y)\n",
    "plt.xticks([x for x in x if x % 2 == 0])\n",
    "plt.title(\"Geometric series with r = 0.5\")\n",
    "plt.show()"
   ]
  },
  {
   "cell_type": "code",
   "execution_count": 65,
   "metadata": {},
   "outputs": [],
   "source": [
    "# Exercise 5.02: Writing a function to find the next term in a sequence\n",
    "#1.\n",
    "def find_ratio(*args):\n",
    "    \"\"\"\n",
    "    Determine if the ratio between a list of numbers is consistent across all terms n / n-1\n",
    "    \n",
    "    *args: a sequence of numbers\n",
    "    \n",
    "    returns: a ratio (if it is consistent) or -1 (if it is not)\n",
    "    \"\"\"\n",
    "    # Set arg0 to the first term\n",
    "    arg0 = args[0]\n",
    "    ratios = []\n",
    "    \n",
    "    # Calculate all ratios between terms and add to the ratios list\n",
    "    for arg in args[1:]:\n",
    "        ratio = round(arg/arg0, 8)\n",
    "        arg0 = arg\n",
    "        ratios.append(ratio)\n",
    "        \n",
    "    # If the set of ratios is len(1), then the ratio is consistent across all terms\n",
    "    if len(set(ratios)) == 1:\n",
    "        return ratio\n",
    "    else:\n",
    "        return -1"
   ]
  },
  {
   "cell_type": "code",
   "execution_count": 66,
   "metadata": {},
   "outputs": [
    {
     "data": {
      "text/plain": [
       "2.0"
      ]
     },
     "execution_count": 66,
     "metadata": {},
     "output_type": "execute_result"
    }
   ],
   "source": [
    "find_ratio(1, 2, 4, 8, 16)"
   ]
  },
  {
   "cell_type": "code",
   "execution_count": 69,
   "metadata": {},
   "outputs": [],
   "source": [
    "def find_next(*args):\n",
    "    \"\"\"\n",
    "    Calculate the next term in a sequence, if the sequence is geometric.\n",
    "    \n",
    "    *args: a sequence of numbers\n",
    "    \n",
    "    returns: the next term of a sequence (if geometric). Integer or Real.\n",
    "    \"\"\"\n",
    "    ratio = find_ratio(*args)\n",
    "    if ratio == -1:\n",
    "        raise ValueError(\"The Sequence you entered is not a valid geometric sequence.\\nPlease check input\")\n",
    "    else:\n",
    "        return args[-1] * ratio"
   ]
  },
  {
   "cell_type": "code",
   "execution_count": 70,
   "metadata": {},
   "outputs": [
    {
     "ename": "ValueError",
     "evalue": "The Sequence you entered is not a valid geometric sequence.\nPlease check input",
     "output_type": "error",
     "traceback": [
      "\u001b[1;31m---------------------------------------------------------------------------\u001b[0m",
      "\u001b[1;31mValueError\u001b[0m                                Traceback (most recent call last)",
      "\u001b[1;32m<ipython-input-70-eed62a725abb>\u001b[0m in \u001b[0;36m<module>\u001b[1;34m\u001b[0m\n\u001b[1;32m----> 1\u001b[1;33m \u001b[0mfind_next\u001b[0m\u001b[1;33m(\u001b[0m\u001b[1;36m1\u001b[0m\u001b[1;33m,\u001b[0m \u001b[1;36m2\u001b[0m\u001b[1;33m,\u001b[0m \u001b[1;36m3\u001b[0m\u001b[1;33m,\u001b[0m \u001b[1;36m4\u001b[0m\u001b[1;33m,\u001b[0m \u001b[1;36m5\u001b[0m\u001b[1;33m,\u001b[0m \u001b[1;36m6\u001b[0m\u001b[1;33m)\u001b[0m\u001b[1;33m\u001b[0m\u001b[1;33m\u001b[0m\u001b[0m\n\u001b[0m",
      "\u001b[1;32m<ipython-input-69-4cbec7abb429>\u001b[0m in \u001b[0;36mfind_next\u001b[1;34m(*args)\u001b[0m\n\u001b[0;32m      9\u001b[0m     \u001b[0mratio\u001b[0m \u001b[1;33m=\u001b[0m \u001b[0mfind_ratio\u001b[0m\u001b[1;33m(\u001b[0m\u001b[1;33m*\u001b[0m\u001b[0margs\u001b[0m\u001b[1;33m)\u001b[0m\u001b[1;33m\u001b[0m\u001b[1;33m\u001b[0m\u001b[0m\n\u001b[0;32m     10\u001b[0m     \u001b[1;32mif\u001b[0m \u001b[0mratio\u001b[0m \u001b[1;33m==\u001b[0m \u001b[1;33m-\u001b[0m\u001b[1;36m1\u001b[0m\u001b[1;33m:\u001b[0m\u001b[1;33m\u001b[0m\u001b[1;33m\u001b[0m\u001b[0m\n\u001b[1;32m---> 11\u001b[1;33m         \u001b[1;32mraise\u001b[0m \u001b[0mValueError\u001b[0m\u001b[1;33m(\u001b[0m\u001b[1;34m\"The Sequence you entered is not a valid geometric sequence.\\nPlease check input\"\u001b[0m\u001b[1;33m)\u001b[0m\u001b[1;33m\u001b[0m\u001b[1;33m\u001b[0m\u001b[0m\n\u001b[0m\u001b[0;32m     12\u001b[0m     \u001b[1;32melse\u001b[0m\u001b[1;33m:\u001b[0m\u001b[1;33m\u001b[0m\u001b[1;33m\u001b[0m\u001b[0m\n\u001b[0;32m     13\u001b[0m         \u001b[1;32mreturn\u001b[0m \u001b[0margs\u001b[0m\u001b[1;33m[\u001b[0m\u001b[1;33m-\u001b[0m\u001b[1;36m1\u001b[0m\u001b[1;33m]\u001b[0m \u001b[1;33m*\u001b[0m \u001b[0mratio\u001b[0m\u001b[1;33m\u001b[0m\u001b[1;33m\u001b[0m\u001b[0m\n",
      "\u001b[1;31mValueError\u001b[0m: The Sequence you entered is not a valid geometric sequence.\nPlease check input"
     ]
    }
   ],
   "source": [
    "find_next(1, 2, 3, 4, 5, 6)"
   ]
  },
  {
   "cell_type": "code",
   "execution_count": 72,
   "metadata": {},
   "outputs": [
    {
     "data": {
      "text/plain": [
       "64.0"
      ]
     },
     "execution_count": 72,
     "metadata": {},
     "output_type": "execute_result"
    }
   ],
   "source": [
    "find_next(2, 4, 8, 16, 32)"
   ]
  }
 ],
 "metadata": {
  "kernelspec": {
   "display_name": "Python 3",
   "language": "python",
   "name": "python3"
  },
  "language_info": {
   "codemirror_mode": {
    "name": "ipython",
    "version": 3
   },
   "file_extension": ".py",
   "mimetype": "text/x-python",
   "name": "python",
   "nbconvert_exporter": "python",
   "pygments_lexer": "ipython3",
   "version": "3.8.5"
  }
 },
 "nbformat": 4,
 "nbformat_minor": 4
}
