{
 "cells": [
  {
   "cell_type": "code",
   "execution_count": 189,
   "metadata": {},
   "outputs": [],
   "source": [
    "class Solver:\n",
    "    # Class to read in a sudoku puzzle, solve and return.\n",
    "    def __init__(self,url):\n",
    "          \n",
    "        # read the puzzle from a text file int0 a 9x9 2D list\n",
    "        def read_puzzle(url):\n",
    "            # load textfile\n",
    "            with open(url,'r') as f:\n",
    "                puzzle_temp = f.readlines()\n",
    "                puzzle_final = []\n",
    "                \n",
    "            # Split on comma and remove trailing whitespace\n",
    "            for i in range(len(puzzle_temp)):\n",
    "                line = [int(x) for x in puzzle_temp[i].strip().split(\",\")]\n",
    "                puzzle_final.append(line)\n",
    "            # print(puzzle_final)\n",
    "            return puzzle_final\n",
    "            \n",
    "        self.puzzle = read_puzzle(url)\n",
    "        \n",
    "    # Nice printing of puzzle\n",
    "    def nice_printer(self):\n",
    "        puzzle = self.puzzle\n",
    "        nice_print = []\n",
    "\n",
    "        sep_line = (\"-\" * 31)\n",
    "        spacer = list(\"|\")\n",
    "        \n",
    "        # Prepare the puzzle for printing\n",
    "        # Add the \"-\" separator line after every third line + beginning and end\n",
    "        # Add \"|\" after every third character per line, separators create the sudoku boxes\n",
    "        for i in range(len(puzzle)):\n",
    "            if (i % 3 == 0 or i == len(puzzle)): nice_print.append(sep_line)\n",
    "            puzzle_line = self.puzzle[i][:3] + spacer + self.puzzle[i][3:6] + spacer + self.puzzle[i][6:]  \n",
    "            nice_print.append(puzzle_line)\n",
    "            if (i == len(puzzle)-1): nice_print.append(sep_line)\n",
    "        \n",
    "        # Run through each line and each character separated by a space\n",
    "        for i in range(len(nice_print)):\n",
    "            line = []\n",
    "            if nice_print[i][0] == \"-\": \n",
    "                print(nice_print[i])\n",
    "            else:\n",
    "                for j in range(len(nice_print[i])):\n",
    "                    line.append(str(nice_print[i][j]) + \" \")\n",
    "                print(*line)\n",
    "        "
   ]
  },
  {
   "cell_type": "code",
   "execution_count": 190,
   "metadata": {},
   "outputs": [
    {
     "name": "stdout",
     "output_type": "stream",
     "text": [
      "-------------------------------\n",
      "0  0  3  |  0  2  0  |  6  0  0 \n",
      "9  0  0  |  3  0  5  |  0  0  1 \n",
      "0  0  1  |  8  0  6  |  4  0  0 \n",
      "-------------------------------\n",
      "0  0  8  |  1  0  2  |  9  0  0 \n",
      "7  0  0  |  0  0  0  |  0  0  8 \n",
      "0  0  6  |  7  0  8  |  2  0  0 \n",
      "-------------------------------\n",
      "0  0  2  |  6  0  9  |  5  0  0 \n",
      "8  0  0  |  2  0  3  |  0  0  9 \n",
      "0  0  5  |  0  1  0  |  3  0  0 \n",
      "-------------------------------\n"
     ]
    }
   ],
   "source": [
    "input_puzzle = Solver(\"./Input/sudoku_input_2.txt\")\n",
    "input_puzzle.nice_printer()"
   ]
  }
 ],
 "metadata": {
  "kernelspec": {
   "display_name": "Python 3",
   "language": "python",
   "name": "python3"
  },
  "language_info": {
   "codemirror_mode": {
    "name": "ipython",
    "version": 3
   },
   "file_extension": ".py",
   "mimetype": "text/x-python",
   "name": "python",
   "nbconvert_exporter": "python",
   "pygments_lexer": "ipython3",
   "version": "3.8.5"
  }
 },
 "nbformat": 4,
 "nbformat_minor": 4
}
