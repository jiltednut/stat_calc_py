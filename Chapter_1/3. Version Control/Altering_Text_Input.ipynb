{
 "cells": [
  {
   "cell_type": "code",
   "execution_count": 40,
   "metadata": {},
   "outputs": [],
   "source": [
    "def add_elements(a, b):\n",
    "    result = []\n",
    "    for item_a, item_b in zip(a, b):\n",
    "        result.append(item_a + item_b)\n",
    "    \n",
    "    return result\n",
    "\n"
   ]
  },
  {
   "cell_type": "code",
   "execution_count": 23,
   "metadata": {},
   "outputs": [],
   "source": [
    "with open(\"./input.txt\", \"r\") as f:\n",
    "    lines = f.readlines()\n",
    "    \n",
    "last_line1, last_line2 = lines[-2], lines[-1]\n"
   ]
  },
  {
   "cell_type": "code",
   "execution_count": 33,
   "metadata": {},
   "outputs": [],
   "source": [
    "list1 = list(map(int, map(str.strip, last_line1.split(\",\"))))\n",
    "list2 = list(map(int, map(str.strip, last_line2.split(\",\"))))"
   ]
  },
  {
   "cell_type": "code",
   "execution_count": 41,
   "metadata": {},
   "outputs": [],
   "source": [
    "new_list =  add_elements(list1, list2)\n",
    "\n",
    "with open('input.txt', 'a') as f:\n",
    "    for i, item in enumerate(new_list):\n",
    "        f.write(str(item))\n",
    "        \n",
    "        if i < len(new_list) - 1:\n",
    "            f.write(',')\n",
    "        else:\n",
    "            f.write('\\n')"
   ]
  },
  {
   "cell_type": "code",
   "execution_count": null,
   "metadata": {},
   "outputs": [],
   "source": []
  }
 ],
 "metadata": {
  "kernelspec": {
   "display_name": "Python 3",
   "language": "python",
   "name": "python3"
  },
  "language_info": {
   "codemirror_mode": {
    "name": "ipython",
    "version": 3
   },
   "file_extension": ".py",
   "mimetype": "text/x-python",
   "name": "python",
   "nbconvert_exporter": "python",
   "pygments_lexer": "ipython3",
   "version": "3.8.5"
  }
 },
 "nbformat": 4,
 "nbformat_minor": 4
}
