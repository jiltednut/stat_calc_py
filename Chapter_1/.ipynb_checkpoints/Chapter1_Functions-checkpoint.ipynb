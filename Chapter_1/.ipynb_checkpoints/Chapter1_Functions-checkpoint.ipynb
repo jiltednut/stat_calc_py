{
 "cells": [
  {
   "cell_type": "code",
   "execution_count": 1,
   "metadata": {},
   "outputs": [],
   "source": [
    "# Finding the minium and maximum values in a provided set of integers"
   ]
  },
  {
   "cell_type": "code",
   "execution_count": 11,
   "metadata": {},
   "outputs": [],
   "source": [
    "def get_max(my_list):\n",
    "    current_max_index = 0\n",
    "    \n",
    "    for index, num in enumerate(my_list):\n",
    "        if num > my_list[current_max_index]:\n",
    "            current_max_index = index\n",
    "    \n",
    "    return (current_max_index, my_list[current_max_index])\n",
    "\n",
    "def get_min(my_list):\n",
    "    current_min_index = my_list[0]\n",
    "    \n",
    "    for index, num in enumerate(my_list):\n",
    "        if num < my_list[current_min_index]:\n",
    "            current_min_index = index\n",
    "    \n",
    "    return (current_min_index, my_list[current_min_index])"
   ]
  },
  {
   "cell_type": "code",
   "execution_count": 12,
   "metadata": {},
   "outputs": [
    {
     "name": "stdout",
     "output_type": "stream",
     "text": [
      "(8, 9)\n",
      "(0, 1)\n"
     ]
    }
   ],
   "source": [
    "print(get_max([1,2,3,4,5,6,7,8,9]))\n",
    "print(get_min([1,2,3,4,5,6,7,8,9]))"
   ]
  },
  {
   "cell_type": "code",
   "execution_count": 13,
   "metadata": {},
   "outputs": [],
   "source": [
    "# Calculating the minimum number of moves for the Towe Of Hanoi"
   ]
  },
  {
   "cell_type": "code",
   "execution_count": 17,
   "metadata": {},
   "outputs": [
    {
     "name": "stdout",
     "output_type": "stream",
     "text": [
      "7\n"
     ]
    }
   ],
   "source": [
    "def solve(n):\n",
    "    if(n == 1):\n",
    "        return 1\n",
    "    return 2 * solve(n - 1) + 1\n",
    "\n",
    "print(solve(3))"
   ]
  },
  {
   "cell_type": "code",
   "execution_count": null,
   "metadata": {},
   "outputs": [],
   "source": [
    "# SOlving the N Queens problem"
   ]
  },
  {
   "cell_type": "code",
   "execution_count": 52,
   "metadata": {},
   "outputs": [],
   "source": [
    "# Start by creating the boards\n",
    "# Set the dimensions to NxN where N = 8\n"
   ]
  },
  {
   "cell_type": "code",
   "execution_count": 53,
   "metadata": {},
   "outputs": [],
   "source": [
    "# Print out the current chessboard\n",
    "def display_solution(board, N):\n",
    "    for i in range(N):\n",
    "        for j in range(N):\n",
    "            print(board[i][j], end = ' ')\n",
    "        print()"
   ]
  },
  {
   "cell_type": "code",
   "execution_count": 68,
   "metadata": {},
   "outputs": [],
   "source": [
    "def generate_solution(N):\n",
    "\n",
    "    bypass = True\n",
    "    def check_next(board, row, col):\n",
    "        # Check all rows in the same column\n",
    "        # If any of these contain a 1, then a queen cannot be placed here\n",
    "        for i in range(row):\n",
    "            if board[i][col] == 1:\n",
    "                return False\n",
    "\n",
    "        # Check the upper left diagonal \n",
    "        for i, j in zip(range(row, -1, -1), range(col, -1, -1)):\n",
    "            if board[i][j] == 1:\n",
    "                return False\n",
    "\n",
    "        # Check the upper right diagonal\n",
    "        for i, j in zip(range(row, -1, -1), range(col, N)):\n",
    "            if board[i][j] == 1:\n",
    "                return False\n",
    "        return True          \n",
    "\n",
    "    def recur_generate_solution(board, row_id):\n",
    "        # If we have reached the last row return True\n",
    "        if row_id >= N:\n",
    "            return True\n",
    "\n",
    "        # Run through all the cells in the current row and check if they are part of a valid solution\n",
    "        for i in range(N):\n",
    "            if check_next(board, row_id, i):\n",
    "                board[row_id][i] = 1\n",
    "\n",
    "                final_board = recur_generate_solution(board, row_id + 1)\n",
    "                if final_board:\n",
    "                    return True\n",
    "\n",
    "            board[row_id][i] = 0\n",
    "        # When the current board has no valid solutions\n",
    "        return False\n",
    "    \n",
    "    # Start with an empty board\n",
    "    my_board = [[0 for _ in range(N)] for __ in range(N)]\n",
    "    final_solution = recur_generate_solution(my_board, 0)\n",
    "    if bypass:\n",
    "        return final_solution\n",
    "    \n",
    "    # Display the final solution\n",
    "    if final_solution is False:\n",
    "        print('A solution cannot be found.')\n",
    "    else:\n",
    "        print('A solution was found.')\n",
    "        display_solution(my_board, N)\n"
   ]
  },
  {
   "cell_type": "code",
   "execution_count": 69,
   "metadata": {},
   "outputs": [
    {
     "data": {
      "text/plain": [
       "True"
      ]
     },
     "execution_count": 69,
     "metadata": {},
     "output_type": "execute_result"
    }
   ],
   "source": [
    "generate_solution(9)"
   ]
  },
  {
   "cell_type": "code",
   "execution_count": 71,
   "metadata": {},
   "outputs": [
    {
     "name": "stdout",
     "output_type": "stream",
     "text": [
      "0: True\n",
      "1: True\n",
      "2: False\n",
      "3: False\n",
      "4: True\n"
     ]
    }
   ],
   "source": [
    "for i in range(5):\n",
    "    print(str(i) + \": \" + str(generate_solution(i)))"
   ]
  },
  {
   "cell_type": "code",
   "execution_count": null,
   "metadata": {},
   "outputs": [],
   "source": [
    "# setup a unit test class"
   ]
  },
  {
   "cell_type": "code",
   "execution_count": null,
   "metadata": {},
   "outputs": [],
   "source": [
    "import unittest\n",
    "\n",
    "class SampleTest(unittest.TestCase):\n",
    "    def test_equal(self):\n",
    "        self.assertEqual(2 ** 3 - 1, 7)\n",
    "        self.assertEqual('Hello, World!', \"Hello, \" + \"world!\")\n",
    "    \n",
    "    def test_true(self):\n",
    "        self.assertTrue( 2 ** 3 < 3 ** 2)\n",
    "        for x in range(10):\n",
    "            self.assertTrue(- x ** 2 <= 0)\n",
    "\n"
   ]
  }
 ],
 "metadata": {
  "kernelspec": {
   "display_name": "Python 3",
   "language": "python",
   "name": "python3"
  },
  "language_info": {
   "codemirror_mode": {
    "name": "ipython",
    "version": 3
   },
   "file_extension": ".py",
   "mimetype": "text/x-python",
   "name": "python",
   "nbconvert_exporter": "python",
   "pygments_lexer": "ipython3",
   "version": "3.8.5"
  }
 },
 "nbformat": 4,
 "nbformat_minor": 4
}
