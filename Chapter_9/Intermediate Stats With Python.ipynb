{
 "cells": [
  {
   "cell_type": "code",
   "execution_count": 5,
   "metadata": {},
   "outputs": [],
   "source": [
    "import pandas as pd\n",
    "import numpy as np\n",
    "import matplotlib.pyplot as plt\n",
    "import scipy.stats as stats\n",
    "import random"
   ]
  },
  {
   "cell_type": "code",
   "execution_count": 6,
   "metadata": {},
   "outputs": [],
   "source": [
    "# Exercise 9.01: The law of large numbers\n",
    "# 1.\n",
    "random.seed(54321)"
   ]
  },
  {
   "cell_type": "code",
   "execution_count": 33,
   "metadata": {},
   "outputs": [],
   "source": [
    "# 2.\n",
    "sample_size = 1000"
   ]
  },
  {
   "cell_type": "code",
   "execution_count": 35,
   "metadata": {},
   "outputs": [],
   "source": [
    "# 3.\n",
    "random.seed(54321)\n",
    "result_list = [random.randint(0, 1) for i in range(sample_size)]"
   ]
  },
  {
   "cell_type": "code",
   "execution_count": 36,
   "metadata": {},
   "outputs": [],
   "source": [
    "# 4.\n",
    "num_heads = sum(result_list)\n",
    "avg_heads = float(num_heads) / sample_size"
   ]
  },
  {
   "cell_type": "code",
   "execution_count": 37,
   "metadata": {},
   "outputs": [
    {
     "name": "stdout",
     "output_type": "stream",
     "text": [
      "Results: 492 heads out of 1000 flips\n",
      "Average number of heads per flip is 0.492.\n"
     ]
    }
   ],
   "source": [
    "# 5.\n",
    "print(f'Results: {num_heads} heads out of {sample_size} flips')\n",
    "print(f'Average number of heads per flip is {avg_heads}.')"
   ]
  },
  {
   "cell_type": "code",
   "execution_count": 38,
   "metadata": {},
   "outputs": [],
   "source": [
    "# Exercise 9.02 - Coin flipping average over time\n",
    "# 2.\n",
    "sample_size = 20000"
   ]
  },
  {
   "cell_type": "code",
   "execution_count": 40,
   "metadata": {},
   "outputs": [],
   "source": [
    "# 3.\n",
    "num_heads = 0\n",
    "heads_list = []\n",
    "trials_list = []\n",
    "freq_list = []"
   ]
  },
  {
   "cell_type": "code",
   "execution_count": 41,
   "metadata": {},
   "outputs": [],
   "source": [
    "# 4.\n",
    "for i in range(1, sample_size + 1):\n",
    "    result = random.randint(0, 1)\n",
    "    if result == 1:\n",
    "        num_heads += 1\n",
    "    avg_heads = float(num_heads) / i\n",
    "    heads_list.append(num_heads)\n",
    "    trials_list.append(i)\n",
    "    freq_list.append(avg_heads)"
   ]
  },
  {
   "cell_type": "code",
   "execution_count": 43,
   "metadata": {},
   "outputs": [
    {
     "name": "stdout",
     "output_type": "stream",
     "text": [
      "Results: 10001 heads out of 20000 flips\n",
      "Average number of heads per flip is 0.50005.\n"
     ]
    }
   ],
   "source": [
    "# 5.\n",
    "print(f'Results: {num_heads} heads out of {sample_size} flips')\n",
    "print(f'Average number of heads per flip is {avg_heads}.')"
   ]
  },
  {
   "cell_type": "code",
   "execution_count": 47,
   "metadata": {},
   "outputs": [
    {
     "data": {
      "image/png": "[encoded data removed]",
      "text/plain": [
       "<Figure size 432x288 with 1 Axes>"
      ]
     },
     "metadata": {
      "needs_background": "light"
     },
     "output_type": "display_data"
    }
   ],
   "source": [
    "# 6.\n",
    "plt.plot(trials_list, freq_list)\n",
    "plt.ylabel(\"Sample Average\")\n",
    "plt.xlabel(\"Sample Size\")\n",
    "plt.hlines(0.5, 0, sample_size, linestyle = \"dashed\")\n",
    "plt.show()"
   ]
  },
  {
   "cell_type": "code",
   "execution_count": 91,
   "metadata": {},
   "outputs": [],
   "source": [
    "# Exercise 9.03: Calculate the average winnings for a game of roulette if we constanly bet on red.\n",
    "# 2.\n",
    "sample_size = 100000\n",
    "bet = 1"
   ]
  },
  {
   "cell_type": "code",
   "execution_count": 97,
   "metadata": {},
   "outputs": [],
   "source": [
    "# 3.\n",
    "net_money = 0\n",
    "wins = 0\n",
    "money_track = []\n",
    "trials_track = []\n",
    "avg_money = []"
   ]
  },
  {
   "cell_type": "code",
   "execution_count": 98,
   "metadata": {},
   "outputs": [],
   "source": [
    "# 4.\n",
    "# random.seed(54321)\n",
    "for i in range(1, sample_size +1):\n",
    "    result = random.randint(1, 38)\n",
    "    if result % 2 == 1 and result != 37:\n",
    "        net_money += bet\n",
    "        wins += 1\n",
    "    else:\n",
    "        net_money -= bet\n",
    "    money_track.append(net_money)\n",
    "    avg_money.append(net_money / i)\n",
    "    trials_track.append(i)"
   ]
  },
  {
   "cell_type": "code",
   "execution_count": 99,
   "metadata": {},
   "outputs": [
    {
     "name": "stdout",
     "output_type": "stream",
     "text": [
      "Won: 47410, average win per game -0.0518\n",
      "Expected return per game -0.05263157894736842\n"
     ]
    }
   ],
   "source": [
    "# 5.\n",
    "print(F'Won: {wins}, average win per game {net_money/sample_size}')\n",
    "print(F'Expected return per game {((18/38)*bet + (20 / 38)*(-bet))}')"
   ]
  },
  {
   "cell_type": "code",
   "execution_count": 100,
   "metadata": {},
   "outputs": [
    {
     "data": {
      "image/png": "[encoded data removed]",
      "text/plain": [
       "<Figure size 432x288 with 1 Axes>"
      ]
     },
     "metadata": {
      "needs_background": "light"
     },
     "output_type": "display_data"
    }
   ],
   "source": [
    "# 6.\n",
    "plt.plot(trials_track, money_track)\n",
    "plt.ylabel(\"Value of winnings\")\n",
    "plt.xlabel(\"No. of Spins\")\n",
    "plt.hlines(((18/38)*bet + (20 / 38)*(-bet)), 0, sample_size, linestyle = \"dashed\")\n",
    "plt.show()"
   ]
  },
  {
   "cell_type": "code",
   "execution_count": 102,
   "metadata": {},
   "outputs": [
    {
     "data": {
      "image/png": "[encoded data removed]",
      "text/plain": [
       "<Figure size 432x288 with 1 Axes>"
      ]
     },
     "metadata": {
      "needs_background": "light"
     },
     "output_type": "display_data"
    }
   ],
   "source": [
    "# 6.\n",
    "plt.plot(trials_track, avg_money)\n",
    "plt.ylabel(\"Value of winnings\")\n",
    "plt.xlabel(\"No. of Spins\")\n",
    "plt.hlines(((18/38)*bet + (20 / 38)*(-bet)), 0, bsample_size, linestyle = \"dashed\")\n",
    "plt.show()"
   ]
  },
  {
   "cell_type": "code",
   "execution_count": 104,
   "metadata": {},
   "outputs": [],
   "source": [
    "# Central Limit Theorem\n",
    "# Exercise 9.04: Showing the sample mean for a uniform distribution\n",
    "# 1.\n",
    "import math"
   ]
  },
  {
   "cell_type": "code",
   "execution_count": 112,
   "metadata": {},
   "outputs": [],
   "source": [
    "# 2.\n",
    "sample_size = 70\n",
    "calc_means = 100000"
   ]
  },
  {
   "cell_type": "code",
   "execution_count": 116,
   "metadata": {},
   "outputs": [],
   "source": [
    "# 3.\n",
    "mean_list = []\n",
    "random.seed(54312)\n",
    "for i in range(calc_means):\n",
    "    sample_list = []\n",
    "    for j in range(sample_size):\n",
    "        sample_list.append(random.randint(0, 50))\n",
    "    sample_mean = sum(sample_list) / sample_size\n",
    "    mean_list.append(sample_mean)"
   ]
  },
  {
   "cell_type": "code",
   "execution_count": 121,
   "metadata": {},
   "outputs": [
    {
     "data": {
      "image/png": "[encoded data removed]",
      "text/plain": [
       "<Figure size 432x288 with 1 Axes>"
      ]
     },
     "metadata": {
      "needs_background": "light"
     },
     "output_type": "display_data"
    }
   ],
   "source": [
    "n, bins, patches = plt.hist(mean_list, math.floor(math.sqrt(calc_means)), density = True, facecolor = 'g', alpha = 0.75)\n",
    "plt.grid(True)\n",
    "\n",
    "mu = 25\n",
    "sigma = math.sqrt((50 ** 2)/ 15)/ math.sqrt(sample_size)\n",
    "x = np.linspace(mu -3 * sigma, mu + 3 * sigma, 100)\n",
    "plt.plot(x, stats.norm.pdf(x, mu, sigma))\n",
    "plt.show()"
   ]
  },
  {
   "cell_type": "code",
   "execution_count": 129,
   "metadata": {},
   "outputs": [],
   "source": [
    "# Exercise 9.05 - Taking a sample from an exponential distribution\n",
    "# 1.\n",
    "sample_size = 50\n",
    "calc_means = 10000"
   ]
  },
  {
   "cell_type": "code",
   "execution_count": 130,
   "metadata": {},
   "outputs": [],
   "source": [
    "# 2.\n",
    "mean_list = []\n",
    "random.seed(54312)\n",
    "for i in range(calc_means):\n",
    "    sample_list = []\n",
    "    for j in range(sample_size):\n",
    "        sample_list.append(np.random.exponential(1))\n",
    "    sample_mean = sum(sample_list) / sample_size\n",
    "    mean_list.append(sample_mean)"
   ]
  },
  {
   "cell_type": "code",
   "execution_count": 131,
   "metadata": {},
   "outputs": [
    {
     "data": {
      "text/plain": [
       "[<matplotlib.lines.Line2D at 0x1ba8ab0c6a0>]"
      ]
     },
     "execution_count": 131,
     "metadata": {},
     "output_type": "execute_result"
    },
    {
     "data": {
      "image/png": "[encoded data removed]",
      "text/plain": [
       "<Figure size 432x288 with 1 Axes>"
      ]
     },
     "metadata": {
      "needs_background": "light"
     },
     "output_type": "display_data"
    }
   ],
   "source": [
    "n, bins, patches = plt.hist(mean_list, math.floor(math.sqrt(calc_means)), density = True, facecolor = 'g', alpha = 0.75)\n",
    "plt.grid(True)\n",
    "\n",
    "mu = 1\n",
    "sigma = 1 / (math.sqrt(sample_size))\n",
    "x = np.linspace(mu -3 * sigma, mu + 3 * sigma, 100)\n",
    "plt.plot(x, stats.norm.pdf(x, mu, sigma))"
   ]
  },
  {
   "cell_type": "code",
   "execution_count": 134,
   "metadata": {},
   "outputs": [],
   "source": [
    "# Confidence Intervals\n",
    "import statistics as st\n",
    "def z_confidence_interval(data, st_dev, con_lvl):\n",
    "    sample_mean = st.mean(data)\n",
    "    n = len(data)\n",
    "    crit_value = stats.norm.ppf(((1 - con_lvl) / 2) + con_lvl)\n",
    "    low = sample_mean - (crit_value * (st_dev / math.sqrt(n)))\n",
    "    high = sample_mean + (crit_value * (st_dev / math.sqrt(n)))\n",
    "    print(f'The {con_lvl} z confidence interval: {low}, {high}')\n",
    "    return (low, high)"
   ]
  },
  {
   "cell_type": "code",
   "execution_count": 136,
   "metadata": {},
   "outputs": [
    {
     "name": "stdout",
     "output_type": "stream",
     "text": [
      "The 0.95 z confidence interval: 3.965845784931483, 6.034154215068517\n"
     ]
    },
    {
     "data": {
      "text/plain": [
       "(3.965845784931483, 6.034154215068517)"
      ]
     },
     "execution_count": 136,
     "metadata": {},
     "output_type": "execute_result"
    }
   ],
   "source": [
    "# Exercis 9.06: Finding the confidence interval of polling figures\n",
    "#2.\n",
    "random.seed(39809)\n",
    "\n",
    "sample_list = []\n",
    "\n",
    "for i in range(30):\n",
    "    sample_list.append(random.randint(0, 10))\n",
    "    \n",
    "z_confidence_interval(sample_list, 2.89, 0.95)"
   ]
  },
  {
   "cell_type": "code",
   "execution_count": 142,
   "metadata": {},
   "outputs": [],
   "source": [
    "# Small sample confidence intervals\n",
    "def t_confidence_interval(data, con_lvl):\n",
    "    sample_mean = st.mean(data)\n",
    "    sd = st.stdev(data)\n",
    "    n = len(data)\n",
    "    \n",
    "    crit_value = stats.t.ppf(((1 - con_lvl) / 2) + con_lvl, n - 1)\n",
    "    low = sample_mean - (crit_value * (sd / math.sqrt(n)))\n",
    "    high = sample_mean + (crit_value * (sd / math.sqrt(n)))\n",
    "    \n",
    "    print(f'The {con_lvl} z confidence interval: {low}, {high}')\n",
    "    return (low, high)"
   ]
  },
  {
   "cell_type": "code",
   "execution_count": 143,
   "metadata": {},
   "outputs": [
    {
     "name": "stdout",
     "output_type": "stream",
     "text": [
      "The 0.95 z confidence interval: 3.827357936126168, 6.172642063873832\n"
     ]
    },
    {
     "data": {
      "text/plain": [
       "(3.827357936126168, 6.172642063873832)"
      ]
     },
     "execution_count": 143,
     "metadata": {},
     "output_type": "execute_result"
    }
   ],
   "source": [
    "t_confidence_interval(sample_list, 0.95)"
   ]
  },
  {
   "cell_type": "code",
   "execution_count": 144,
   "metadata": {},
   "outputs": [],
   "source": [
    "# Confidence Interval Proportion\n",
    "def prop_confidence_interval(p_hat, n, con_lvl):\n",
    "    crit_value = stats.norm.ppf(((1 - con_lvl) / 2) + con_lvl)\n",
    "    low = p_hat - (crit_value * math.sqrt((p_hat * (1 - p_hat))/ n))\n",
    "    high = p_hat + (crit_value * math.sqrt((p_hat * (1 - p_hat))/ n))\n",
    "    \n",
    "    print(f'The {con_lvl} z confidence interval: {low}, {high}')\n",
    "    return (low, high)"
   ]
  },
  {
   "cell_type": "code",
   "execution_count": 146,
   "metadata": {},
   "outputs": [
    {
     "name": "stdout",
     "output_type": "stream",
     "text": [
      "The 0.95 z confidence interval: 0.4877856513683282, 0.5922143486316719\n"
     ]
    },
    {
     "data": {
      "text/plain": [
       "(0.4877856513683282, 0.5922143486316719)"
      ]
     },
     "execution_count": 146,
     "metadata": {},
     "output_type": "execute_result"
    }
   ],
   "source": [
    "prop_confidence_interval(0.54, 350, 0.95)"
   ]
  },
  {
   "cell_type": "code",
   "execution_count": 147,
   "metadata": {},
   "outputs": [],
   "source": [
    "# Hypothesis testing\n",
    "import statsmodels.stats.weightstats as mod\n",
    "import statsmodels.stats.proportion as prop"
   ]
  },
  {
   "cell_type": "code",
   "execution_count": 151,
   "metadata": {},
   "outputs": [],
   "source": [
    "# Exercise 9.07: The z-test in action\n",
    "def z_test(sample, pop_st_dev, hypoth_value, sig_level, test_type):\n",
    "    sample_mean = st.mean(sample)\n",
    "    szmple_size = len(sample)\n",
    "    test_stat = (sample_mean - hypoth_value) / (pop_st_dev / math.sqrt(sample_size))\n",
    "    \n",
    "    if test_type == \"lower\":\n",
    "        p_value = stats.norm.cdf(test_stat)\n",
    "    if test_type == \"upper\":\n",
    "        p_value = 1 - stats.norm.cdf(test_stat)\n",
    "    if test_type == \"two\":\n",
    "        p_value = 2 * (1 - stats.norm.cdf(abs(test_stat)))\n",
    "    print(f'P Value: {p_value}')\n",
    "    if p_value < sig_level:\n",
    "        print(f'Results are significant. Reject the Null.')\n",
    "    else:\n",
    "        print(f'Results are not significant. Fail to reject the Null.')"
   ]
  },
  {
   "cell_type": "code",
   "execution_count": 234,
   "metadata": {},
   "outputs": [
    {
     "name": "stdout",
     "output_type": "stream",
     "text": [
      "P Value: 2.1569487120200693e-16\n",
      "Results are significant. Reject the Null.\n"
     ]
    },
    {
     "data": {
      "text/plain": [
       "array([13.4123523 , 16.00261604, 13.12898379, 16.07679179, 14.4117946 ,\n",
       "       14.66148428, 14.76372638, 13.57238182, 13.50446095, 13.70927731,\n",
       "       14.60591478, 14.04934314, 15.61953582, 14.80210315, 13.47667631,\n",
       "       14.19945379, 14.60029363, 13.94764941, 15.22564751, 16.05494602,\n",
       "       15.2155292 , 15.10589307, 14.20595206, 15.32527451, 15.3486012 ,\n",
       "       15.49088069, 14.96101182, 15.78390845, 15.69135854, 15.1813089 ,\n",
       "       13.43855185, 15.13585649, 15.34065271, 15.32532549, 16.06841107,\n",
       "       17.61167817, 15.53306111, 14.68449833, 13.93312297, 16.49766685,\n",
       "       14.4733908 , 13.80715938, 13.29181434, 15.65566109, 14.206531  ,\n",
       "       15.08675364, 14.88870737, 15.87156265, 13.76111602, 15.76972761])"
      ]
     },
     "execution_count": 234,
     "metadata": {},
     "output_type": "execute_result"
    }
   ],
   "source": [
    "#np.random.seed(12345)\n",
    "data1 = np.random.normal(15, 1, 50)\n",
    "z_test(data1, 1, 16, 0.05, 'lower')\n",
    "data1"
   ]
  },
  {
   "cell_type": "code",
   "execution_count": 242,
   "metadata": {},
   "outputs": [
    {
     "name": "stdout",
     "output_type": "stream",
     "text": [
      "P Value: 9.121406963075174e-10\n",
      "Results are significant. Reject the Null.\n"
     ]
    }
   ],
   "source": [
    "z_test(data1, 1, 14, 0.05, 'upper')"
   ]
  },
  {
   "cell_type": "code",
   "execution_count": 243,
   "metadata": {},
   "outputs": [
    {
     "name": "stdout",
     "output_type": "stream",
     "text": [
      "P Value: 0.2899000851066498\n",
      "Results are not significant. Fail to reject the Null.\n"
     ]
    }
   ],
   "source": [
    "z_test(data1, 1, 15, 0.05, 'two')"
   ]
  },
  {
   "cell_type": "code",
   "execution_count": 247,
   "metadata": {},
   "outputs": [
    {
     "data": {
      "text/plain": [
       "(1.93454148164361, 0.026523293494118718)"
      ]
     },
     "execution_count": 247,
     "metadata": {},
     "output_type": "execute_result"
    }
   ],
   "source": [
    "results = prop.proportions_ztest(193, 350, 0.5, alternative = 'larger')\n",
    "results"
   ]
  },
  {
   "cell_type": "code",
   "execution_count": 249,
   "metadata": {},
   "outputs": [],
   "source": [
    "# 2- Sample T-Test / A-B Testing\n",
    "# Exercise 9.09: A-B Testing example\n",
    "np.random.seed(16172)\n",
    "sample1 = np.random.normal(50, 10, 100)\n",
    "sample2 = np.random.normal(100, 10, 100)"
   ]
  },
  {
   "cell_type": "code",
   "execution_count": 250,
   "metadata": {},
   "outputs": [
    {
     "data": {
      "text/plain": [
       "Ttest_indResult(statistic=-33.72952277672986, pvalue=6.3445365508664585e-84)"
      ]
     },
     "execution_count": 250,
     "metadata": {},
     "output_type": "execute_result"
    }
   ],
   "source": [
    "# 3.\n",
    "two_tail = stats.ttest_ind(sample1, sample2, equal_var=False)\n",
    "two_tail"
   ]
  },
  {
   "cell_type": "code",
   "execution_count": 252,
   "metadata": {},
   "outputs": [
    {
     "data": {
      "text/plain": [
       "Ttest_indResult(statistic=33.72952277672986, pvalue=6.3445365508664585e-84)"
      ]
     },
     "execution_count": 252,
     "metadata": {},
     "output_type": "execute_result"
    }
   ],
   "source": [
    "upper_tail = stats.ttest_ind(sample2, sample1, equal_var=False)\n",
    "upper_tail"
   ]
  },
  {
   "cell_type": "code",
   "execution_count": 275,
   "metadata": {},
   "outputs": [],
   "source": [
    "# Introduction To Linear Regression\n",
    "# Exercise 9.10: Linear Regression\n",
    "import sklearn.linear_model as lm\n",
    "from mpl_toolkits import mplot3d\n",
    "\n",
    "import statsmodels.api as sm      \n"
   ]
  },
  {
   "cell_type": "code",
   "execution_count": 261,
   "metadata": {},
   "outputs": [
    {
     "data": {
      "text/html": [
       "<div>\n",
       "<style scoped>\n",
       "    .dataframe tbody tr th:only-of-type {\n",
       "        vertical-align: middle;\n",
       "    }\n",
       "\n",
       "    .dataframe tbody tr th {\n",
       "        vertical-align: top;\n",
       "    }\n",
       "\n",
       "    .dataframe thead th {\n",
       "        text-align: right;\n",
       "    }\n",
       "</style>\n",
       "<table border=\"1\" class=\"dataframe\">\n",
       "  <thead>\n",
       "    <tr style=\"text-align: right;\">\n",
       "      <th></th>\n",
       "      <th>fixed acidity</th>\n",
       "      <th>volatile acidity</th>\n",
       "      <th>citric acid</th>\n",
       "      <th>residual sugar</th>\n",
       "      <th>chlorides</th>\n",
       "      <th>free sulfur dioxide</th>\n",
       "      <th>total sulfur dioxide</th>\n",
       "      <th>density</th>\n",
       "      <th>pH</th>\n",
       "      <th>sulphates</th>\n",
       "      <th>alcohol</th>\n",
       "      <th>quality</th>\n",
       "    </tr>\n",
       "  </thead>\n",
       "  <tbody>\n",
       "    <tr>\n",
       "      <th>0</th>\n",
       "      <td>7.4</td>\n",
       "      <td>0.70</td>\n",
       "      <td>0.00</td>\n",
       "      <td>1.9</td>\n",
       "      <td>0.076</td>\n",
       "      <td>11.0</td>\n",
       "      <td>34.0</td>\n",
       "      <td>0.9978</td>\n",
       "      <td>3.51</td>\n",
       "      <td>0.56</td>\n",
       "      <td>9.4</td>\n",
       "      <td>5</td>\n",
       "    </tr>\n",
       "    <tr>\n",
       "      <th>1</th>\n",
       "      <td>7.8</td>\n",
       "      <td>0.88</td>\n",
       "      <td>0.00</td>\n",
       "      <td>2.6</td>\n",
       "      <td>0.098</td>\n",
       "      <td>25.0</td>\n",
       "      <td>67.0</td>\n",
       "      <td>0.9968</td>\n",
       "      <td>3.20</td>\n",
       "      <td>0.68</td>\n",
       "      <td>9.8</td>\n",
       "      <td>5</td>\n",
       "    </tr>\n",
       "    <tr>\n",
       "      <th>2</th>\n",
       "      <td>7.8</td>\n",
       "      <td>0.76</td>\n",
       "      <td>0.04</td>\n",
       "      <td>2.3</td>\n",
       "      <td>0.092</td>\n",
       "      <td>15.0</td>\n",
       "      <td>54.0</td>\n",
       "      <td>0.9970</td>\n",
       "      <td>3.26</td>\n",
       "      <td>0.65</td>\n",
       "      <td>9.8</td>\n",
       "      <td>5</td>\n",
       "    </tr>\n",
       "    <tr>\n",
       "      <th>3</th>\n",
       "      <td>11.2</td>\n",
       "      <td>0.28</td>\n",
       "      <td>0.56</td>\n",
       "      <td>1.9</td>\n",
       "      <td>0.075</td>\n",
       "      <td>17.0</td>\n",
       "      <td>60.0</td>\n",
       "      <td>0.9980</td>\n",
       "      <td>3.16</td>\n",
       "      <td>0.58</td>\n",
       "      <td>9.8</td>\n",
       "      <td>6</td>\n",
       "    </tr>\n",
       "    <tr>\n",
       "      <th>4</th>\n",
       "      <td>7.4</td>\n",
       "      <td>0.70</td>\n",
       "      <td>0.00</td>\n",
       "      <td>1.9</td>\n",
       "      <td>0.076</td>\n",
       "      <td>11.0</td>\n",
       "      <td>34.0</td>\n",
       "      <td>0.9978</td>\n",
       "      <td>3.51</td>\n",
       "      <td>0.56</td>\n",
       "      <td>9.4</td>\n",
       "      <td>5</td>\n",
       "    </tr>\n",
       "  </tbody>\n",
       "</table>\n",
       "</div>"
      ],
      "text/plain": [
       "   fixed acidity  volatile acidity  citric acid  residual sugar  chlorides  \\\n",
       "0            7.4              0.70         0.00             1.9      0.076   \n",
       "1            7.8              0.88         0.00             2.6      0.098   \n",
       "2            7.8              0.76         0.04             2.3      0.092   \n",
       "3           11.2              0.28         0.56             1.9      0.075   \n",
       "4            7.4              0.70         0.00             1.9      0.076   \n",
       "\n",
       "   free sulfur dioxide  total sulfur dioxide  density    pH  sulphates  \\\n",
       "0                 11.0                  34.0   0.9978  3.51       0.56   \n",
       "1                 25.0                  67.0   0.9968  3.20       0.68   \n",
       "2                 15.0                  54.0   0.9970  3.26       0.65   \n",
       "3                 17.0                  60.0   0.9980  3.16       0.58   \n",
       "4                 11.0                  34.0   0.9978  3.51       0.56   \n",
       "\n",
       "   alcohol  quality  \n",
       "0      9.4        5  \n",
       "1      9.8        5  \n",
       "2      9.8        5  \n",
       "3      9.8        6  \n",
       "4      9.4        5  "
      ]
     },
     "execution_count": 261,
     "metadata": {},
     "output_type": "execute_result"
    }
   ],
   "source": [
    "# 1. \n",
    "data = pd.read_csv(\"./winequality-red.csv\", header = 0, sep = \";\")\n",
    "data.head()"
   ]
  },
  {
   "cell_type": "code",
   "execution_count": 276,
   "metadata": {},
   "outputs": [
    {
     "data": {
      "text/html": [
       "<table class=\"simpletable\">\n",
       "<caption>OLS Regression Results</caption>\n",
       "<tr>\n",
       "  <th>Dep. Variable:</th>           <td>pH</td>        <th>  R-squared (uncentered):</th>      <td>   0.634</td>\n",
       "</tr>\n",
       "<tr>\n",
       "  <th>Model:</th>                   <td>OLS</td>       <th>  Adj. R-squared (uncentered):</th> <td>   0.634</td>\n",
       "</tr>\n",
       "<tr>\n",
       "  <th>Method:</th>             <td>Least Squares</td>  <th>  F-statistic:       </th>          <td>   2772.</td>\n",
       "</tr>\n",
       "<tr>\n",
       "  <th>Date:</th>             <td>Fri, 19 Feb 2021</td> <th>  Prob (F-statistic):</th>           <td>  0.00</td> \n",
       "</tr>\n",
       "<tr>\n",
       "  <th>Time:</th>                 <td>06:41:02</td>     <th>  Log-Likelihood:    </th>          <td> -3380.8</td>\n",
       "</tr>\n",
       "<tr>\n",
       "  <th>No. Observations:</th>      <td>  1599</td>      <th>  AIC:               </th>          <td>   6764.</td>\n",
       "</tr>\n",
       "<tr>\n",
       "  <th>Df Residuals:</th>          <td>  1598</td>      <th>  BIC:               </th>          <td>   6769.</td>\n",
       "</tr>\n",
       "<tr>\n",
       "  <th>Df Model:</th>              <td>     1</td>      <th>                     </th>              <td> </td>   \n",
       "</tr>\n",
       "<tr>\n",
       "  <th>Covariance Type:</th>      <td>nonrobust</td>    <th>                     </th>              <td> </td>   \n",
       "</tr>\n",
       "</table>\n",
       "<table class=\"simpletable\">\n",
       "<tr>\n",
       "       <td></td>          <th>coef</th>     <th>std err</th>      <th>t</th>      <th>P>|t|</th>  <th>[0.025</th>    <th>0.975]</th>  \n",
       "</tr>\n",
       "<tr>\n",
       "  <th>citric acid</th> <td>    7.9114</td> <td>    0.150</td> <td>   52.649</td> <td> 0.000</td> <td>    7.617</td> <td>    8.206</td>\n",
       "</tr>\n",
       "</table>\n",
       "<table class=\"simpletable\">\n",
       "<tr>\n",
       "  <th>Omnibus:</th>       <td>129.025</td> <th>  Durbin-Watson:     </th> <td>   0.915</td>\n",
       "</tr>\n",
       "<tr>\n",
       "  <th>Prob(Omnibus):</th> <td> 0.000</td>  <th>  Jarque-Bera (JB):  </th> <td>  62.411</td>\n",
       "</tr>\n",
       "<tr>\n",
       "  <th>Skew:</th>          <td>-0.305</td>  <th>  Prob(JB):          </th> <td>2.80e-14</td>\n",
       "</tr>\n",
       "<tr>\n",
       "  <th>Kurtosis:</th>      <td> 2.248</td>  <th>  Cond. No.          </th> <td>    1.00</td>\n",
       "</tr>\n",
       "</table><br/><br/>Notes:<br/>[1] R² is computed without centering (uncentered) since the model does not contain a constant.<br/>[2] Standard Errors assume that the covariance matrix of the errors is correctly specified."
      ],
      "text/plain": [
       "<class 'statsmodels.iolib.summary.Summary'>\n",
       "\"\"\"\n",
       "                                 OLS Regression Results                                \n",
       "=======================================================================================\n",
       "Dep. Variable:                     pH   R-squared (uncentered):                   0.634\n",
       "Model:                            OLS   Adj. R-squared (uncentered):              0.634\n",
       "Method:                 Least Squares   F-statistic:                              2772.\n",
       "Date:                Fri, 19 Feb 2021   Prob (F-statistic):                        0.00\n",
       "Time:                        06:41:02   Log-Likelihood:                         -3380.8\n",
       "No. Observations:                1599   AIC:                                      6764.\n",
       "Df Residuals:                    1598   BIC:                                      6769.\n",
       "Df Model:                           1                                                  \n",
       "Covariance Type:            nonrobust                                                  \n",
       "===============================================================================\n",
       "                  coef    std err          t      P>|t|      [0.025      0.975]\n",
       "-------------------------------------------------------------------------------\n",
       "citric acid     7.9114      0.150     52.649      0.000       7.617       8.206\n",
       "==============================================================================\n",
       "Omnibus:                      129.025   Durbin-Watson:                   0.915\n",
       "Prob(Omnibus):                  0.000   Jarque-Bera (JB):               62.411\n",
       "Skew:                          -0.305   Prob(JB):                     2.80e-14\n",
       "Kurtosis:                       2.248   Cond. No.                         1.00\n",
       "==============================================================================\n",
       "\n",
       "Notes:\n",
       "[1] R² is computed without centering (uncentered) since the model does not contain a constant.\n",
       "[2] Standard Errors assume that the covariance matrix of the errors is correctly specified.\n",
       "\"\"\""
      ]
     },
     "execution_count": 276,
     "metadata": {},
     "output_type": "execute_result"
    },
    {
     "data": {
      "image/png": "[encoded data removed]",
      "text/plain": [
       "<Figure size 432x288 with 1 Axes>"
      ]
     },
     "metadata": {
      "needs_background": "light"
     },
     "output_type": "display_data"
    }
   ],
   "source": [
    "# 2.\n",
    "data1 = data[['pH', 'citric acid']]\n",
    "plt.scatter(x = data1['citric acid'], y = data1['pH'])\n",
    "\n",
    "x = data1[['citric acid']]\n",
    "y = data1[['pH']]\n",
    "\n",
    "x_train1 = sm.add_constant(x)\n",
    "lm_1 = sm.OLS(y, x).fit()\n",
    "lm_1.summary()"
   ]
  },
  {
   "cell_type": "code",
   "execution_count": 270,
   "metadata": {},
   "outputs": [
    {
     "data": {
      "image/png": "[encoded data removed]",
      "text/plain": [
       "<Figure size 432x288 with 1 Axes>"
      ]
     },
     "metadata": {
      "needs_background": "light"
     },
     "output_type": "display_data"
    }
   ],
   "source": [
    "# 3.\n",
    "model = lm.LinearRegression()\n",
    "model.fit(x, y)\n",
    "\n",
    "plt.scatter(x, y, color = 'g')\n",
    "plt.plot(x, model.predict(x), color = 'k')\n",
    "plt.show()"
   ]
  },
  {
   "cell_type": "code",
   "execution_count": 277,
   "metadata": {},
   "outputs": [
    {
     "data": {
      "text/html": [
       "<table class=\"simpletable\">\n",
       "<caption>OLS Regression Results</caption>\n",
       "<tr>\n",
       "  <th>Dep. Variable:</th>           <td>pH</td>        <th>  R-squared (uncentered):</th>      <td>   0.806</td>\n",
       "</tr>\n",
       "<tr>\n",
       "  <th>Model:</th>                   <td>OLS</td>       <th>  Adj. R-squared (uncentered):</th> <td>   0.806</td>\n",
       "</tr>\n",
       "<tr>\n",
       "  <th>Method:</th>             <td>Least Squares</td>  <th>  F-statistic:       </th>          <td>   3312.</td>\n",
       "</tr>\n",
       "<tr>\n",
       "  <th>Date:</th>             <td>Fri, 19 Feb 2021</td> <th>  Prob (F-statistic):</th>           <td>  0.00</td> \n",
       "</tr>\n",
       "<tr>\n",
       "  <th>Time:</th>                 <td>06:42:02</td>     <th>  Log-Likelihood:    </th>          <td> -2875.0</td>\n",
       "</tr>\n",
       "<tr>\n",
       "  <th>No. Observations:</th>      <td>  1599</td>      <th>  AIC:               </th>          <td>   5754.</td>\n",
       "</tr>\n",
       "<tr>\n",
       "  <th>Df Residuals:</th>          <td>  1597</td>      <th>  BIC:               </th>          <td>   5765.</td>\n",
       "</tr>\n",
       "<tr>\n",
       "  <th>Df Model:</th>              <td>     2</td>      <th>                     </th>              <td> </td>   \n",
       "</tr>\n",
       "<tr>\n",
       "  <th>Covariance Type:</th>      <td>nonrobust</td>    <th>                     </th>              <td> </td>   \n",
       "</tr>\n",
       "</table>\n",
       "<table class=\"simpletable\">\n",
       "<tr>\n",
       "         <td></td>           <th>coef</th>     <th>std err</th>      <th>t</th>      <th>P>|t|</th>  <th>[0.025</th>    <th>0.975]</th>  \n",
       "</tr>\n",
       "<tr>\n",
       "  <th>citric acid</th>    <td>    3.2386</td> <td>    0.166</td> <td>   19.532</td> <td> 0.000</td> <td>    2.913</td> <td>    3.564</td>\n",
       "</tr>\n",
       "<tr>\n",
       "  <th>residual sugar</th> <td>    0.7154</td> <td>    0.019</td> <td>   37.544</td> <td> 0.000</td> <td>    0.678</td> <td>    0.753</td>\n",
       "</tr>\n",
       "</table>\n",
       "<table class=\"simpletable\">\n",
       "<tr>\n",
       "  <th>Omnibus:</th>       <td>925.324</td> <th>  Durbin-Watson:     </th> <td>   1.280</td> \n",
       "</tr>\n",
       "<tr>\n",
       "  <th>Prob(Omnibus):</th> <td> 0.000</td>  <th>  Jarque-Bera (JB):  </th> <td>11114.151</td>\n",
       "</tr>\n",
       "<tr>\n",
       "  <th>Skew:</th>          <td>-2.485</td>  <th>  Prob(JB):          </th> <td>    0.00</td> \n",
       "</tr>\n",
       "<tr>\n",
       "  <th>Kurtosis:</th>      <td>14.921</td>  <th>  Cond. No.          </th> <td>    13.3</td> \n",
       "</tr>\n",
       "</table><br/><br/>Notes:<br/>[1] R² is computed without centering (uncentered) since the model does not contain a constant.<br/>[2] Standard Errors assume that the covariance matrix of the errors is correctly specified."
      ],
      "text/plain": [
       "<class 'statsmodels.iolib.summary.Summary'>\n",
       "\"\"\"\n",
       "                                 OLS Regression Results                                \n",
       "=======================================================================================\n",
       "Dep. Variable:                     pH   R-squared (uncentered):                   0.806\n",
       "Model:                            OLS   Adj. R-squared (uncentered):              0.806\n",
       "Method:                 Least Squares   F-statistic:                              3312.\n",
       "Date:                Fri, 19 Feb 2021   Prob (F-statistic):                        0.00\n",
       "Time:                        06:42:02   Log-Likelihood:                         -2875.0\n",
       "No. Observations:                1599   AIC:                                      5754.\n",
       "Df Residuals:                    1597   BIC:                                      5765.\n",
       "Df Model:                           2                                                  \n",
       "Covariance Type:            nonrobust                                                  \n",
       "==================================================================================\n",
       "                     coef    std err          t      P>|t|      [0.025      0.975]\n",
       "----------------------------------------------------------------------------------\n",
       "citric acid        3.2386      0.166     19.532      0.000       2.913       3.564\n",
       "residual sugar     0.7154      0.019     37.544      0.000       0.678       0.753\n",
       "==============================================================================\n",
       "Omnibus:                      925.324   Durbin-Watson:                   1.280\n",
       "Prob(Omnibus):                  0.000   Jarque-Bera (JB):            11114.151\n",
       "Skew:                          -2.485   Prob(JB):                         0.00\n",
       "Kurtosis:                      14.921   Cond. No.                         13.3\n",
       "==============================================================================\n",
       "\n",
       "Notes:\n",
       "[1] R² is computed without centering (uncentered) since the model does not contain a constant.\n",
       "[2] Standard Errors assume that the covariance matrix of the errors is correctly specified.\n",
       "\"\"\""
      ]
     },
     "execution_count": 277,
     "metadata": {},
     "output_type": "execute_result"
    }
   ],
   "source": [
    "# 4\n",
    "data2 = data[['pH', 'citric acid', 'residual sugar']]\n",
    "\n",
    "y = data2[['pH']]\n",
    "x = data2[['citric acid', 'residual sugar']]\n",
    "\n",
    "model = lm.LinearRegression()\n",
    "model.fit(x, y)\n",
    "\n",
    "y_pred = model.predict(x)\n",
    "\n",
    "x_train1 = sm.add_constant(x)\n",
    "lm_1 = sm.OLS(y, x).fit()\n",
    "lm_1.summary()"
   ]
  },
  {
   "cell_type": "code",
   "execution_count": 272,
   "metadata": {},
   "outputs": [
    {
     "data": {
      "image/png": "[encoded data removed]",
      "text/plain": [
       "<Figure size 432x288 with 1 Axes>"
      ]
     },
     "metadata": {
      "needs_background": "light"
     },
     "output_type": "display_data"
    }
   ],
   "source": [
    "threedee = plt.figure().gca(projection='3d')\n",
    "threedee.scatter(data2['citric acid'],\n",
    "data2['residual sugar'],data2['pH'])\n",
    "threedee.set_xlabel('citric acid')\n",
    "threedee.set_ylabel('residual sugar')\n",
    "threedee.set_zlabel('pH')\n",
    "xline = np.linspace(0, 1, 100)\n",
    "yline = np.linspace(0, 16, 100)\n",
    "zline = xline*(-0.429) + yline*(-0.000877)+3.430\n",
    "threedee.plot3D(xline, yline, zline, 'red')\n",
    "plt.show()"
   ]
  },
  {
   "cell_type": "code",
   "execution_count": 308,
   "metadata": {},
   "outputs": [],
   "source": [
    "# Activity 9.01: Standardized Test Performance\n",
    "data = pd.read_csv(\"./pisa_test_scores.csv\")\n",
    "import seaborn as sns"
   ]
  },
  {
   "cell_type": "code",
   "execution_count": 309,
   "metadata": {},
   "outputs": [
    {
     "name": "stdout",
     "output_type": "stream",
     "text": [
      "  Country Code  internet_users_per_100      Math   Reading   Science\n",
      "0          ALB               63.252933  413.1570  405.2588  427.2250\n",
      "1          ARE               90.500000  427.4827  433.5423  436.7311\n",
      "2          ARG               68.043064  409.0333  425.3031  432.2262\n",
      "3          AUS               84.560519  493.8962  502.9006  509.9939\n",
      "4          AUT               83.940142  496.7423  484.8656  495.0375\n",
      "       internet_users_per_100        Math     Reading     Science\n",
      "count               70.000000   70.000000   70.000000   70.000000\n",
      "mean                71.973099  460.971557  460.997291  465.439093\n",
      "std                 16.390632   53.327205   49.502679   48.397254\n",
      "min                 21.976068  327.702000  346.549000  331.638800\n",
      "25%                 60.899020  417.416075  426.948625  425.923375\n",
      "50%                 72.999350  477.607150  480.199850  475.400050\n",
      "75%                 85.026763  500.482925  499.687475  502.431250\n",
      "max                 98.200000  564.189700  535.100200  555.574700\n",
      "<class 'pandas.core.frame.DataFrame'>\n",
      "RangeIndex: 70 entries, 0 to 69\n",
      "Data columns (total 5 columns):\n",
      " #   Column                  Non-Null Count  Dtype  \n",
      "---  ------                  --------------  -----  \n",
      " 0   Country Code            70 non-null     object \n",
      " 1   internet_users_per_100  70 non-null     float64\n",
      " 2   Math                    70 non-null     float64\n",
      " 3   Reading                 70 non-null     float64\n",
      " 4   Science                 70 non-null     float64\n",
      "dtypes: float64(4), object(1)\n",
      "memory usage: 2.9+ KB\n",
      "None\n"
     ]
    }
   ],
   "source": [
    "#1.\n",
    "print(data.head())\n",
    "print(data.describe())\n",
    "print(data.info())"
   ]
  },
  {
   "cell_type": "code",
   "execution_count": 296,
   "metadata": {},
   "outputs": [
    {
     "data": {
      "text/plain": [
       "array([<AxesSubplot:title={'center':'Science'}>], dtype=object)"
      ]
     },
     "execution_count": 296,
     "metadata": {},
     "output_type": "execute_result"
    },
    {
     "data": {
      "image/png": "[encoded data removed]",
      "text/plain": [
       "<Figure size 432x288 with 3 Axes>"
      ]
     },
     "metadata": {
      "needs_background": "light"
     },
     "output_type": "display_data"
    }
   ],
   "source": [
    "datax = data[['Math', 'Reading', 'Science']]\n",
    "fig, axes = plt.subplots(1, 3)\n",
    "\n",
    "datax.hist('Math', bins=30, ax=axes[0])\n",
    "datax.hist('Reading', bins=30, ax=axes[1])\n",
    "datax.hist('Science', bins=30, ax=axes[2])"
   ]
  },
  {
   "cell_type": "code",
   "execution_count": 297,
   "metadata": {},
   "outputs": [
    {
     "name": "stdout",
     "output_type": "stream",
     "text": [
      "The 0.95 z confidence interval: 448.2561338314995, 473.6869804542148\n",
      "The 0.95 z confidence interval: 449.1937943789569, 472.80078847818595\n",
      "The 0.95 z confidence interval: 453.8991748650865, 476.9790108491992\n"
     ]
    },
    {
     "data": {
      "text/plain": [
       "(453.8991748650865, 476.9790108491992)"
      ]
     },
     "execution_count": 297,
     "metadata": {},
     "output_type": "execute_result"
    }
   ],
   "source": [
    "# Small sample confidence intervals\n",
    "def t_confidence_interval(data, con_lvl):\n",
    "    sample_mean = st.mean(data)\n",
    "    sd = st.stdev(data)\n",
    "    n = len(data)\n",
    "    \n",
    "    crit_value = stats.t.ppf(((1 - con_lvl) / 2) + con_lvl, n - 1)\n",
    "    low = sample_mean - (crit_value * (sd / math.sqrt(n)))\n",
    "    high = sample_mean + (crit_value * (sd / math.sqrt(n)))\n",
    "    \n",
    "    print(f'The {con_lvl} z confidence interval: {low}, {high}')\n",
    "    return (low, high)\n",
    "\n",
    "t_confidence_interval(data['Math'], 0.95)\n",
    "t_confidence_interval(data['Reading'], 0.95)\n",
    "t_confidence_interval(data['Science'], 0.95)"
   ]
  },
  {
   "cell_type": "code",
   "execution_count": 305,
   "metadata": {},
   "outputs": [
    {
     "name": "stdout",
     "output_type": "stream",
     "text": [
      "3.6040958108257892\n",
      "0.0036618262642996464\n",
      "3.8196670837378237\n",
      "0.0028727977455195778\n",
      "2.734488895919944\n",
      "0.01425936325938158\n"
     ]
    }
   ],
   "source": [
    "# 2.\n",
    "data1 = data[data['internet_users_per_100'] > 50]\n",
    "data2 = data[data['internet_users_per_100'] <= 50]\n",
    "\n",
    "math_test_results = stats.ttest_ind(data1['Math'], data2['Math'], equal_var = False)\n",
    "print(math_test_results.statistic)\n",
    "print(math_test_results.pvalue / 2)\n",
    "\n",
    "reading_test_results = stats.ttest_ind(data1['Reading'], data2['Reading'], equal_var = False)\n",
    "print(reading_test_results.statistic)\n",
    "print(reading_test_results.pvalue / 2)\n",
    "\n",
    "science_test_results = stats.ttest_ind(data1['Science'], data2['Science'], equal_var = False)\n",
    "print(science_test_results.statistic)\n",
    "print(science_test_results.pvalue / 2)"
   ]
  },
  {
   "cell_type": "code",
   "execution_count": 313,
   "metadata": {},
   "outputs": [
    {
     "name": "stdout",
     "output_type": "stream",
     "text": [
      "[0.0516567  1.02301989]\n",
      "-38.99549267679231\n"
     ]
    }
   ],
   "source": [
    "# 3.\n",
    "import sklearn.linear_model as lm\n",
    "\n",
    "\n",
    "x = data[['Reading', 'Science']]\n",
    "y = data['Math']\n",
    "\n",
    "model = lm.LinearRegression()\n",
    "model.fit(x, y)\n",
    "\n",
    "y_pred = model.predict(x)\n",
    "\n",
    "print(model.coef_)\n",
    "print(model.intercept_)\n"
   ]
  },
  {
   "cell_type": "code",
   "execution_count": 314,
   "metadata": {},
   "outputs": [
    {
     "data": {
      "image/png": "[encoded data removed]",
      "text/plain": [
       "<Figure size 432x288 with 1 Axes>"
      ]
     },
     "metadata": {
      "needs_background": "light"
     },
     "output_type": "display_data"
    }
   ],
   "source": [
    "threedee = plt.figure().gca(projection='3d')\n",
    "threedee.scatter(data['Science'], data['Reading'],\\\n",
    "data['Math'])\n",
    "threedee.set_xlabel('Science Score')\n",
    "threedee.set_ylabel('Reading Score')\n",
    "threedee.set_zlabel('Math Score')\n",
    "xline = np.linspace(0, 600, 600)\n",
    "yline = np.linspace(0, 600, 600)\n",
    "zline = xline*1.02301989 + \\\n",
    "yline*0.0516567-38.99549267679242\n",
    "threedee.plot3D(xline, yline, zline, 'red')\n",
    "plt.show()"
   ]
  }
 ],
 "metadata": {
  "kernelspec": {
   "display_name": "Python 3",
   "language": "python",
   "name": "python3"
  },
  "language_info": {
   "codemirror_mode": {
    "name": "ipython",
    "version": 3
   },
   "file_extension": ".py",
   "mimetype": "text/x-python",
   "name": "python",
   "nbconvert_exporter": "python",
   "pygments_lexer": "ipython3",
   "version": "3.8.5"
  }
 },
 "nbformat": 4,
 "nbformat_minor": 4
}
