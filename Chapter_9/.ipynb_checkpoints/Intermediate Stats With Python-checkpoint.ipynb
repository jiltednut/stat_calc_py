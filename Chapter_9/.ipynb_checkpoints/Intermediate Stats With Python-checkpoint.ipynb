{
 "cells": [
  {
   "cell_type": "code",
   "execution_count": 5,
   "metadata": {},
   "outputs": [],
   "source": [
    "import pandas as pd\n",
    "import numpy as np\n",
    "import matplotlib.pyplot as plt\n",
    "import scipy.stats as stats\n",
    "import random"
   ]
  },
  {
   "cell_type": "code",
   "execution_count": 6,
   "metadata": {},
   "outputs": [],
   "source": [
    "# Exercise 9.01: The law of large numbers\n",
    "# 1.\n",
    "random.seed(54321)"
   ]
  },
  {
   "cell_type": "code",
   "execution_count": 33,
   "metadata": {},
   "outputs": [],
   "source": [
    "# 2.\n",
    "sample_size = 1000"
   ]
  },
  {
   "cell_type": "code",
   "execution_count": 35,
   "metadata": {},
   "outputs": [],
   "source": [
    "# 3.\n",
    "random.seed(54321)\n",
    "result_list = [random.randint(0, 1) for i in range(sample_size)]"
   ]
  },
  {
   "cell_type": "code",
   "execution_count": 36,
   "metadata": {},
   "outputs": [],
   "source": [
    "# 4.\n",
    "num_heads = sum(result_list)\n",
    "avg_heads = float(num_heads) / sample_size"
   ]
  },
  {
   "cell_type": "code",
   "execution_count": 37,
   "metadata": {},
   "outputs": [
    {
     "name": "stdout",
     "output_type": "stream",
     "text": [
      "Results: 492 heads out of 1000 flips\n",
      "Average number of heads per flip is 0.492.\n"
     ]
    }
   ],
   "source": [
    "# 5.\n",
    "print(f'Results: {num_heads} heads out of {sample_size} flips')\n",
    "print(f'Average number of heads per flip is {avg_heads}.')"
   ]
  },
  {
   "cell_type": "code",
   "execution_count": 38,
   "metadata": {},
   "outputs": [],
   "source": [
    "# Exercise 9.02 - Coin flipping average over time\n",
    "# 2.\n",
    "sample_size = 20000"
   ]
  },
  {
   "cell_type": "code",
   "execution_count": 40,
   "metadata": {},
   "outputs": [],
   "source": [
    "# 3.\n",
    "num_heads = 0\n",
    "heads_list = []\n",
    "trials_list = []\n",
    "freq_list = []"
   ]
  },
  {
   "cell_type": "code",
   "execution_count": 41,
   "metadata": {},
   "outputs": [],
   "source": [
    "# 4.\n",
    "for i in range(1, sample_size + 1):\n",
    "    result = random.randint(0, 1)\n",
    "    if result == 1:\n",
    "        num_heads += 1\n",
    "    avg_heads = float(num_heads) / i\n",
    "    heads_list.append(num_heads)\n",
    "    trials_list.append(i)\n",
    "    freq_list.append(avg_heads)"
   ]
  },
  {
   "cell_type": "code",
   "execution_count": 43,
   "metadata": {},
   "outputs": [
    {
     "name": "stdout",
     "output_type": "stream",
     "text": [
      "Results: 10001 heads out of 20000 flips\n",
      "Average number of heads per flip is 0.50005.\n"
     ]
    }
   ],
   "source": [
    "# 5.\n",
    "print(f'Results: {num_heads} heads out of {sample_size} flips')\n",
    "print(f'Average number of heads per flip is {avg_heads}.')"
   ]
  },
  {
   "cell_type": "code",
   "execution_count": 47,
   "metadata": {},
   "outputs": [
    {
     "data": {
      "image/png": "[encoded data removed]",
      "text/plain": [
       "<Figure size 432x288 with 1 Axes>"
      ]
     },
     "metadata": {
      "needs_background": "light"
     },
     "output_type": "display_data"
    }
   ],
   "source": [
    "# 6.\n",
    "plt.plot(trials_list, freq_list)\n",
    "plt.ylabel(\"Sample Average\")\n",
    "plt.xlabel(\"Sample Size\")\n",
    "plt.hlines(0.5, 0, sample_size, linestyle = \"dashed\")\n",
    "plt.show()"
   ]
  },
  {
   "cell_type": "code",
   "execution_count": 91,
   "metadata": {},
   "outputs": [],
   "source": [
    "# Exercise 9.03: Calculate the average winnings for a game of roulette if we constanly bet on red.\n",
    "# 2.\n",
    "sample_size = 100000\n",
    "bet = 1"
   ]
  },
  {
   "cell_type": "code",
   "execution_count": 97,
   "metadata": {},
   "outputs": [],
   "source": [
    "# 3.\n",
    "net_money = 0\n",
    "wins = 0\n",
    "money_track = []\n",
    "trials_track = []\n",
    "avg_money = []"
   ]
  },
  {
   "cell_type": "code",
   "execution_count": 98,
   "metadata": {},
   "outputs": [],
   "source": [
    "# 4.\n",
    "# random.seed(54321)\n",
    "for i in range(1, sample_size +1):\n",
    "    result = random.randint(1, 38)\n",
    "    if result % 2 == 1 and result != 37:\n",
    "        net_money += bet\n",
    "        wins += 1\n",
    "    else:\n",
    "        net_money -= bet\n",
    "    money_track.append(net_money)\n",
    "    avg_money.append(net_money / i)\n",
    "    trials_track.append(i)"
   ]
  },
  {
   "cell_type": "code",
   "execution_count": 99,
   "metadata": {},
   "outputs": [
    {
     "name": "stdout",
     "output_type": "stream",
     "text": [
      "Won: 47410, average win per game -0.0518\n",
      "Expected return per game -0.05263157894736842\n"
     ]
    }
   ],
   "source": [
    "# 5.\n",
    "print(F'Won: {wins}, average win per game {net_money/sample_size}')\n",
    "print(F'Expected return per game {((18/38)*bet + (20 / 38)*(-bet))}')"
   ]
  },
  {
   "cell_type": "code",
   "execution_count": 100,
   "metadata": {},
   "outputs": [
    {
     "data": {
      "image/png": "[encoded data removed]",
      "text/plain": [
       "<Figure size 432x288 with 1 Axes>"
      ]
     },
     "metadata": {
      "needs_background": "light"
     },
     "output_type": "display_data"
    }
   ],
   "source": [
    "# 6.\n",
    "plt.plot(trials_track, money_track)\n",
    "plt.ylabel(\"Value of winnings\")\n",
    "plt.xlabel(\"No. of Spins\")\n",
    "plt.hlines(((18/38)*bet + (20 / 38)*(-bet)), 0, sample_size, linestyle = \"dashed\")\n",
    "plt.show()"
   ]
  },
  {
   "cell_type": "code",
   "execution_count": 102,
   "metadata": {},
   "outputs": [
    {
     "data": {
      "image/png": "[encoded data removed]",
      "text/plain": [
       "<Figure size 432x288 with 1 Axes>"
      ]
     },
     "metadata": {
      "needs_background": "light"
     },
     "output_type": "display_data"
    }
   ],
   "source": [
    "# 6.\n",
    "plt.plot(trials_track, avg_money)\n",
    "plt.ylabel(\"Value of winnings\")\n",
    "plt.xlabel(\"No. of Spins\")\n",
    "plt.hlines(((18/38)*bet + (20 / 38)*(-bet)), 0, bsample_size, linestyle = \"dashed\")\n",
    "plt.show()"
   ]
  },
  {
   "cell_type": "code",
   "execution_count": 104,
   "metadata": {},
   "outputs": [],
   "source": [
    "# Central Limit Theorem\n",
    "# Exercise 9.04: Showing the sample mean for a uniform distribution\n",
    "# 1.\n",
    "import math"
   ]
  },
  {
   "cell_type": "code",
   "execution_count": 112,
   "metadata": {},
   "outputs": [],
   "source": [
    "# 2.\n",
    "sample_size = 70\n",
    "calc_means = 100000"
   ]
  },
  {
   "cell_type": "code",
   "execution_count": 116,
   "metadata": {},
   "outputs": [],
   "source": [
    "# 3.\n",
    "mean_list = []\n",
    "random.seed(54312)\n",
    "for i in range(calc_means):\n",
    "    sample_list = []\n",
    "    for j in range(sample_size):\n",
    "        sample_list.append(random.randint(0, 50))\n",
    "    sample_mean = sum(sample_list) / sample_size\n",
    "    mean_list.append(sample_mean)"
   ]
  },
  {
   "cell_type": "code",
   "execution_count": 121,
   "metadata": {},
   "outputs": [
    {
     "data": {
      "image/png": "[encoded data removed]",
      "text/plain": [
       "<Figure size 432x288 with 1 Axes>"
      ]
     },
     "metadata": {
      "needs_background": "light"
     },
     "output_type": "display_data"
    }
   ],
   "source": [
    "n, bins, patches = plt.hist(mean_list, math.floor(math.sqrt(calc_means)), density = True, facecolor = 'g', alpha = 0.75)\n",
    "plt.grid(True)\n",
    "\n",
    "mu = 25\n",
    "sigma = math.sqrt((50 ** 2)/ 15)/ math.sqrt(sample_size)\n",
    "x = np.linspace(mu -3 * sigma, mu + 3 * sigma, 100)\n",
    "plt.plot(x, stats.norm.pdf(x, mu, sigma))\n",
    "plt.show()"
   ]
  },
  {
   "cell_type": "code",
   "execution_count": 129,
   "metadata": {},
   "outputs": [],
   "source": [
    "# Exercise 9.05 - Taking a sample from an exponential distribution\n",
    "# 1.\n",
    "sample_size = 50\n",
    "calc_means = 10000"
   ]
  },
  {
   "cell_type": "code",
   "execution_count": 130,
   "metadata": {},
   "outputs": [],
   "source": [
    "# 2.\n",
    "mean_list = []\n",
    "random.seed(54312)\n",
    "for i in range(calc_means):\n",
    "    sample_list = []\n",
    "    for j in range(sample_size):\n",
    "        sample_list.append(np.random.exponential(1))\n",
    "    sample_mean = sum(sample_list) / sample_size\n",
    "    mean_list.append(sample_mean)"
   ]
  },
  {
   "cell_type": "code",
   "execution_count": 131,
   "metadata": {},
   "outputs": [
    {
     "data": {
      "text/plain": [
       "[<matplotlib.lines.Line2D at 0x1ba8ab0c6a0>]"
      ]
     },
     "execution_count": 131,
     "metadata": {},
     "output_type": "execute_result"
    },
    {
     "data": {
      "image/png": "[encoded data removed]",
      "text/plain": [
       "<Figure size 432x288 with 1 Axes>"
      ]
     },
     "metadata": {
      "needs_background": "light"
     },
     "output_type": "display_data"
    }
   ],
   "source": [
    "n, bins, patches = plt.hist(mean_list, math.floor(math.sqrt(calc_means)), density = True, facecolor = 'g', alpha = 0.75)\n",
    "plt.grid(True)\n",
    "\n",
    "mu = 1\n",
    "sigma = 1 / (math.sqrt(sample_size))\n",
    "x = np.linspace(mu -3 * sigma, mu + 3 * sigma, 100)\n",
    "plt.plot(x, stats.norm.pdf(x, mu, sigma))"
   ]
  },
  {
   "cell_type": "code",
   "execution_count": 134,
   "metadata": {},
   "outputs": [],
   "source": [
    "# Confidence Intervals\n",
    "import statistics as st\n",
    "def z_confidence_interval(data, st_dev, con_lvl):\n",
    "    sample_mean = st.mean(data)\n",
    "    n = len(data)\n",
    "    crit_value = stats.norm.ppf(((1 - con_lvl) / 2) + con_lvl)\n",
    "    low = sample_mean - (crit_value * (st_dev / math.sqrt(n)))\n",
    "    high = sample_mean + (crit_value * (st_dev / math.sqrt(n)))\n",
    "    print(f'The {con_lvl} z confidence interval: {low}, {high}')\n",
    "    return (low, high)"
   ]
  },
  {
   "cell_type": "code",
   "execution_count": 136,
   "metadata": {},
   "outputs": [
    {
     "name": "stdout",
     "output_type": "stream",
     "text": [
      "The 0.95 z confidence interval: 3.965845784931483, 6.034154215068517\n"
     ]
    },
    {
     "data": {
      "text/plain": [
       "(3.965845784931483, 6.034154215068517)"
      ]
     },
     "execution_count": 136,
     "metadata": {},
     "output_type": "execute_result"
    }
   ],
   "source": [
    "# Exercis 9.06: Finding the confidence interval of polling figures\n",
    "#2.\n",
    "random.seed(39809)\n",
    "\n",
    "sample_list = []\n",
    "\n",
    "for i in range(30):\n",
    "    sample_list.append(random.randint(0, 10))\n",
    "    \n",
    "z_confidence_interval(sample_list, 2.89, 0.95)"
   ]
  },
  {
   "cell_type": "code",
   "execution_count": null,
   "metadata": {},
   "outputs": [],
   "source": [
    "# Small sample confidence intervals\n"
   ]
  }
 ],
 "metadata": {
  "kernelspec": {
   "display_name": "Python 3",
   "language": "python",
   "name": "python3"
  },
  "language_info": {
   "codemirror_mode": {
    "name": "ipython",
    "version": 3
   },
   "file_extension": ".py",
   "mimetype": "text/x-python",
   "name": "python",
   "nbconvert_exporter": "python",
   "pygments_lexer": "ipython3",
   "version": "3.8.5"
  }
 },
 "nbformat": 4,
 "nbformat_minor": 4
}
