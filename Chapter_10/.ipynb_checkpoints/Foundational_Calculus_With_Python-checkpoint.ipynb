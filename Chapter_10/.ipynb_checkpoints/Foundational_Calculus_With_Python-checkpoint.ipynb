{
 "cells": [
  {
   "cell_type": "code",
   "execution_count": 64,
   "metadata": {},
   "outputs": [],
   "source": [
    "# Writing the derivative\n",
    "def f(x):\n",
    "    return x ** 2"
   ]
  },
  {
   "cell_type": "code",
   "execution_count": 65,
   "metadata": {},
   "outputs": [],
   "source": [
    "def derivative(f, x):\n",
    "    \"\"\"\n",
    "    Returns the value of the derivative o the function at a given x\n",
    "    \"\"\"\n",
    "    delta_x = 1/int(1e6)\n",
    "    return (f(x+delta_x) - f(x))/delta_x"
   ]
  },
  {
   "cell_type": "code",
   "execution_count": 66,
   "metadata": {},
   "outputs": [
    {
     "name": "stdout",
     "output_type": "stream",
     "text": [
      "-3 -5.999999000749767\n",
      "-2 -3.999998999582033\n",
      "-1 -1.999999000079633\n",
      "0 1e-06\n",
      "1 2.0000009999243673\n",
      "2 4.0000010006480125\n",
      "3 6.000001000927568\n"
     ]
    }
   ],
   "source": [
    "for i in range(-3, 4):\n",
    "    print(i, derivative(f, i))"
   ]
  },
  {
   "cell_type": "code",
   "execution_count": 67,
   "metadata": {},
   "outputs": [],
   "source": [
    "# Exercise 10.01: Finding derivatives of other functions\n",
    "# 1.\n",
    "from math import sqrt"
   ]
  },
  {
   "cell_type": "code",
   "execution_count": 68,
   "metadata": {},
   "outputs": [],
   "source": [
    "# 2.\n",
    "def f(x):\n",
    "    return 6 * x**3\n",
    "\n",
    "def g(x):\n",
    "    return sqrt(2*x + 5)\n",
    "\n",
    "def h(x):\n",
    "    return 1/(x - 3)**3"
   ]
  },
  {
   "cell_type": "code",
   "execution_count": 69,
   "metadata": {},
   "outputs": [],
   "source": [
    "# 3.\n",
    "# Deriative function declared above"
   ]
  },
  {
   "cell_type": "code",
   "execution_count": 70,
   "metadata": {},
   "outputs": [
    {
     "name": "stdout",
     "output_type": "stream",
     "text": [
      "71.99996399265274\n",
      "0.30151133101341543\n",
      "-0.18749981253729509\n"
     ]
    }
   ],
   "source": [
    "# 4.\n",
    "print(derivative(f, -2))\n",
    "print(derivative(g, 3))\n",
    "print(derivative(h, 5))"
   ]
  },
  {
   "cell_type": "code",
   "execution_count": 71,
   "metadata": {},
   "outputs": [],
   "source": [
    "# Finding the Equation of the Tangent Line\n",
    "# Exercise 10.01 (b)\n",
    "# 1.\n",
    "def f(x):\n",
    "    return x**3 - 2 * x**2 + 1"
   ]
  },
  {
   "cell_type": "code",
   "execution_count": 72,
   "metadata": {},
   "outputs": [],
   "source": [
    "# 2.\n",
    "def point_slope(m, x, y):\n",
    "    \"\"\"\n",
    "    Finds the y-intercept of a line given its slope m and a point (x,y)\n",
    "    \"\"\"\n",
    "    return y - m*x"
   ]
  },
  {
   "cell_type": "code",
   "execution_count": 73,
   "metadata": {},
   "outputs": [],
   "source": [
    "# 3.\n",
    "def tangent_line(f, x):\n",
    "    \"\"\"\n",
    "    find the equation of the line tangent to f at x.\n",
    "    \"\"\"\n",
    "    m = derivative(f, x)\n",
    "# 4.\n",
    "    y0 = f(x)\n",
    "    b = point_slope(m, x, y0)\n",
    "    print(f'y - {round(m, 2)}x + {round(b, 2)}')\n",
    "    "
   ]
  },
  {
   "cell_type": "code",
   "execution_count": 74,
   "metadata": {},
   "outputs": [
    {
     "name": "stdout",
     "output_type": "stream",
     "text": [
      "y - 2.61x + 1.68\n",
      "y - -1.33x + 1.3\n"
     ]
    }
   ],
   "source": [
    "# 5.\n",
    "for x in [-0.48, 0.67]:\n",
    "    tangent_line(f, x)"
   ]
  },
  {
   "cell_type": "code",
   "execution_count": 75,
   "metadata": {},
   "outputs": [],
   "source": [
    "# Calculating Integrals\n",
    "def f(x):\n",
    "    return x**2"
   ]
  },
  {
   "cell_type": "code",
   "execution_count": 76,
   "metadata": {},
   "outputs": [],
   "source": [
    "def integral(f, a, b, num):\n",
    "    \"\"\"\n",
    "    Returns the sum of num rectangles under f, and between a & b\n",
    "    \"\"\"\n",
    "    width = (b - a) / num # width of each rectangle\n",
    "    area = sum([width * f(a + width * n) for n in range(num)])\n",
    "    return area\n",
    "    "
   ]
  },
  {
   "cell_type": "code",
   "execution_count": 77,
   "metadata": {},
   "outputs": [
    {
     "name": "stdout",
     "output_type": "stream",
     "text": [
      "1 0.0\n",
      "10001 0.33328333999916726\n",
      "20001 0.33330833499989626\n",
      "30001 0.333316667407376\n",
      "40001 0.33332083374998406\n",
      "50001 0.3333233335999935\n",
      "60001 0.3333250001851808\n",
      "70001 0.3333261906122414\n",
      "80001 0.3333270834374963\n",
      "90001 0.33332777786008\n"
     ]
    }
   ],
   "source": [
    "for i in range(1, 100001, 10000):\n",
    "    print(i, integral(f, 0, 1, i))"
   ]
  },
  {
   "cell_type": "code",
   "execution_count": 78,
   "metadata": {},
   "outputs": [],
   "source": [
    "# Using Trapezoids\n",
    "def trap_integral(f,a,b,num):\n",
    "    \"\"\"Returns the sum of num trapezoids\n",
    "    under f between a and b\"\"\"\n",
    "    width = (b-a)/num\n",
    "    area = 0.5*width*(f(a) + f(b) + 2*sum([f(a+width*n) for n in range(1,num)]))\n",
    "    return area"
   ]
  },
  {
   "cell_type": "code",
   "execution_count": 79,
   "metadata": {},
   "outputs": [
    {
     "name": "stdout",
     "output_type": "stream",
     "text": [
      "0.3400000000000001\n"
     ]
    }
   ],
   "source": [
    "print(trap_integral(f,0,1,5))"
   ]
  },
  {
   "cell_type": "code",
   "execution_count": 80,
   "metadata": {},
   "outputs": [],
   "source": [
    "# Exercise 10.02 - Finding the area under a curve\n",
    "# 1.\n",
    "from math import cos,pi\n",
    "def f(x):\n",
    "    return x**3 + 3\n",
    "def g(x):\n",
    "    return 3*cos(x)\n",
    "def h(x):\n",
    "    return ((x**2 - 1)*(x**2+1))/x**2"
   ]
  },
  {
   "cell_type": "code",
   "execution_count": 81,
   "metadata": {},
   "outputs": [
    {
     "name": "stdout",
     "output_type": "stream",
     "text": [
      "46.75017499999999\n",
      "2.1213094390731206\n",
      "18.416792708494786\n"
     ]
    }
   ],
   "source": [
    "# 2.\n",
    "print(trap_integral(f,3,4,100))\n",
    "print(trap_integral(g,0,pi/4,100))\n",
    "print(trap_integral(h,2,4,100))"
   ]
  },
  {
   "cell_type": "code",
   "execution_count": 82,
   "metadata": {},
   "outputs": [],
   "source": [
    "# Using Integrals to solve applied problems\n",
    "from math import sqrt, pi"
   ]
  },
  {
   "cell_type": "code",
   "execution_count": 83,
   "metadata": {},
   "outputs": [],
   "source": [
    "def f(x):\n",
    "    return sqrt(x)"
   ]
  },
  {
   "cell_type": "code",
   "execution_count": 84,
   "metadata": {},
   "outputs": [],
   "source": [
    "def vol_solid(f, a, b):\n",
    "    volume = 0\n",
    "    num = 100000\n",
    "    width = (b-a) / num\n",
    "    for i in range(num):\n",
    "        vol = pi * (f(a + i*width))**2 * width\n",
    "        volume += vol\n",
    "    return volume"
   ]
  },
  {
   "cell_type": "code",
   "execution_count": 85,
   "metadata": {},
   "outputs": [
    {
     "name": "stdout",
     "output_type": "stream",
     "text": [
      "1.5707806188316287\n"
     ]
    }
   ],
   "source": [
    "print(vol_solid(f, 0, 1))"
   ]
  },
  {
   "cell_type": "code",
   "execution_count": 86,
   "metadata": {},
   "outputs": [],
   "source": [
    "# Exercise 10.03 - Finding the volume of a solid of revolution"
   ]
  },
  {
   "cell_type": "code",
   "execution_count": 87,
   "metadata": {},
   "outputs": [],
   "source": [
    "# 1.\n",
    "def f(x):\n",
    "    return 4 - 4*x**2\n",
    "\n",
    "def g(x):\n",
    "    return 1 - x**2\n",
    "\n",
    "def h(x):\n",
    "    return f(x)**2 - g(x)**2"
   ]
  },
  {
   "cell_type": "code",
   "execution_count": 88,
   "metadata": {},
   "outputs": [],
   "source": [
    "# 2.\n",
    "def vol_solid(f, a, b):\n",
    "    volume = 0\n",
    "    num = 10000\n",
    "    width = (b-a)/num\n",
    "    for i in range(num):\n",
    "# 3.\n",
    "        vol = pi * (f(a + i * width)) * width\n",
    "        volume += vol\n",
    "    return volume \n",
    "    "
   ]
  },
  {
   "cell_type": "code",
   "execution_count": 89,
   "metadata": {},
   "outputs": [
    {
     "name": "stdout",
     "output_type": "stream",
     "text": [
      "50.26548245743666\n"
     ]
    }
   ],
   "source": [
    "# 4.\n",
    "print(vol_solid(h, -1, 1))"
   ]
  },
  {
   "cell_type": "code",
   "execution_count": 90,
   "metadata": {},
   "outputs": [],
   "source": [
    "# Using derivatives to solved optimization problems\n",
    "def f(x): \n",
    "    return x**3 - 2.8*x**2 + 1.2*x + 0.85"
   ]
  },
  {
   "cell_type": "code",
   "execution_count": 93,
   "metadata": {},
   "outputs": [],
   "source": [
    "def find_max_mins(f, start, stop, step = 0.001):\n",
    "    x = start\n",
    "    deriv = derivative(f, x)\n",
    "    while x < stop:\n",
    "        x += step\n",
    "        newderiv = derivative(f, x)\n",
    "        if newderiv == 0 or deriv * newderiv <0:\n",
    "            print(\"Max/Min at x=\",x,\"y=\",f(x))\n",
    "            deriv = newderiv"
   ]
  },
  {
   "cell_type": "code",
   "execution_count": 94,
   "metadata": {},
   "outputs": [
    {
     "name": "stdout",
     "output_type": "stream",
     "text": [
      "Max/Min at x= 0.247000000113438 y= 0.9906440229999803\n",
      "Max/Min at x= 1.6200000001133703 y= -0.3027919999998646\n"
     ]
    }
   ],
   "source": [
    "find_max_mins(f, -100, 100)"
   ]
  },
  {
   "cell_type": "code",
   "execution_count": 98,
   "metadata": {},
   "outputs": [],
   "source": [
    "# Exercise 10.04: Find the quickest route\n",
    "# 2.\n",
    "def t(x):\n",
    "    return sqrt(x**2 + 36)/3 + (9 - x) / 5"
   ]
  },
  {
   "cell_type": "code",
   "execution_count": 99,
   "metadata": {},
   "outputs": [
    {
     "name": "stdout",
     "output_type": "stream",
     "text": [
      "Max/Min at x= 4.4999999999998375 y= 3.4000000000000004\n"
     ]
    }
   ],
   "source": [
    "# 3.\n",
    "find_max_mins(t, 0, 9)"
   ]
  },
  {
   "cell_type": "code",
   "execution_count": 102,
   "metadata": {},
   "outputs": [],
   "source": [
    "# Exercise 10.05: The Box Problem\n",
    "# 1.\n",
    "def v(x):\n",
    "    return x * (10 - 2*x) * (12 - 2*x)"
   ]
  },
  {
   "cell_type": "code",
   "execution_count": 103,
   "metadata": {},
   "outputs": [
    {
     "name": "stdout",
     "output_type": "stream",
     "text": [
      "Max/Min at x= 1.8109999999999113 y= 96.77057492400002\n"
     ]
    }
   ],
   "source": [
    "# 2.\n",
    "find_max_mins(v, 0, 5)"
   ]
  },
  {
   "cell_type": "code",
   "execution_count": 104,
   "metadata": {},
   "outputs": [],
   "source": [
    "# Exercise 10.06 - The Optimal Can\n",
    "# 1.\n",
    "def surf_area(r):\n",
    "    return pi * (r**2) + 710 / r"
   ]
  },
  {
   "cell_type": "code",
   "execution_count": 106,
   "metadata": {},
   "outputs": [
    {
     "name": "stdout",
     "output_type": "stream",
     "text": [
      "Max/Min at x= 4.834999999999949 y= 220.28763352297025\n"
     ]
    }
   ],
   "source": [
    "find_max_mins(surf_area, 0.1, 10)"
   ]
  },
  {
   "cell_type": "code",
   "execution_count": 107,
   "metadata": {},
   "outputs": [],
   "source": [
    "# Exercise 10.07:\n",
    "def d(t):\n",
    "    return sqrt((20 - 6*t)**2 + (8*t)**2)"
   ]
  },
  {
   "cell_type": "code",
   "execution_count": 108,
   "metadata": {},
   "outputs": [
    {
     "name": "stdout",
     "output_type": "stream",
     "text": [
      "Max/Min at x= 1.1999999999999786 y= 16.0\n"
     ]
    }
   ],
   "source": [
    "find_max_mins(d, 0, 4)"
   ]
  }
 ],
 "metadata": {
  "kernelspec": {
   "display_name": "Python 3",
   "language": "python",
   "name": "python3"
  },
  "language_info": {
   "codemirror_mode": {
    "name": "ipython",
    "version": 3
   },
   "file_extension": ".py",
   "mimetype": "text/x-python",
   "name": "python",
   "nbconvert_exporter": "python",
   "pygments_lexer": "ipython3",
   "version": "3.8.5"
  }
 },
 "nbformat": 4,
 "nbformat_minor": 4
}
