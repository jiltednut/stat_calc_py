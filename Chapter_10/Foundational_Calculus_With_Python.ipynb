{
 "cells": [
  {
   "cell_type": "code",
   "execution_count": 1,
   "metadata": {},
   "outputs": [],
   "source": [
    "# Writing the derivative\n",
    "def f(x):\n",
    "    return x ** 2"
   ]
  },
  {
   "cell_type": "code",
   "execution_count": 23,
   "metadata": {},
   "outputs": [],
   "source": [
    "def derivative(f, x):\n",
    "    \"\"\"\n",
    "    Returns the value of the derivative o the function at a given x\n",
    "    \"\"\"\n",
    "    delta_x = 1/int(1e6)\n",
    "    return (f(x+delta_x) - f(x))/delta_x"
   ]
  },
  {
   "cell_type": "code",
   "execution_count": 11,
   "metadata": {},
   "outputs": [
    {
     "name": "stdout",
     "output_type": "stream",
     "text": [
      "-3 -5.998999999999199\n",
      "-2 -3.9989999999994197\n",
      "-1 -1.998999999999973\n",
      "0 0.001\n",
      "1 2.0009999999996975\n",
      "2 4.000999999999699\n",
      "3 6.000999999999479\n"
     ]
    }
   ],
   "source": [
    "for i in range(-3, 4):\n",
    "    print(i, derivative(f, i))"
   ]
  },
  {
   "cell_type": "code",
   "execution_count": 14,
   "metadata": {},
   "outputs": [],
   "source": [
    "# Exercise 10.01: Finding derivatives of other functions\n",
    "# 1.\n",
    "from math import sqrt"
   ]
  },
  {
   "cell_type": "code",
   "execution_count": 15,
   "metadata": {},
   "outputs": [],
   "source": [
    "# 2.\n",
    "def f(x):\n",
    "    return 6 * x**3\n",
    "\n",
    "def g(x):\n",
    "    return sqrt(2*x + 5)\n",
    "\n",
    "def h(x):\n",
    "    return 1/(x - 3)**3"
   ]
  },
  {
   "cell_type": "code",
   "execution_count": 16,
   "metadata": {},
   "outputs": [],
   "source": [
    "# 3.\n",
    "# Deriative function declared above"
   ]
  },
  {
   "cell_type": "code",
   "execution_count": 17,
   "metadata": {},
   "outputs": [
    {
     "name": "stdout",
     "output_type": "stream",
     "text": [
      "71.96400599999464\n",
      "0.3014976407622605\n",
      "-0.18731265613294856\n"
     ]
    }
   ],
   "source": [
    "# 4.\n",
    "print(derivative(f, -2))\n",
    "print(derivative(g, 3))\n",
    "print(derivative(h, 5))"
   ]
  },
  {
   "cell_type": "code",
   "execution_count": 19,
   "metadata": {},
   "outputs": [],
   "source": [
    "# Finding the Equation of the Tangent Line\n",
    "# Exercise 10.01 (b)\n",
    "# 1.\n",
    "def f(x):\n",
    "    return x**3 - 2 * x**2 + 1"
   ]
  },
  {
   "cell_type": "code",
   "execution_count": 20,
   "metadata": {},
   "outputs": [],
   "source": [
    "# 2.\n",
    "def point_slope(m, x, y):\n",
    "    \"\"\"\n",
    "    Finds the y-intercept of a line given its slope m and a point (x,y)\n",
    "    \"\"\"\n",
    "    return y - m*x"
   ]
  },
  {
   "cell_type": "code",
   "execution_count": 28,
   "metadata": {},
   "outputs": [],
   "source": [
    "# 3.\n",
    "def tangent_line(f, x):\n",
    "    \"\"\"\n",
    "    find the equation of the line tangent to f at x.\n",
    "    \"\"\"\n",
    "    m = derivative(f, x)\n",
    "# 4.\n",
    "    y0 = f(x)\n",
    "    b = point_slope(m, x, y0)\n",
    "    print(f'y - {round(m, 2)}x + {round(b, 2)}')\n",
    "    "
   ]
  },
  {
   "cell_type": "code",
   "execution_count": 29,
   "metadata": {},
   "outputs": [
    {
     "name": "stdout",
     "output_type": "stream",
     "text": [
      "y - 2.61x + 1.68\n",
      "y - -1.33x + 1.3\n"
     ]
    }
   ],
   "source": [
    "# 5.\n",
    "for x in [-0.48, 0.67]:\n",
    "    tangent_line(f, x)"
   ]
  },
  {
   "cell_type": "code",
   "execution_count": 30,
   "metadata": {},
   "outputs": [],
   "source": [
    "# Calculating Integrals\n",
    "def f(x):\n",
    "    return x**2"
   ]
  },
  {
   "cell_type": "code",
   "execution_count": 31,
   "metadata": {},
   "outputs": [],
   "source": [
    "def integral(f, a, b, num):\n",
    "    \"\"\"\n",
    "    Returns the sum of num rectangles under f, and between a & b\n",
    "    \"\"\"\n",
    "    width = (b - a) / num # width of each rectangle\n",
    "    area = sum([width * f(a + width * n) for n in range(num)])\n",
    "    return area\n",
    "    "
   ]
  },
  {
   "cell_type": "code",
   "execution_count": 38,
   "metadata": {},
   "outputs": [
    {
     "name": "stdout",
     "output_type": "stream",
     "text": [
      "1 0.0\n",
      "10001 0.33328333999916726\n",
      "20001 0.33330833499989626\n",
      "30001 0.333316667407376\n",
      "40001 0.33332083374998406\n",
      "50001 0.3333233335999935\n",
      "60001 0.3333250001851808\n",
      "70001 0.3333261906122414\n",
      "80001 0.3333270834374963\n",
      "90001 0.33332777786008\n"
     ]
    }
   ],
   "source": [
    "for i in range(1, 100001, 10000):\n",
    "    print(i, integral(f, 0, 1, i))"
   ]
  },
  {
   "cell_type": "code",
   "execution_count": null,
   "metadata": {},
   "outputs": [],
   "source": [
    "# Using Trapezoids\n"
   ]
  }
 ],
 "metadata": {
  "kernelspec": {
   "display_name": "Python 3",
   "language": "python",
   "name": "python3"
  },
  "language_info": {
   "codemirror_mode": {
    "name": "ipython",
    "version": 3
   },
   "file_extension": ".py",
   "mimetype": "text/x-python",
   "name": "python",
   "nbconvert_exporter": "python",
   "pygments_lexer": "ipython3",
   "version": "3.8.5"
  }
 },
 "nbformat": 4,
 "nbformat_minor": 4
}
